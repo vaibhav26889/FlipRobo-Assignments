{
 "cells": [
  {
   "cell_type": "code",
   "execution_count": 40,
   "metadata": {},
   "outputs": [
    {
     "name": "stdout",
     "output_type": "stream",
     "text": [
      "Requirement already satisfied: selenium in c:\\programdata\\anaconda3\\lib\\site-packages (3.141.0)\n",
      "Requirement already satisfied: urllib3 in c:\\programdata\\anaconda3\\lib\\site-packages (from selenium) (1.25.8)\n"
     ]
    }
   ],
   "source": [
    "!pip install selenium"
   ]
  },
  {
   "cell_type": "code",
   "execution_count": 41,
   "metadata": {},
   "outputs": [],
   "source": [
    "import pandas as pd\n",
    "import selenium\n",
    "from selenium import webdriver"
   ]
  },
  {
   "cell_type": "code",
   "execution_count": 469,
   "metadata": {},
   "outputs": [],
   "source": [
    "driver=webdriver.Chrome(r'C:\\Users\\chromedriver')"
   ]
  },
  {
   "cell_type": "code",
   "execution_count": 66,
   "metadata": {},
   "outputs": [],
   "source": [
    "# Question number 1's solution below"
   ]
  },
  {
   "cell_type": "code",
   "execution_count": 43,
   "metadata": {},
   "outputs": [],
   "source": [
    "driver.get('https://www.naukri.com/')"
   ]
  },
  {
   "cell_type": "code",
   "execution_count": 44,
   "metadata": {},
   "outputs": [],
   "source": [
    "#Finding elements for search bar\n",
    "search_job=driver.find_element_by_id(\"qsb-keyword-sugg\")\n",
    "search_job.send_keys('Data Analyst')\n",
    "search_location=driver.find_element_by_id('qsb-location-sugg')\n",
    "search_location.send_keys('Bangalore')"
   ]
  },
  {
   "cell_type": "code",
   "execution_count": 45,
   "metadata": {},
   "outputs": [],
   "source": [
    "# Now we need to click on the search button\n",
    "search_button=driver.find_element_by_xpath('//div[@class=\"search-btn\"]')\n",
    "search_button.click()"
   ]
  },
  {
   "cell_type": "code",
   "execution_count": 46,
   "metadata": {},
   "outputs": [],
   "source": [
    "# To create the empty lists\n",
    "job_title=[] \n",
    "job_location=[] \n",
    "company_name=[]\n",
    "experience_required=[]"
   ]
  },
  {
   "cell_type": "code",
   "execution_count": 57,
   "metadata": {},
   "outputs": [
    {
     "data": {
      "text/plain": [
       "[<selenium.webdriver.remote.webelement.WebElement (session=\"8e7e08428523797c5c158b2d7b5dedb0\", element=\"ad0454f7-5c7a-4555-8fe1-f46b122173c9\")>,\n",
       " <selenium.webdriver.remote.webelement.WebElement (session=\"8e7e08428523797c5c158b2d7b5dedb0\", element=\"051882ca-aae9-46c6-a2ff-b4eebb75edf7\")>,\n",
       " <selenium.webdriver.remote.webelement.WebElement (session=\"8e7e08428523797c5c158b2d7b5dedb0\", element=\"8aa3a581-6799-4b15-9caa-cb75584a7d6c\")>,\n",
       " <selenium.webdriver.remote.webelement.WebElement (session=\"8e7e08428523797c5c158b2d7b5dedb0\", element=\"00bf2ab8-0d76-4822-b2e5-20d55879c7da\")>]"
      ]
     },
     "execution_count": 57,
     "metadata": {},
     "output_type": "execute_result"
    }
   ],
   "source": [
    "# To extract the data with Job Titles\n",
    "title_tags=driver.find_elements_by_xpath('//a[@class=\"title fw500 ellipsis\"]')\n",
    "title_tags[0:4]"
   ]
  },
  {
   "cell_type": "code",
   "execution_count": 58,
   "metadata": {},
   "outputs": [
    {
     "data": {
      "text/plain": [
       "['Fresher Data Engineer / Data Scientist / Data Analyst Requirements',\n",
       " 'Immediate opening For Data Scientist/Data Analyst',\n",
       " 'Business Data Analyst',\n",
       " 'SAS AML Data Analyst / Trainee & Data Science, Python Trainee']"
      ]
     },
     "execution_count": 58,
     "metadata": {},
     "output_type": "execute_result"
    }
   ],
   "source": [
    "for i in title_tags:\n",
    "    title=i.text\n",
    "    job_title.append(title)\n",
    "job_title[0:4]"
   ]
  },
  {
   "cell_type": "code",
   "execution_count": 59,
   "metadata": {},
   "outputs": [
    {
     "data": {
      "text/plain": [
       "[<selenium.webdriver.remote.webelement.WebElement (session=\"8e7e08428523797c5c158b2d7b5dedb0\", element=\"3a5c6bf0-7b87-4c8f-953e-769e8d38a201\")>,\n",
       " <selenium.webdriver.remote.webelement.WebElement (session=\"8e7e08428523797c5c158b2d7b5dedb0\", element=\"b41c8893-6bf3-44c2-8b1c-9553c4c5c8c9\")>,\n",
       " <selenium.webdriver.remote.webelement.WebElement (session=\"8e7e08428523797c5c158b2d7b5dedb0\", element=\"409d2dca-7d7e-4899-8823-ebb7172917fe\")>,\n",
       " <selenium.webdriver.remote.webelement.WebElement (session=\"8e7e08428523797c5c158b2d7b5dedb0\", element=\"244482f2-014e-4b28-8fe8-84eb4de2ee90\")>]"
      ]
     },
     "execution_count": 59,
     "metadata": {},
     "output_type": "execute_result"
    }
   ],
   "source": [
    "#To extract elements with job location\n",
    "loc_tags=driver.find_elements_by_xpath('//li[@class=\"fleft grey-text br2 placeHolderLi location\"]')\n",
    "loc_tags[0:4]"
   ]
  },
  {
   "cell_type": "code",
   "execution_count": 60,
   "metadata": {},
   "outputs": [
    {
     "data": {
      "text/plain": [
       "['Delhi NCR, Bengaluru, Hyderabad',\n",
       " 'Chennai, Pune, Bengaluru, Hyderabad',\n",
       " 'Bengaluru',\n",
       " 'Bengaluru(Whitefield)']"
      ]
     },
     "execution_count": 60,
     "metadata": {},
     "output_type": "execute_result"
    }
   ],
   "source": [
    "for i in loc_tags:\n",
    "    location=i.text\n",
    "    job_location.append(location)\n",
    "    \n",
    "job_location[0:4]"
   ]
  },
  {
   "cell_type": "code",
   "execution_count": 61,
   "metadata": {},
   "outputs": [
    {
     "data": {
      "text/plain": [
       "[<selenium.webdriver.remote.webelement.WebElement (session=\"8e7e08428523797c5c158b2d7b5dedb0\", element=\"b282f846-f3d8-4bd1-bb22-ec9265f5edea\")>,\n",
       " <selenium.webdriver.remote.webelement.WebElement (session=\"8e7e08428523797c5c158b2d7b5dedb0\", element=\"3648e5fb-b557-4403-874d-14617a1a95f7\")>,\n",
       " <selenium.webdriver.remote.webelement.WebElement (session=\"8e7e08428523797c5c158b2d7b5dedb0\", element=\"13587057-2840-455d-aa7f-065dfe5903e8\")>,\n",
       " <selenium.webdriver.remote.webelement.WebElement (session=\"8e7e08428523797c5c158b2d7b5dedb0\", element=\"1c0ff2a5-00bd-4591-a3f8-df248932a33f\")>]"
      ]
     },
     "execution_count": 61,
     "metadata": {},
     "output_type": "execute_result"
    }
   ],
   "source": [
    "# To extract the elements with Company Name\n",
    "comp_tags=driver.find_elements_by_xpath('//a[@class=\"subTitle ellipsis fleft\"]')\n",
    "comp_tags[0:4]"
   ]
  },
  {
   "cell_type": "code",
   "execution_count": 62,
   "metadata": {},
   "outputs": [
    {
     "data": {
      "text/plain": [
       "['ACHYUTAS SOFT PRIVATE LIMITED',\n",
       " 'CAIA-Center For Artificial Intelligence & Advanced Analytics',\n",
       " 'NetApp',\n",
       " 'MagicBase Royal BD Pvt Ltd']"
      ]
     },
     "execution_count": 62,
     "metadata": {},
     "output_type": "execute_result"
    }
   ],
   "source": [
    "for i in comp_tags:\n",
    "    comp=i.text\n",
    "    company_name.append(comp)\n",
    "company_name[0:4]"
   ]
  },
  {
   "cell_type": "code",
   "execution_count": 53,
   "metadata": {},
   "outputs": [
    {
     "data": {
      "text/plain": [
       "[<selenium.webdriver.remote.webelement.WebElement (session=\"8e7e08428523797c5c158b2d7b5dedb0\", element=\"f8185675-c3af-4971-8a36-5115d9b460da\")>,\n",
       " <selenium.webdriver.remote.webelement.WebElement (session=\"8e7e08428523797c5c158b2d7b5dedb0\", element=\"64400513-e64a-4365-a589-2f9a1fc5f497\")>,\n",
       " <selenium.webdriver.remote.webelement.WebElement (session=\"8e7e08428523797c5c158b2d7b5dedb0\", element=\"b47827ba-b7d8-41cd-9e53-5c2ad9861650\")>,\n",
       " <selenium.webdriver.remote.webelement.WebElement (session=\"8e7e08428523797c5c158b2d7b5dedb0\", element=\"994836f2-dcc3-4f93-bfa7-1c9f822e3be7\")>]"
      ]
     },
     "execution_count": 53,
     "metadata": {},
     "output_type": "execute_result"
    }
   ],
   "source": [
    "# To extact the Element with the exp required\n",
    "exp_tags=driver.find_elements_by_xpath('//li[@class=\"fleft grey-text br2 placeHolderLi experience\"]')\n",
    "exp_tags[0:4]"
   ]
  },
  {
   "cell_type": "code",
   "execution_count": 54,
   "metadata": {},
   "outputs": [
    {
     "data": {
      "text/plain": [
       "['0-2 Yrs', '0-3 Yrs', '2-3 Yrs', '0-5 Yrs']"
      ]
     },
     "execution_count": 54,
     "metadata": {},
     "output_type": "execute_result"
    }
   ],
   "source": [
    "for i in exp_tags:\n",
    "    exp=i.text\n",
    "    experience_required.append(exp)\n",
    "experience_required[0:4]"
   ]
  },
  {
   "cell_type": "code",
   "execution_count": 63,
   "metadata": {},
   "outputs": [
    {
     "name": "stdout",
     "output_type": "stream",
     "text": [
      "20 20 20 20\n"
     ]
    }
   ],
   "source": [
    "# To check the length of elements required\n",
    "print(len(job_title),len(job_location),len(company_name),len(experience_required))"
   ]
  },
  {
   "cell_type": "code",
   "execution_count": 64,
   "metadata": {},
   "outputs": [],
   "source": [
    "jobs=pd.DataFrame({})\n",
    "jobs['Title']=job_title\n",
    "jobs['Location']=job_location\n",
    "jobs['Company']=company_name\n",
    "jobs['Experience Needed']=experience_required"
   ]
  },
  {
   "cell_type": "code",
   "execution_count": 65,
   "metadata": {},
   "outputs": [
    {
     "data": {
      "text/html": [
       "<div>\n",
       "<style scoped>\n",
       "    .dataframe tbody tr th:only-of-type {\n",
       "        vertical-align: middle;\n",
       "    }\n",
       "\n",
       "    .dataframe tbody tr th {\n",
       "        vertical-align: top;\n",
       "    }\n",
       "\n",
       "    .dataframe thead th {\n",
       "        text-align: right;\n",
       "    }\n",
       "</style>\n",
       "<table border=\"1\" class=\"dataframe\">\n",
       "  <thead>\n",
       "    <tr style=\"text-align: right;\">\n",
       "      <th></th>\n",
       "      <th>Title</th>\n",
       "      <th>Location</th>\n",
       "      <th>Company</th>\n",
       "      <th>Experience Needed</th>\n",
       "    </tr>\n",
       "  </thead>\n",
       "  <tbody>\n",
       "    <tr>\n",
       "      <th>0</th>\n",
       "      <td>Fresher Data Engineer / Data Scientist / Data ...</td>\n",
       "      <td>Delhi NCR, Bengaluru, Hyderabad</td>\n",
       "      <td>ACHYUTAS SOFT PRIVATE LIMITED</td>\n",
       "      <td>0-2 Yrs</td>\n",
       "    </tr>\n",
       "    <tr>\n",
       "      <th>1</th>\n",
       "      <td>Immediate opening For Data Scientist/Data Analyst</td>\n",
       "      <td>Chennai, Pune, Bengaluru, Hyderabad</td>\n",
       "      <td>CAIA-Center For Artificial Intelligence &amp; Adva...</td>\n",
       "      <td>0-3 Yrs</td>\n",
       "    </tr>\n",
       "    <tr>\n",
       "      <th>2</th>\n",
       "      <td>Business Data Analyst</td>\n",
       "      <td>Bengaluru</td>\n",
       "      <td>NetApp</td>\n",
       "      <td>2-3 Yrs</td>\n",
       "    </tr>\n",
       "    <tr>\n",
       "      <th>3</th>\n",
       "      <td>SAS AML Data Analyst / Trainee &amp; Data Science,...</td>\n",
       "      <td>Bengaluru(Whitefield)</td>\n",
       "      <td>MagicBase Royal BD Pvt Ltd</td>\n",
       "      <td>0-5 Yrs</td>\n",
       "    </tr>\n",
       "    <tr>\n",
       "      <th>4</th>\n",
       "      <td>Hiring Data Analysts</td>\n",
       "      <td>Bengaluru</td>\n",
       "      <td>Flipkart Internet Private Limited</td>\n",
       "      <td>2-5 Yrs</td>\n",
       "    </tr>\n",
       "    <tr>\n",
       "      <th>5</th>\n",
       "      <td>Hiring Data Analysts</td>\n",
       "      <td>Bengaluru</td>\n",
       "      <td>Flipkart Internet Private Limited</td>\n",
       "      <td>2-5 Yrs</td>\n",
       "    </tr>\n",
       "    <tr>\n",
       "      <th>6</th>\n",
       "      <td>Data Analyst</td>\n",
       "      <td>Bengaluru, India</td>\n",
       "      <td>GlaxoSmithKline Pharmaceuticals Limited</td>\n",
       "      <td>3-5 Yrs</td>\n",
       "    </tr>\n",
       "    <tr>\n",
       "      <th>7</th>\n",
       "      <td>Study Data Analyst</td>\n",
       "      <td>Bengaluru</td>\n",
       "      <td>GlaxoSmithKline Pharmaceuticals Limited</td>\n",
       "      <td>4-8 Yrs</td>\n",
       "    </tr>\n",
       "    <tr>\n",
       "      <th>8</th>\n",
       "      <td>Data Analyst</td>\n",
       "      <td>Bengaluru</td>\n",
       "      <td>Cognizant Technology Solutions India Ltd</td>\n",
       "      <td>3-4 Yrs</td>\n",
       "    </tr>\n",
       "    <tr>\n",
       "      <th>9</th>\n",
       "      <td>Business Data Analyst | Reinsurance Domain</td>\n",
       "      <td>Bengaluru</td>\n",
       "      <td>Mphasis Limited</td>\n",
       "      <td>10-15 Yrs</td>\n",
       "    </tr>\n",
       "    <tr>\n",
       "      <th>10</th>\n",
       "      <td>Business Data Analyst</td>\n",
       "      <td>Bengaluru</td>\n",
       "      <td>GENPACT India Private Limited</td>\n",
       "      <td>3-6 Yrs</td>\n",
       "    </tr>\n",
       "    <tr>\n",
       "      <th>11</th>\n",
       "      <td>Fresher/Trainee/Internship - Data Analyst/Busi...</td>\n",
       "      <td>Chennai, Bengaluru, Hyderabad</td>\n",
       "      <td>IIBM Institute of Business Management</td>\n",
       "      <td>0-5 Yrs</td>\n",
       "    </tr>\n",
       "    <tr>\n",
       "      <th>12</th>\n",
       "      <td>Data Analyst</td>\n",
       "      <td>Pune, Delhi, Mumbai, Bengaluru, Hyderabad</td>\n",
       "      <td>Thinkbumblebee Analytics Pvt Ltd</td>\n",
       "      <td>3-6 Yrs</td>\n",
       "    </tr>\n",
       "    <tr>\n",
       "      <th>13</th>\n",
       "      <td>Hiring For Data Analyst ( Contractual Role)</td>\n",
       "      <td>Bengaluru</td>\n",
       "      <td>Flipkart Internet Private Limited</td>\n",
       "      <td>3-5 Yrs</td>\n",
       "    </tr>\n",
       "    <tr>\n",
       "      <th>14</th>\n",
       "      <td>Global Medical Data Analyst</td>\n",
       "      <td>Bengaluru</td>\n",
       "      <td>GlaxoSmithKline Pharmaceuticals Limited</td>\n",
       "      <td>5-10 Yrs</td>\n",
       "    </tr>\n",
       "    <tr>\n",
       "      <th>15</th>\n",
       "      <td>Hiring|| Data Analyst || Affluent Global servi...</td>\n",
       "      <td>Bengaluru</td>\n",
       "      <td>Affluent Global Services Pvt. Ltd.</td>\n",
       "      <td>4-6 Yrs</td>\n",
       "    </tr>\n",
       "    <tr>\n",
       "      <th>16</th>\n",
       "      <td>Data Analyst</td>\n",
       "      <td>Bengaluru</td>\n",
       "      <td>IBM India Pvt. Limited</td>\n",
       "      <td>5-7 Yrs</td>\n",
       "    </tr>\n",
       "    <tr>\n",
       "      <th>17</th>\n",
       "      <td>Data Analyst (Telcom domain)</td>\n",
       "      <td>Bengaluru</td>\n",
       "      <td>Oracle India Pvt. Ltd.</td>\n",
       "      <td>5-10 Yrs</td>\n",
       "    </tr>\n",
       "    <tr>\n",
       "      <th>18</th>\n",
       "      <td>Retainer/Consultant - Product Manager - Data S...</td>\n",
       "      <td>Bengaluru</td>\n",
       "      <td>Fortune HR Consultant</td>\n",
       "      <td>2-7 Yrs</td>\n",
       "    </tr>\n",
       "    <tr>\n",
       "      <th>19</th>\n",
       "      <td>Sr . Data Analyst - Supporting Audit</td>\n",
       "      <td>Bengaluru</td>\n",
       "      <td>Visa Inc.</td>\n",
       "      <td>1-4 Yrs</td>\n",
       "    </tr>\n",
       "  </tbody>\n",
       "</table>\n",
       "</div>"
      ],
      "text/plain": [
       "                                                Title  \\\n",
       "0   Fresher Data Engineer / Data Scientist / Data ...   \n",
       "1   Immediate opening For Data Scientist/Data Analyst   \n",
       "2                               Business Data Analyst   \n",
       "3   SAS AML Data Analyst / Trainee & Data Science,...   \n",
       "4                                Hiring Data Analysts   \n",
       "5                                Hiring Data Analysts   \n",
       "6                                        Data Analyst   \n",
       "7                                  Study Data Analyst   \n",
       "8                                        Data Analyst   \n",
       "9          Business Data Analyst | Reinsurance Domain   \n",
       "10                              Business Data Analyst   \n",
       "11  Fresher/Trainee/Internship - Data Analyst/Busi...   \n",
       "12                                       Data Analyst   \n",
       "13        Hiring For Data Analyst ( Contractual Role)   \n",
       "14                        Global Medical Data Analyst   \n",
       "15  Hiring|| Data Analyst || Affluent Global servi...   \n",
       "16                                       Data Analyst   \n",
       "17                       Data Analyst (Telcom domain)   \n",
       "18  Retainer/Consultant - Product Manager - Data S...   \n",
       "19               Sr . Data Analyst - Supporting Audit   \n",
       "\n",
       "                                     Location  \\\n",
       "0             Delhi NCR, Bengaluru, Hyderabad   \n",
       "1         Chennai, Pune, Bengaluru, Hyderabad   \n",
       "2                                   Bengaluru   \n",
       "3                       Bengaluru(Whitefield)   \n",
       "4                                   Bengaluru   \n",
       "5                                   Bengaluru   \n",
       "6                            Bengaluru, India   \n",
       "7                                   Bengaluru   \n",
       "8                                   Bengaluru   \n",
       "9                                   Bengaluru   \n",
       "10                                  Bengaluru   \n",
       "11              Chennai, Bengaluru, Hyderabad   \n",
       "12  Pune, Delhi, Mumbai, Bengaluru, Hyderabad   \n",
       "13                                  Bengaluru   \n",
       "14                                  Bengaluru   \n",
       "15                                  Bengaluru   \n",
       "16                                  Bengaluru   \n",
       "17                                  Bengaluru   \n",
       "18                                  Bengaluru   \n",
       "19                                  Bengaluru   \n",
       "\n",
       "                                              Company Experience Needed  \n",
       "0                       ACHYUTAS SOFT PRIVATE LIMITED           0-2 Yrs  \n",
       "1   CAIA-Center For Artificial Intelligence & Adva...           0-3 Yrs  \n",
       "2                                              NetApp           2-3 Yrs  \n",
       "3                          MagicBase Royal BD Pvt Ltd           0-5 Yrs  \n",
       "4                   Flipkart Internet Private Limited           2-5 Yrs  \n",
       "5                   Flipkart Internet Private Limited           2-5 Yrs  \n",
       "6             GlaxoSmithKline Pharmaceuticals Limited           3-5 Yrs  \n",
       "7             GlaxoSmithKline Pharmaceuticals Limited           4-8 Yrs  \n",
       "8            Cognizant Technology Solutions India Ltd           3-4 Yrs  \n",
       "9                                     Mphasis Limited         10-15 Yrs  \n",
       "10                      GENPACT India Private Limited           3-6 Yrs  \n",
       "11              IIBM Institute of Business Management           0-5 Yrs  \n",
       "12                   Thinkbumblebee Analytics Pvt Ltd           3-6 Yrs  \n",
       "13                  Flipkart Internet Private Limited           3-5 Yrs  \n",
       "14            GlaxoSmithKline Pharmaceuticals Limited          5-10 Yrs  \n",
       "15                 Affluent Global Services Pvt. Ltd.           4-6 Yrs  \n",
       "16                             IBM India Pvt. Limited           5-7 Yrs  \n",
       "17                             Oracle India Pvt. Ltd.          5-10 Yrs  \n",
       "18                              Fortune HR Consultant           2-7 Yrs  \n",
       "19                                          Visa Inc.           1-4 Yrs  "
      ]
     },
     "execution_count": 65,
     "metadata": {},
     "output_type": "execute_result"
    }
   ],
   "source": [
    "jobs"
   ]
  },
  {
   "cell_type": "markdown",
   "metadata": {},
   "source": [
    "# Solution number 2 "
   ]
  },
  {
   "cell_type": "code",
   "execution_count": 68,
   "metadata": {},
   "outputs": [],
   "source": [
    "# To open a new link of Naukri.com\n",
    "driver.get(\"https://www.naukri.com/\")"
   ]
  },
  {
   "cell_type": "code",
   "execution_count": 70,
   "metadata": {},
   "outputs": [],
   "source": [
    "search_jobs=driver.find_element_by_id('qsb-keyword-sugg')\n",
    "search_jobs.send_keys('Data Scientist')\n",
    "search_loc=driver.find_element_by_id('qsb-location-sugg')\n",
    "search_loc.send_keys('Bangalore')"
   ]
  },
  {
   "cell_type": "code",
   "execution_count": 71,
   "metadata": {},
   "outputs": [],
   "source": [
    "search_button=driver.find_element_by_xpath('//div[@class=\"search-btn\"]')\n",
    "search_button.click()"
   ]
  },
  {
   "cell_type": "code",
   "execution_count": 72,
   "metadata": {},
   "outputs": [],
   "source": [
    "#Lets create the Empty lists\n",
    "job_title=[]\n",
    "job_location=[]\n",
    "company_name=[]\n",
    "job_description=[]"
   ]
  },
  {
   "cell_type": "code",
   "execution_count": 73,
   "metadata": {},
   "outputs": [
    {
     "data": {
      "text/plain": [
       "[<selenium.webdriver.remote.webelement.WebElement (session=\"8e7e08428523797c5c158b2d7b5dedb0\", element=\"83ff7bbf-d18e-478f-ae85-8a08b94d0782\")>,\n",
       " <selenium.webdriver.remote.webelement.WebElement (session=\"8e7e08428523797c5c158b2d7b5dedb0\", element=\"5944ed4d-0bf9-4b4b-8387-d07f9edafab1\")>,\n",
       " <selenium.webdriver.remote.webelement.WebElement (session=\"8e7e08428523797c5c158b2d7b5dedb0\", element=\"18597e45-8855-433b-9c84-de12aad906fc\")>,\n",
       " <selenium.webdriver.remote.webelement.WebElement (session=\"8e7e08428523797c5c158b2d7b5dedb0\", element=\"5aaea5a3-ca2a-4b83-a179-f2119b84a965\")>]"
      ]
     },
     "execution_count": 73,
     "metadata": {},
     "output_type": "execute_result"
    }
   ],
   "source": [
    "# Extract the elements for job-Title\n",
    "title_tags=driver.find_elements_by_xpath('//a[@class=\"title fw500 ellipsis\"]')\n",
    "title_tags[0:4]"
   ]
  },
  {
   "cell_type": "code",
   "execution_count": 74,
   "metadata": {},
   "outputs": [
    {
     "data": {
      "text/plain": [
       "['Fresher Data Engineer / Data Scientist / Data Analyst Requirements',\n",
       " 'Immediate opening For Data Scientist/Data Analyst',\n",
       " 'Data Scientist - Machine Learning',\n",
       " 'Senior Data Scientist - NLP/ Python/ R']"
      ]
     },
     "execution_count": 74,
     "metadata": {},
     "output_type": "execute_result"
    }
   ],
   "source": [
    "for i in title_tags:\n",
    "    title=i.text\n",
    "    job_title.append(title)\n",
    "    \n",
    "job_title[0:4]"
   ]
  },
  {
   "cell_type": "code",
   "execution_count": 75,
   "metadata": {},
   "outputs": [
    {
     "data": {
      "text/plain": [
       "[<selenium.webdriver.remote.webelement.WebElement (session=\"8e7e08428523797c5c158b2d7b5dedb0\", element=\"a9aadf73-6332-4d15-9062-6ef471bc8a4f\")>,\n",
       " <selenium.webdriver.remote.webelement.WebElement (session=\"8e7e08428523797c5c158b2d7b5dedb0\", element=\"3c50a6e6-a848-4fa3-be47-915522c66a35\")>,\n",
       " <selenium.webdriver.remote.webelement.WebElement (session=\"8e7e08428523797c5c158b2d7b5dedb0\", element=\"82937dba-956b-4e25-903e-533026a7ba18\")>,\n",
       " <selenium.webdriver.remote.webelement.WebElement (session=\"8e7e08428523797c5c158b2d7b5dedb0\", element=\"31b2b59c-eb9e-4e00-9f27-47fc186eb295\")>]"
      ]
     },
     "execution_count": 75,
     "metadata": {},
     "output_type": "execute_result"
    }
   ],
   "source": [
    "# Now lets extract the elements for job-location\n",
    "location_tags=driver.find_elements_by_xpath('//li[@class=\"fleft grey-text br2 placeHolderLi location\"]')\n",
    "location_tags[0:4]"
   ]
  },
  {
   "cell_type": "code",
   "execution_count": 76,
   "metadata": {},
   "outputs": [
    {
     "data": {
      "text/plain": [
       "['Delhi NCR, Bengaluru, Hyderabad',\n",
       " 'Chennai, Pune, Bengaluru, Hyderabad',\n",
       " 'Bengaluru',\n",
       " 'Bengaluru, Hyderabad']"
      ]
     },
     "execution_count": 76,
     "metadata": {},
     "output_type": "execute_result"
    }
   ],
   "source": [
    "for i in location_tags:\n",
    "    loc=i.text\n",
    "    job_location.append(loc)\n",
    "    \n",
    "job_location[0:4]"
   ]
  },
  {
   "cell_type": "code",
   "execution_count": 77,
   "metadata": {},
   "outputs": [
    {
     "data": {
      "text/plain": [
       "[<selenium.webdriver.remote.webelement.WebElement (session=\"8e7e08428523797c5c158b2d7b5dedb0\", element=\"53b678ef-4ab4-4cc6-b964-1a1f89ffd5aa\")>,\n",
       " <selenium.webdriver.remote.webelement.WebElement (session=\"8e7e08428523797c5c158b2d7b5dedb0\", element=\"4ebba67d-4e79-4323-bc39-237d6f7ebb10\")>,\n",
       " <selenium.webdriver.remote.webelement.WebElement (session=\"8e7e08428523797c5c158b2d7b5dedb0\", element=\"a96f188a-d06f-47a4-a82d-f68e8cf6e872\")>,\n",
       " <selenium.webdriver.remote.webelement.WebElement (session=\"8e7e08428523797c5c158b2d7b5dedb0\", element=\"e1a814fa-e024-4e49-a48b-79b091341526\")>]"
      ]
     },
     "execution_count": 77,
     "metadata": {},
     "output_type": "execute_result"
    }
   ],
   "source": [
    "#Lets Extract the element for company name \n",
    "comp_tags=driver.find_elements_by_xpath('//a[@class=\"subTitle ellipsis fleft\"]')\n",
    "comp_tags[0:4]"
   ]
  },
  {
   "cell_type": "code",
   "execution_count": 78,
   "metadata": {},
   "outputs": [
    {
     "data": {
      "text/plain": [
       "['ACHYUTAS SOFT PRIVATE LIMITED',\n",
       " 'CAIA-Center For Artificial Intelligence & Advanced Analytics',\n",
       " 'BLUE YONDER INDIA PRIVATE LIMITED',\n",
       " 'AVI Consulting LLP']"
      ]
     },
     "execution_count": 78,
     "metadata": {},
     "output_type": "execute_result"
    }
   ],
   "source": [
    "for i in comp_tags:\n",
    "    comp=i.text\n",
    "    company_name.append(comp)\n",
    "company_name[0:4]"
   ]
  },
  {
   "cell_type": "code",
   "execution_count": 84,
   "metadata": {},
   "outputs": [
    {
     "data": {
      "text/plain": [
       "[<selenium.webdriver.remote.webelement.WebElement (session=\"8e7e08428523797c5c158b2d7b5dedb0\", element=\"af128a77-c930-4282-8eb0-e22527b01349\")>,\n",
       " <selenium.webdriver.remote.webelement.WebElement (session=\"8e7e08428523797c5c158b2d7b5dedb0\", element=\"9ad56603-bd3d-4d22-a525-20b79976fc6e\")>,\n",
       " <selenium.webdriver.remote.webelement.WebElement (session=\"8e7e08428523797c5c158b2d7b5dedb0\", element=\"b8a44da5-b474-4446-b31d-066abefeb807\")>,\n",
       " <selenium.webdriver.remote.webelement.WebElement (session=\"8e7e08428523797c5c158b2d7b5dedb0\", element=\"2affff9f-31ae-455b-9ed4-7f64c4801b1b\")>]"
      ]
     },
     "execution_count": 84,
     "metadata": {},
     "output_type": "execute_result"
    }
   ],
   "source": [
    "# Lets extract the job Descriptions\n",
    "jd_tags=driver.find_elements_by_xpath('//div[@class=\"job-description fs12 grey-text\"]')\n",
    "jd_tags[0:4]"
   ]
  },
  {
   "cell_type": "code",
   "execution_count": 85,
   "metadata": {},
   "outputs": [
    {
     "data": {
      "text/plain": [
       "['Building and iterating reports (with eventual design collaboration) based around a larg...',\n",
       " 'In case you are trying to shift your career to Analytics and / or AI domain please do c...',\n",
       " 'Experience working with some of the following frameworks and libraries: Pandas, Numpy, ...',\n",
       " 'Experience with application development practices at scale, from problem definition to ...']"
      ]
     },
     "execution_count": 85,
     "metadata": {},
     "output_type": "execute_result"
    }
   ],
   "source": [
    "for i in jd_tags:\n",
    "    jd=i.text\n",
    "    job_description.append(jd)\n",
    "job_description[0:4]"
   ]
  },
  {
   "cell_type": "code",
   "execution_count": 87,
   "metadata": {},
   "outputs": [
    {
     "name": "stdout",
     "output_type": "stream",
     "text": [
      "20 20 20 20\n"
     ]
    }
   ],
   "source": [
    "print(len(job_title),len(job_location),len(company_name),len(job_description))"
   ]
  },
  {
   "cell_type": "code",
   "execution_count": 88,
   "metadata": {},
   "outputs": [
    {
     "data": {
      "text/html": [
       "<div>\n",
       "<style scoped>\n",
       "    .dataframe tbody tr th:only-of-type {\n",
       "        vertical-align: middle;\n",
       "    }\n",
       "\n",
       "    .dataframe tbody tr th {\n",
       "        vertical-align: top;\n",
       "    }\n",
       "\n",
       "    .dataframe thead th {\n",
       "        text-align: right;\n",
       "    }\n",
       "</style>\n",
       "<table border=\"1\" class=\"dataframe\">\n",
       "  <thead>\n",
       "    <tr style=\"text-align: right;\">\n",
       "      <th></th>\n",
       "      <th>Title</th>\n",
       "      <th>Location</th>\n",
       "      <th>Company</th>\n",
       "      <th>Description</th>\n",
       "    </tr>\n",
       "  </thead>\n",
       "  <tbody>\n",
       "    <tr>\n",
       "      <th>0</th>\n",
       "      <td>Fresher Data Engineer / Data Scientist / Data ...</td>\n",
       "      <td>Delhi NCR, Bengaluru, Hyderabad</td>\n",
       "      <td>ACHYUTAS SOFT PRIVATE LIMITED</td>\n",
       "      <td>Building and iterating reports (with eventual ...</td>\n",
       "    </tr>\n",
       "    <tr>\n",
       "      <th>1</th>\n",
       "      <td>Immediate opening For Data Scientist/Data Analyst</td>\n",
       "      <td>Chennai, Pune, Bengaluru, Hyderabad</td>\n",
       "      <td>CAIA-Center For Artificial Intelligence &amp; Adva...</td>\n",
       "      <td>In case you are trying to shift your career to...</td>\n",
       "    </tr>\n",
       "    <tr>\n",
       "      <th>2</th>\n",
       "      <td>Data Scientist - Machine Learning</td>\n",
       "      <td>Bengaluru</td>\n",
       "      <td>BLUE YONDER INDIA PRIVATE LIMITED</td>\n",
       "      <td>Experience working with some of the following ...</td>\n",
       "    </tr>\n",
       "    <tr>\n",
       "      <th>3</th>\n",
       "      <td>Senior Data Scientist - NLP/ Python/ R</td>\n",
       "      <td>Bengaluru, Hyderabad</td>\n",
       "      <td>AVI Consulting LLP</td>\n",
       "      <td>Experience with application development practi...</td>\n",
       "    </tr>\n",
       "    <tr>\n",
       "      <th>4</th>\n",
       "      <td>Senior Data Scientist | CES IT LTD | CMMI Level 5</td>\n",
       "      <td>Chennai, Pune, Delhi NCR, Mumbai, Bengaluru, H...</td>\n",
       "      <td>CES Ltd.</td>\n",
       "      <td>Logical and Analytical skills must be really s...</td>\n",
       "    </tr>\n",
       "    <tr>\n",
       "      <th>5</th>\n",
       "      <td>Senior Data Scientist | CES IT LTD | CMMI Level 5</td>\n",
       "      <td>Chennai, Pune, Delhi NCR, Mumbai, Bengaluru, H...</td>\n",
       "      <td>CES Ltd.</td>\n",
       "      <td>Logical and Analytical skills must be really s...</td>\n",
       "    </tr>\n",
       "    <tr>\n",
       "      <th>6</th>\n",
       "      <td>Artificial Intelligence Analyst/Data Scientist</td>\n",
       "      <td>Mumbai, Bengaluru</td>\n",
       "      <td>TalentCo Search Pvt Ltd</td>\n",
       "      <td>Should have at-least 1 end-to-end ML project e...</td>\n",
       "    </tr>\n",
       "    <tr>\n",
       "      <th>7</th>\n",
       "      <td>Data Scientist</td>\n",
       "      <td>Chennai, Pune, Mumbai, Bengaluru, Hyderabad, K...</td>\n",
       "      <td>Mailkit Private Limited</td>\n",
       "      <td>Candidates might get the opportunity to work f...</td>\n",
       "    </tr>\n",
       "    <tr>\n",
       "      <th>8</th>\n",
       "      <td>Global Medical Data Scientist</td>\n",
       "      <td>Bengaluru, India</td>\n",
       "      <td>GlaxoSmithKline Pharmaceuticals Limited</td>\n",
       "      <td>medical voice of customer feedback, customer l...</td>\n",
       "    </tr>\n",
       "    <tr>\n",
       "      <th>9</th>\n",
       "      <td>Advanced Architect - Data Scientist</td>\n",
       "      <td>Bengaluru</td>\n",
       "      <td>Mphasis Limited</td>\n",
       "      <td>Experience working with enterprise architectur...</td>\n",
       "    </tr>\n",
       "    <tr>\n",
       "      <th>10</th>\n",
       "      <td>AI Resident Data Scientist Stats. Consl.</td>\n",
       "      <td>Bengaluru</td>\n",
       "      <td>Shell India Markets Private Limited</td>\n",
       "      <td>Roles and ResponsibilitiesThe RoleThe world fa...</td>\n",
       "    </tr>\n",
       "    <tr>\n",
       "      <th>11</th>\n",
       "      <td>AI Resident - Data Scientist</td>\n",
       "      <td>Bengaluru</td>\n",
       "      <td>Shell India Markets Private Limited</td>\n",
       "      <td>Preferably expertise Deep Learning, Bayesian L...</td>\n",
       "    </tr>\n",
       "    <tr>\n",
       "      <th>12</th>\n",
       "      <td>AI Resident - Data Scientist - NLP</td>\n",
       "      <td>Bengaluru</td>\n",
       "      <td>Shell India Markets Private Limited</td>\n",
       "      <td>Preferably expertise Deep Learning, Bayesian L...</td>\n",
       "    </tr>\n",
       "    <tr>\n",
       "      <th>13</th>\n",
       "      <td>Data Scientist (ON Contract)</td>\n",
       "      <td>Bengaluru</td>\n",
       "      <td>Sandvik Asia Pvt. Ltd.</td>\n",
       "      <td>The main responsibilities are as follows: Rese...</td>\n",
       "    </tr>\n",
       "    <tr>\n",
       "      <th>14</th>\n",
       "      <td>Data Scientist (ON Contract)</td>\n",
       "      <td>Bengaluru</td>\n",
       "      <td>Sandvik Asia Pvt. Ltd.</td>\n",
       "      <td>The main responsibilities are as follows: Rese...</td>\n",
       "    </tr>\n",
       "    <tr>\n",
       "      <th>15</th>\n",
       "      <td>Principal Data Scientist</td>\n",
       "      <td>Bengaluru</td>\n",
       "      <td>Signify</td>\n",
       "      <td>PhD / Masters / BTech in computer science, com...</td>\n",
       "    </tr>\n",
       "    <tr>\n",
       "      <th>16</th>\n",
       "      <td>Data Scientist</td>\n",
       "      <td>Chennai, Bengaluru, Hyderabad</td>\n",
       "      <td>Virtusa Consulting Services Pvt Ltd</td>\n",
       "      <td>The ideal candidate is an experienced technolo...</td>\n",
       "    </tr>\n",
       "    <tr>\n",
       "      <th>17</th>\n",
       "      <td>Looking For Data scientist - Bangalore</td>\n",
       "      <td>Mumbai, Bengaluru, Hyderabad</td>\n",
       "      <td>Element Infomatics (India) Pvt. Ltd.</td>\n",
       "      <td>Candidate should be:The ideal candidate will c...</td>\n",
       "    </tr>\n",
       "    <tr>\n",
       "      <th>18</th>\n",
       "      <td>Business Analyst - Data Scientist</td>\n",
       "      <td>Bengaluru</td>\n",
       "      <td>ExecBoardinAsia</td>\n",
       "      <td>Candidate must have a strong statistics backgr...</td>\n",
       "    </tr>\n",
       "    <tr>\n",
       "      <th>19</th>\n",
       "      <td>Data Scientist</td>\n",
       "      <td>Bengaluru</td>\n",
       "      <td>Applied Materials</td>\n",
       "      <td>Roles and ResponsibilitiesJob ExpectationsThe ...</td>\n",
       "    </tr>\n",
       "  </tbody>\n",
       "</table>\n",
       "</div>"
      ],
      "text/plain": [
       "                                                Title  \\\n",
       "0   Fresher Data Engineer / Data Scientist / Data ...   \n",
       "1   Immediate opening For Data Scientist/Data Analyst   \n",
       "2                   Data Scientist - Machine Learning   \n",
       "3              Senior Data Scientist - NLP/ Python/ R   \n",
       "4   Senior Data Scientist | CES IT LTD | CMMI Level 5   \n",
       "5   Senior Data Scientist | CES IT LTD | CMMI Level 5   \n",
       "6      Artificial Intelligence Analyst/Data Scientist   \n",
       "7                                      Data Scientist   \n",
       "8                       Global Medical Data Scientist   \n",
       "9                 Advanced Architect - Data Scientist   \n",
       "10           AI Resident Data Scientist Stats. Consl.   \n",
       "11                       AI Resident - Data Scientist   \n",
       "12                 AI Resident - Data Scientist - NLP   \n",
       "13                       Data Scientist (ON Contract)   \n",
       "14                       Data Scientist (ON Contract)   \n",
       "15                           Principal Data Scientist   \n",
       "16                                     Data Scientist   \n",
       "17             Looking For Data scientist - Bangalore   \n",
       "18                  Business Analyst - Data Scientist   \n",
       "19                                     Data Scientist   \n",
       "\n",
       "                                             Location  \\\n",
       "0                     Delhi NCR, Bengaluru, Hyderabad   \n",
       "1                 Chennai, Pune, Bengaluru, Hyderabad   \n",
       "2                                           Bengaluru   \n",
       "3                                Bengaluru, Hyderabad   \n",
       "4   Chennai, Pune, Delhi NCR, Mumbai, Bengaluru, H...   \n",
       "5   Chennai, Pune, Delhi NCR, Mumbai, Bengaluru, H...   \n",
       "6                                   Mumbai, Bengaluru   \n",
       "7   Chennai, Pune, Mumbai, Bengaluru, Hyderabad, K...   \n",
       "8                                    Bengaluru, India   \n",
       "9                                           Bengaluru   \n",
       "10                                          Bengaluru   \n",
       "11                                          Bengaluru   \n",
       "12                                          Bengaluru   \n",
       "13                                          Bengaluru   \n",
       "14                                          Bengaluru   \n",
       "15                                          Bengaluru   \n",
       "16                      Chennai, Bengaluru, Hyderabad   \n",
       "17                       Mumbai, Bengaluru, Hyderabad   \n",
       "18                                          Bengaluru   \n",
       "19                                          Bengaluru   \n",
       "\n",
       "                                              Company  \\\n",
       "0                       ACHYUTAS SOFT PRIVATE LIMITED   \n",
       "1   CAIA-Center For Artificial Intelligence & Adva...   \n",
       "2                   BLUE YONDER INDIA PRIVATE LIMITED   \n",
       "3                                  AVI Consulting LLP   \n",
       "4                                            CES Ltd.   \n",
       "5                                            CES Ltd.   \n",
       "6                             TalentCo Search Pvt Ltd   \n",
       "7                             Mailkit Private Limited   \n",
       "8             GlaxoSmithKline Pharmaceuticals Limited   \n",
       "9                                     Mphasis Limited   \n",
       "10                Shell India Markets Private Limited   \n",
       "11                Shell India Markets Private Limited   \n",
       "12                Shell India Markets Private Limited   \n",
       "13                             Sandvik Asia Pvt. Ltd.   \n",
       "14                             Sandvik Asia Pvt. Ltd.   \n",
       "15                                            Signify   \n",
       "16                Virtusa Consulting Services Pvt Ltd   \n",
       "17               Element Infomatics (India) Pvt. Ltd.   \n",
       "18                                    ExecBoardinAsia   \n",
       "19                                  Applied Materials   \n",
       "\n",
       "                                          Description  \n",
       "0   Building and iterating reports (with eventual ...  \n",
       "1   In case you are trying to shift your career to...  \n",
       "2   Experience working with some of the following ...  \n",
       "3   Experience with application development practi...  \n",
       "4   Logical and Analytical skills must be really s...  \n",
       "5   Logical and Analytical skills must be really s...  \n",
       "6   Should have at-least 1 end-to-end ML project e...  \n",
       "7   Candidates might get the opportunity to work f...  \n",
       "8   medical voice of customer feedback, customer l...  \n",
       "9   Experience working with enterprise architectur...  \n",
       "10  Roles and ResponsibilitiesThe RoleThe world fa...  \n",
       "11  Preferably expertise Deep Learning, Bayesian L...  \n",
       "12  Preferably expertise Deep Learning, Bayesian L...  \n",
       "13  The main responsibilities are as follows: Rese...  \n",
       "14  The main responsibilities are as follows: Rese...  \n",
       "15  PhD / Masters / BTech in computer science, com...  \n",
       "16  The ideal candidate is an experienced technolo...  \n",
       "17  Candidate should be:The ideal candidate will c...  \n",
       "18  Candidate must have a strong statistics backgr...  \n",
       "19  Roles and ResponsibilitiesJob ExpectationsThe ...  "
      ]
     },
     "execution_count": 88,
     "metadata": {},
     "output_type": "execute_result"
    }
   ],
   "source": [
    "jobs=pd.DataFrame({})\n",
    "jobs['Title']=job_title\n",
    "jobs['Location']=job_location\n",
    "jobs['Company']=company_name\n",
    "jobs['Description']=job_description\n",
    "jobs"
   ]
  },
  {
   "cell_type": "code",
   "execution_count": 89,
   "metadata": {},
   "outputs": [
    {
     "data": {
      "text/html": [
       "<div>\n",
       "<style scoped>\n",
       "    .dataframe tbody tr th:only-of-type {\n",
       "        vertical-align: middle;\n",
       "    }\n",
       "\n",
       "    .dataframe tbody tr th {\n",
       "        vertical-align: top;\n",
       "    }\n",
       "\n",
       "    .dataframe thead th {\n",
       "        text-align: right;\n",
       "    }\n",
       "</style>\n",
       "<table border=\"1\" class=\"dataframe\">\n",
       "  <thead>\n",
       "    <tr style=\"text-align: right;\">\n",
       "      <th></th>\n",
       "      <th>Title</th>\n",
       "      <th>Location</th>\n",
       "      <th>Company</th>\n",
       "      <th>Description</th>\n",
       "    </tr>\n",
       "  </thead>\n",
       "  <tbody>\n",
       "    <tr>\n",
       "      <th>0</th>\n",
       "      <td>Fresher Data Engineer / Data Scientist / Data ...</td>\n",
       "      <td>Delhi NCR, Bengaluru, Hyderabad</td>\n",
       "      <td>ACHYUTAS SOFT PRIVATE LIMITED</td>\n",
       "      <td>Building and iterating reports (with eventual ...</td>\n",
       "    </tr>\n",
       "    <tr>\n",
       "      <th>1</th>\n",
       "      <td>Immediate opening For Data Scientist/Data Analyst</td>\n",
       "      <td>Chennai, Pune, Bengaluru, Hyderabad</td>\n",
       "      <td>CAIA-Center For Artificial Intelligence &amp; Adva...</td>\n",
       "      <td>In case you are trying to shift your career to...</td>\n",
       "    </tr>\n",
       "    <tr>\n",
       "      <th>2</th>\n",
       "      <td>Data Scientist - Machine Learning</td>\n",
       "      <td>Bengaluru</td>\n",
       "      <td>BLUE YONDER INDIA PRIVATE LIMITED</td>\n",
       "      <td>Experience working with some of the following ...</td>\n",
       "    </tr>\n",
       "    <tr>\n",
       "      <th>3</th>\n",
       "      <td>Senior Data Scientist - NLP/ Python/ R</td>\n",
       "      <td>Bengaluru, Hyderabad</td>\n",
       "      <td>AVI Consulting LLP</td>\n",
       "      <td>Experience with application development practi...</td>\n",
       "    </tr>\n",
       "    <tr>\n",
       "      <th>4</th>\n",
       "      <td>Senior Data Scientist | CES IT LTD | CMMI Level 5</td>\n",
       "      <td>Chennai, Pune, Delhi NCR, Mumbai, Bengaluru, H...</td>\n",
       "      <td>CES Ltd.</td>\n",
       "      <td>Logical and Analytical skills must be really s...</td>\n",
       "    </tr>\n",
       "    <tr>\n",
       "      <th>5</th>\n",
       "      <td>Senior Data Scientist | CES IT LTD | CMMI Level 5</td>\n",
       "      <td>Chennai, Pune, Delhi NCR, Mumbai, Bengaluru, H...</td>\n",
       "      <td>CES Ltd.</td>\n",
       "      <td>Logical and Analytical skills must be really s...</td>\n",
       "    </tr>\n",
       "    <tr>\n",
       "      <th>6</th>\n",
       "      <td>Artificial Intelligence Analyst/Data Scientist</td>\n",
       "      <td>Mumbai, Bengaluru</td>\n",
       "      <td>TalentCo Search Pvt Ltd</td>\n",
       "      <td>Should have at-least 1 end-to-end ML project e...</td>\n",
       "    </tr>\n",
       "    <tr>\n",
       "      <th>7</th>\n",
       "      <td>Data Scientist</td>\n",
       "      <td>Chennai, Pune, Mumbai, Bengaluru, Hyderabad, K...</td>\n",
       "      <td>Mailkit Private Limited</td>\n",
       "      <td>Candidates might get the opportunity to work f...</td>\n",
       "    </tr>\n",
       "    <tr>\n",
       "      <th>8</th>\n",
       "      <td>Global Medical Data Scientist</td>\n",
       "      <td>Bengaluru, India</td>\n",
       "      <td>GlaxoSmithKline Pharmaceuticals Limited</td>\n",
       "      <td>medical voice of customer feedback, customer l...</td>\n",
       "    </tr>\n",
       "    <tr>\n",
       "      <th>9</th>\n",
       "      <td>Advanced Architect - Data Scientist</td>\n",
       "      <td>Bengaluru</td>\n",
       "      <td>Mphasis Limited</td>\n",
       "      <td>Experience working with enterprise architectur...</td>\n",
       "    </tr>\n",
       "  </tbody>\n",
       "</table>\n",
       "</div>"
      ],
      "text/plain": [
       "                                               Title  \\\n",
       "0  Fresher Data Engineer / Data Scientist / Data ...   \n",
       "1  Immediate opening For Data Scientist/Data Analyst   \n",
       "2                  Data Scientist - Machine Learning   \n",
       "3             Senior Data Scientist - NLP/ Python/ R   \n",
       "4  Senior Data Scientist | CES IT LTD | CMMI Level 5   \n",
       "5  Senior Data Scientist | CES IT LTD | CMMI Level 5   \n",
       "6     Artificial Intelligence Analyst/Data Scientist   \n",
       "7                                     Data Scientist   \n",
       "8                      Global Medical Data Scientist   \n",
       "9                Advanced Architect - Data Scientist   \n",
       "\n",
       "                                            Location  \\\n",
       "0                    Delhi NCR, Bengaluru, Hyderabad   \n",
       "1                Chennai, Pune, Bengaluru, Hyderabad   \n",
       "2                                          Bengaluru   \n",
       "3                               Bengaluru, Hyderabad   \n",
       "4  Chennai, Pune, Delhi NCR, Mumbai, Bengaluru, H...   \n",
       "5  Chennai, Pune, Delhi NCR, Mumbai, Bengaluru, H...   \n",
       "6                                  Mumbai, Bengaluru   \n",
       "7  Chennai, Pune, Mumbai, Bengaluru, Hyderabad, K...   \n",
       "8                                   Bengaluru, India   \n",
       "9                                          Bengaluru   \n",
       "\n",
       "                                             Company  \\\n",
       "0                      ACHYUTAS SOFT PRIVATE LIMITED   \n",
       "1  CAIA-Center For Artificial Intelligence & Adva...   \n",
       "2                  BLUE YONDER INDIA PRIVATE LIMITED   \n",
       "3                                 AVI Consulting LLP   \n",
       "4                                           CES Ltd.   \n",
       "5                                           CES Ltd.   \n",
       "6                            TalentCo Search Pvt Ltd   \n",
       "7                            Mailkit Private Limited   \n",
       "8            GlaxoSmithKline Pharmaceuticals Limited   \n",
       "9                                    Mphasis Limited   \n",
       "\n",
       "                                         Description  \n",
       "0  Building and iterating reports (with eventual ...  \n",
       "1  In case you are trying to shift your career to...  \n",
       "2  Experience working with some of the following ...  \n",
       "3  Experience with application development practi...  \n",
       "4  Logical and Analytical skills must be really s...  \n",
       "5  Logical and Analytical skills must be really s...  \n",
       "6  Should have at-least 1 end-to-end ML project e...  \n",
       "7  Candidates might get the opportunity to work f...  \n",
       "8  medical voice of customer feedback, customer l...  \n",
       "9  Experience working with enterprise architectur...  "
      ]
     },
     "execution_count": 89,
     "metadata": {},
     "output_type": "execute_result"
    }
   ],
   "source": [
    "jobs[0:10]"
   ]
  },
  {
   "cell_type": "markdown",
   "metadata": {},
   "source": [
    "# Solution number 3"
   ]
  },
  {
   "cell_type": "code",
   "execution_count": 92,
   "metadata": {},
   "outputs": [],
   "source": [
    "driver.get('https://www.naukri.com/')"
   ]
  },
  {
   "cell_type": "code",
   "execution_count": 93,
   "metadata": {},
   "outputs": [],
   "source": [
    "search_jobs=driver.find_element_by_id('qsb-keyword-sugg')\n",
    "search_jobs.send_keys(\"Data Scientist\")"
   ]
  },
  {
   "cell_type": "code",
   "execution_count": 94,
   "metadata": {},
   "outputs": [],
   "source": [
    "search_button=driver.find_element_by_xpath('//div[@class=\"search-btn\"]')\n",
    "search_button.click()"
   ]
  },
  {
   "cell_type": "code",
   "execution_count": 95,
   "metadata": {},
   "outputs": [],
   "source": [
    "# Lets apply the Location filter\n",
    "loc_filter=driver.find_element_by_xpath('//span[@title=\"Delhi/NCR\"]')\n",
    "loc_filter.click()"
   ]
  },
  {
   "cell_type": "code",
   "execution_count": 96,
   "metadata": {},
   "outputs": [],
   "source": [
    "# Lets Apply the Salary Filter\n",
    "salary_filter=driver.find_element_by_xpath('//span[@title=\"3-6 Lakhs\"]')\n",
    "salary_filter.click()"
   ]
  },
  {
   "cell_type": "code",
   "execution_count": 97,
   "metadata": {},
   "outputs": [],
   "source": [
    "# lets create the empty lists\n",
    "job_title=[]\n",
    "job_location=[]\n",
    "company_name=[]\n",
    "experience_required=[]"
   ]
  },
  {
   "cell_type": "code",
   "execution_count": 98,
   "metadata": {},
   "outputs": [
    {
     "data": {
      "text/plain": [
       "[<selenium.webdriver.remote.webelement.WebElement (session=\"93f93ed77725aeea15bfa3ba5532132a\", element=\"24ec4d64-7f6e-4134-8493-820e54b34a46\")>,\n",
       " <selenium.webdriver.remote.webelement.WebElement (session=\"93f93ed77725aeea15bfa3ba5532132a\", element=\"cdb288ec-9771-424e-9571-689290c5ed24\")>]"
      ]
     },
     "execution_count": 98,
     "metadata": {},
     "output_type": "execute_result"
    }
   ],
   "source": [
    "#Lets extract the elements with job-title\n",
    "title_tags=driver.find_elements_by_xpath('//a[@class=\"title fw500 ellipsis\"]')\n",
    "title_tags[0:2]"
   ]
  },
  {
   "cell_type": "code",
   "execution_count": 100,
   "metadata": {},
   "outputs": [
    {
     "data": {
      "text/plain": [
       "['Fresher Data Engineer / Data Scientist / Data Analyst Requirements',\n",
       " 'Data Scientist - Python/Machine Learning',\n",
       " 'Data Scientist',\n",
       " 'Data Scientist']"
      ]
     },
     "execution_count": 100,
     "metadata": {},
     "output_type": "execute_result"
    }
   ],
   "source": [
    "for i in title_tags:\n",
    "    title=i.text\n",
    "    job_title.append(title)\n",
    "job_title[0:4]"
   ]
  },
  {
   "cell_type": "code",
   "execution_count": 101,
   "metadata": {},
   "outputs": [
    {
     "data": {
      "text/plain": [
       "[<selenium.webdriver.remote.webelement.WebElement (session=\"93f93ed77725aeea15bfa3ba5532132a\", element=\"41b09ab2-6ca9-4f96-89ce-0e82cd885f48\")>,\n",
       " <selenium.webdriver.remote.webelement.WebElement (session=\"93f93ed77725aeea15bfa3ba5532132a\", element=\"e85f5bb7-4d78-48b1-9dbe-516c366bee31\")>]"
      ]
     },
     "execution_count": 101,
     "metadata": {},
     "output_type": "execute_result"
    }
   ],
   "source": [
    "#lets extract all the elements of Location\n",
    "loc_tags=driver.find_elements_by_xpath('//li[@class=\"fleft grey-text br2 placeHolderLi location\"]')\n",
    "loc_tags[0:2]"
   ]
  },
  {
   "cell_type": "code",
   "execution_count": 102,
   "metadata": {},
   "outputs": [
    {
     "data": {
      "text/plain": [
       "['Delhi NCR, Bengaluru, Hyderabad', 'Noida', 'Gurgaon', 'Gurgaon']"
      ]
     },
     "execution_count": 102,
     "metadata": {},
     "output_type": "execute_result"
    }
   ],
   "source": [
    "for i in loc_tags:\n",
    "    loc=i.text\n",
    "    job_location.append(loc)\n",
    "job_location[0:4]"
   ]
  },
  {
   "cell_type": "code",
   "execution_count": 103,
   "metadata": {},
   "outputs": [
    {
     "data": {
      "text/plain": [
       "[<selenium.webdriver.remote.webelement.WebElement (session=\"93f93ed77725aeea15bfa3ba5532132a\", element=\"56da3c95-1ad0-4890-9e8d-f2c1f6fb855f\")>,\n",
       " <selenium.webdriver.remote.webelement.WebElement (session=\"93f93ed77725aeea15bfa3ba5532132a\", element=\"bbb73e1e-ef6e-436e-bb4d-9b4c45fd99ae\")>]"
      ]
     },
     "execution_count": 103,
     "metadata": {},
     "output_type": "execute_result"
    }
   ],
   "source": [
    "#lets extract all the elements of Company name\n",
    "comp_tags=driver.find_elements_by_xpath('//a[@class=\"subTitle ellipsis fleft\"]')\n",
    "comp_tags[0:2]"
   ]
  },
  {
   "cell_type": "code",
   "execution_count": 104,
   "metadata": {},
   "outputs": [
    {
     "data": {
      "text/plain": [
       "['ACHYUTAS SOFT PRIVATE LIMITED',\n",
       " 'Jubna',\n",
       " 'PureSoftware Pvt Ltd.',\n",
       " 'World Wide Technology']"
      ]
     },
     "execution_count": 104,
     "metadata": {},
     "output_type": "execute_result"
    }
   ],
   "source": [
    "for i in comp_tags:\n",
    "    comp=i.text\n",
    "    company_name.append(comp)\n",
    "company_name[0:4]"
   ]
  },
  {
   "cell_type": "code",
   "execution_count": 105,
   "metadata": {},
   "outputs": [
    {
     "data": {
      "text/plain": [
       "[<selenium.webdriver.remote.webelement.WebElement (session=\"93f93ed77725aeea15bfa3ba5532132a\", element=\"b4da3227-579d-4447-b8c6-12475d22a833\")>,\n",
       " <selenium.webdriver.remote.webelement.WebElement (session=\"93f93ed77725aeea15bfa3ba5532132a\", element=\"d09de178-b14a-40f7-9fd7-4efa632e09aa\")>]"
      ]
     },
     "execution_count": 105,
     "metadata": {},
     "output_type": "execute_result"
    }
   ],
   "source": [
    "# lets extract all the elements for Experience required\n",
    "exp_tags=driver.find_elements_by_xpath('//li[@class=\"fleft grey-text br2 placeHolderLi experience\"]')\n",
    "exp_tags[0:2]"
   ]
  },
  {
   "cell_type": "code",
   "execution_count": 106,
   "metadata": {},
   "outputs": [
    {
     "data": {
      "text/plain": [
       "['0-2 Yrs', '5-8 Yrs', '5-9 Yrs', '3-8 Yrs']"
      ]
     },
     "execution_count": 106,
     "metadata": {},
     "output_type": "execute_result"
    }
   ],
   "source": [
    "for i in exp_tags:\n",
    "    exp=i.text\n",
    "    experience_required.append(exp)\n",
    "experience_required[0:4]"
   ]
  },
  {
   "cell_type": "code",
   "execution_count": 107,
   "metadata": {},
   "outputs": [
    {
     "name": "stdout",
     "output_type": "stream",
     "text": [
      "20 20 20 20\n"
     ]
    }
   ],
   "source": [
    "print(len(job_title),len(job_location),len(company_name),len(experience_required))"
   ]
  },
  {
   "cell_type": "code",
   "execution_count": 108,
   "metadata": {},
   "outputs": [
    {
     "data": {
      "text/html": [
       "<div>\n",
       "<style scoped>\n",
       "    .dataframe tbody tr th:only-of-type {\n",
       "        vertical-align: middle;\n",
       "    }\n",
       "\n",
       "    .dataframe tbody tr th {\n",
       "        vertical-align: top;\n",
       "    }\n",
       "\n",
       "    .dataframe thead th {\n",
       "        text-align: right;\n",
       "    }\n",
       "</style>\n",
       "<table border=\"1\" class=\"dataframe\">\n",
       "  <thead>\n",
       "    <tr style=\"text-align: right;\">\n",
       "      <th></th>\n",
       "      <th>Title</th>\n",
       "      <th>Location</th>\n",
       "      <th>Company</th>\n",
       "      <th>Experience</th>\n",
       "    </tr>\n",
       "  </thead>\n",
       "  <tbody>\n",
       "    <tr>\n",
       "      <th>0</th>\n",
       "      <td>Fresher Data Engineer / Data Scientist / Data ...</td>\n",
       "      <td>Delhi NCR, Bengaluru, Hyderabad</td>\n",
       "      <td>ACHYUTAS SOFT PRIVATE LIMITED</td>\n",
       "      <td>0-2 Yrs</td>\n",
       "    </tr>\n",
       "    <tr>\n",
       "      <th>1</th>\n",
       "      <td>Data Scientist - Python/Machine Learning</td>\n",
       "      <td>Noida</td>\n",
       "      <td>Jubna</td>\n",
       "      <td>5-8 Yrs</td>\n",
       "    </tr>\n",
       "    <tr>\n",
       "      <th>2</th>\n",
       "      <td>Data Scientist</td>\n",
       "      <td>Gurgaon</td>\n",
       "      <td>PureSoftware Pvt Ltd.</td>\n",
       "      <td>5-9 Yrs</td>\n",
       "    </tr>\n",
       "    <tr>\n",
       "      <th>3</th>\n",
       "      <td>Data Scientist</td>\n",
       "      <td>Gurgaon</td>\n",
       "      <td>World Wide Technology</td>\n",
       "      <td>3-8 Yrs</td>\n",
       "    </tr>\n",
       "    <tr>\n",
       "      <th>4</th>\n",
       "      <td>Data Scientist</td>\n",
       "      <td>Delhi NCR, Gurgaon</td>\n",
       "      <td>Air Asia India Limited</td>\n",
       "      <td>1-4 Yrs</td>\n",
       "    </tr>\n",
       "    <tr>\n",
       "      <th>5</th>\n",
       "      <td>Lead Data Scientist</td>\n",
       "      <td>Delhi NCR, Noida(Sector-142 Noida)</td>\n",
       "      <td>NEC CORPORATION INDIA PRIVATE LTD</td>\n",
       "      <td>9-14 Yrs</td>\n",
       "    </tr>\n",
       "    <tr>\n",
       "      <th>6</th>\n",
       "      <td>Excellent opportunity For Lead Data Scientist ...</td>\n",
       "      <td>Delhi NCR(Sector-142 Noida), Noida</td>\n",
       "      <td>NEC CORPORATION INDIA PRIVATE LTD</td>\n",
       "      <td>9-14 Yrs</td>\n",
       "    </tr>\n",
       "    <tr>\n",
       "      <th>7</th>\n",
       "      <td>Lead Data Scientist</td>\n",
       "      <td>Delhi NCR, Noida(Sector-142 Noida)</td>\n",
       "      <td>NEC CORPORATION INDIA PRIVATE LTD</td>\n",
       "      <td>9-14 Yrs</td>\n",
       "    </tr>\n",
       "    <tr>\n",
       "      <th>8</th>\n",
       "      <td>Excellent opportunity For Lead Data Scientist ...</td>\n",
       "      <td>Delhi NCR(Sector-142 Noida), Noida</td>\n",
       "      <td>NEC CORPORATION INDIA PRIVATE LTD</td>\n",
       "      <td>9-14 Yrs</td>\n",
       "    </tr>\n",
       "    <tr>\n",
       "      <th>9</th>\n",
       "      <td>Job | Opportunity For Senior Role(Data Scienti...</td>\n",
       "      <td>Gandhinagar, Delhi NCR, Mumbai, Gurgaon</td>\n",
       "      <td>BA Continuum India Pvt. Ltd</td>\n",
       "      <td>14-17 Yrs</td>\n",
       "    </tr>\n",
       "  </tbody>\n",
       "</table>\n",
       "</div>"
      ],
      "text/plain": [
       "                                               Title  \\\n",
       "0  Fresher Data Engineer / Data Scientist / Data ...   \n",
       "1           Data Scientist - Python/Machine Learning   \n",
       "2                                     Data Scientist   \n",
       "3                                     Data Scientist   \n",
       "4                                     Data Scientist   \n",
       "5                                Lead Data Scientist   \n",
       "6  Excellent opportunity For Lead Data Scientist ...   \n",
       "7                                Lead Data Scientist   \n",
       "8  Excellent opportunity For Lead Data Scientist ...   \n",
       "9  Job | Opportunity For Senior Role(Data Scienti...   \n",
       "\n",
       "                                  Location                            Company  \\\n",
       "0          Delhi NCR, Bengaluru, Hyderabad      ACHYUTAS SOFT PRIVATE LIMITED   \n",
       "1                                    Noida                              Jubna   \n",
       "2                                  Gurgaon              PureSoftware Pvt Ltd.   \n",
       "3                                  Gurgaon              World Wide Technology   \n",
       "4                       Delhi NCR, Gurgaon             Air Asia India Limited   \n",
       "5       Delhi NCR, Noida(Sector-142 Noida)  NEC CORPORATION INDIA PRIVATE LTD   \n",
       "6       Delhi NCR(Sector-142 Noida), Noida  NEC CORPORATION INDIA PRIVATE LTD   \n",
       "7       Delhi NCR, Noida(Sector-142 Noida)  NEC CORPORATION INDIA PRIVATE LTD   \n",
       "8       Delhi NCR(Sector-142 Noida), Noida  NEC CORPORATION INDIA PRIVATE LTD   \n",
       "9  Gandhinagar, Delhi NCR, Mumbai, Gurgaon        BA Continuum India Pvt. Ltd   \n",
       "\n",
       "  Experience  \n",
       "0    0-2 Yrs  \n",
       "1    5-8 Yrs  \n",
       "2    5-9 Yrs  \n",
       "3    3-8 Yrs  \n",
       "4    1-4 Yrs  \n",
       "5   9-14 Yrs  \n",
       "6   9-14 Yrs  \n",
       "7   9-14 Yrs  \n",
       "8   9-14 Yrs  \n",
       "9  14-17 Yrs  "
      ]
     },
     "execution_count": 108,
     "metadata": {},
     "output_type": "execute_result"
    }
   ],
   "source": [
    "jobs=pd.DataFrame({})\n",
    "jobs['Title']=job_title\n",
    "jobs['Location']=job_location\n",
    "jobs['Company']=company_name\n",
    "jobs['Experience']=experience_required\n",
    "jobs[0:10]"
   ]
  },
  {
   "cell_type": "markdown",
   "metadata": {},
   "source": [
    "# Solution number 4"
   ]
  },
  {
   "cell_type": "code",
   "execution_count": 109,
   "metadata": {},
   "outputs": [],
   "source": [
    "driver.get(\"https://www.glassdoor.co.in/index.htm\")"
   ]
  },
  {
   "cell_type": "code",
   "execution_count": 110,
   "metadata": {},
   "outputs": [],
   "source": [
    "search_job=driver.find_element_by_id('sc.keyword')\n",
    "search_job.send_keys('Data Scientist')\n",
    "search_loc=driver.find_element_by_id('sc.location')\n",
    "search_loc.send_keys('Noida')"
   ]
  },
  {
   "cell_type": "code",
   "execution_count": 111,
   "metadata": {},
   "outputs": [],
   "source": [
    "search_btn=driver.find_element_by_xpath('//button[@class=\"gd-ui-button ml-std col-auto SearchStyles__newSearchButton css-iixdfr\"]')\n",
    "search_btn.click()"
   ]
  },
  {
   "cell_type": "code",
   "execution_count": 112,
   "metadata": {},
   "outputs": [],
   "source": [
    "#Lets create Empty lists\n",
    "company_name=[]\n",
    "days_ago=[]\n",
    "ratings=[]"
   ]
  },
  {
   "cell_type": "code",
   "execution_count": 113,
   "metadata": {},
   "outputs": [
    {
     "data": {
      "text/plain": [
       "[<selenium.webdriver.remote.webelement.WebElement (session=\"93f93ed77725aeea15bfa3ba5532132a\", element=\"626e36d3-4eec-46aa-9589-ff150a7351cd\")>,\n",
       " <selenium.webdriver.remote.webelement.WebElement (session=\"93f93ed77725aeea15bfa3ba5532132a\", element=\"5c71de13-aee6-466a-b6b6-b440fe8d2b83\")>]"
      ]
     },
     "execution_count": 113,
     "metadata": {},
     "output_type": "execute_result"
    }
   ],
   "source": [
    "# lets extract the elements of Company_name\n",
    "comp_tag=driver.find_elements_by_xpath('//div[@class=\"jobHeader d-flex justify-content-between align-items-start\"]')\n",
    "comp_tag[0:2]"
   ]
  },
  {
   "cell_type": "code",
   "execution_count": 114,
   "metadata": {},
   "outputs": [
    {
     "data": {
      "text/plain": [
       "['AI Engineer',\n",
       " 'RCM Aeroservices Ltd',\n",
       " 'WSD Consultant',\n",
       " 'ANI Calls India Private Limited']"
      ]
     },
     "execution_count": 114,
     "metadata": {},
     "output_type": "execute_result"
    }
   ],
   "source": [
    "for i in comp_tag:\n",
    "    comp=i.text\n",
    "    company_name.append(comp)\n",
    "company_name[0:4]"
   ]
  },
  {
   "cell_type": "code",
   "execution_count": 115,
   "metadata": {},
   "outputs": [
    {
     "data": {
      "text/plain": [
       "[<selenium.webdriver.remote.webelement.WebElement (session=\"93f93ed77725aeea15bfa3ba5532132a\", element=\"04c3ea1c-b161-4813-a5a5-933e979b9368\")>,\n",
       " <selenium.webdriver.remote.webelement.WebElement (session=\"93f93ed77725aeea15bfa3ba5532132a\", element=\"cdec3090-e433-4d24-b864-d1474abbc029\")>]"
      ]
     },
     "execution_count": 115,
     "metadata": {},
     "output_type": "execute_result"
    }
   ],
   "source": [
    "#Lets extract the elements for job posted days ago\n",
    "posted_tag=driver.find_elements_by_xpath('//div[@class=\"d-flex align-items-end pl-std css-mi55ob\"]')\n",
    "posted_tag[0:2]"
   ]
  },
  {
   "cell_type": "code",
   "execution_count": 116,
   "metadata": {},
   "outputs": [
    {
     "data": {
      "text/plain": [
       "['12d', '24h', '6d', '4d']"
      ]
     },
     "execution_count": 116,
     "metadata": {},
     "output_type": "execute_result"
    }
   ],
   "source": [
    "for i in posted_tag:\n",
    "    ago=i.text\n",
    "    days_ago.append(ago)\n",
    "days_ago[0:4]"
   ]
  },
  {
   "cell_type": "code",
   "execution_count": 156,
   "metadata": {},
   "outputs": [
    {
     "ename": "SyntaxError",
     "evalue": "invalid syntax (<ipython-input-156-344e43f20d86>, line 5)",
     "output_type": "error",
     "traceback": [
      "\u001b[1;36m  File \u001b[1;32m\"<ipython-input-156-344e43f20d86>\"\u001b[1;36m, line \u001b[1;32m5\u001b[0m\n\u001b[1;33m    from selenium.common.exceptions import NoSuchElementException\u001b[0m\n\u001b[1;37m       ^\u001b[0m\n\u001b[1;31mSyntaxError\u001b[0m\u001b[1;31m:\u001b[0m invalid syntax\n"
     ]
    }
   ],
   "source": [
    "#Lets extract the Ratings\n",
    "    rating_tags=driver.find_elements_by_xpath('//span[@class=\"compactStars \"]')\n",
    "\n",
    "from selenium.common.exceptions import NoSuchElementException\n",
    "except nosuchelelementexception:\n",
    "ratings.append(\"no ratings available\")\n",
    "rating_tags[0:2]"
   ]
  },
  {
   "cell_type": "code",
   "execution_count": 118,
   "metadata": {},
   "outputs": [
    {
     "data": {
      "text/plain": [
       "['3.2', '1.3', '3.3', '3.9']"
      ]
     },
     "execution_count": 118,
     "metadata": {},
     "output_type": "execute_result"
    }
   ],
   "source": [
    "for i in rating_tags:\n",
    "    rating=i.text\n",
    "    ratings.append(rating)\n",
    "ratings[0:4]"
   ]
  },
  {
   "cell_type": "code",
   "execution_count": 127,
   "metadata": {},
   "outputs": [
    {
     "ename": "SyntaxError",
     "evalue": "invalid syntax (<ipython-input-127-6533a79c89ee>, line 2)",
     "output_type": "error",
     "traceback": [
      "\u001b[1;36m  File \u001b[1;32m\"<ipython-input-127-6533a79c89ee>\"\u001b[1;36m, line \u001b[1;32m2\u001b[0m\n\u001b[1;33m    except NoSuchElementException\u001b[0m\n\u001b[1;37m         ^\u001b[0m\n\u001b[1;31mSyntaxError\u001b[0m\u001b[1;31m:\u001b[0m invalid syntax\n"
     ]
    }
   ],
   "source": []
  },
  {
   "cell_type": "code",
   "execution_count": 120,
   "metadata": {},
   "outputs": [
    {
     "name": "stdout",
     "output_type": "stream",
     "text": [
      "30 30 17\n"
     ]
    }
   ],
   "source": [
    "print(len(company_name),len(days_ago),len(ratings))"
   ]
  },
  {
   "cell_type": "code",
   "execution_count": 128,
   "metadata": {},
   "outputs": [
    {
     "ename": "ValueError",
     "evalue": "Length of values does not match length of index",
     "output_type": "error",
     "traceback": [
      "\u001b[1;31m---------------------------------------------------------------------------\u001b[0m",
      "\u001b[1;31mValueError\u001b[0m                                Traceback (most recent call last)",
      "\u001b[1;32m<ipython-input-128-0a9ca527cf84>\u001b[0m in \u001b[0;36m<module>\u001b[1;34m\u001b[0m\n\u001b[0;32m      2\u001b[0m \u001b[0mjobs\u001b[0m\u001b[1;33m[\u001b[0m\u001b[1;34m'Company'\u001b[0m\u001b[1;33m]\u001b[0m\u001b[1;33m=\u001b[0m\u001b[0mcompany_name\u001b[0m\u001b[1;33m\u001b[0m\u001b[1;33m\u001b[0m\u001b[0m\n\u001b[0;32m      3\u001b[0m \u001b[0mjobs\u001b[0m\u001b[1;33m[\u001b[0m\u001b[1;34m'Job Posted Days Ago'\u001b[0m\u001b[1;33m]\u001b[0m\u001b[1;33m=\u001b[0m\u001b[0mdays_ago\u001b[0m\u001b[1;33m\u001b[0m\u001b[1;33m\u001b[0m\u001b[0m\n\u001b[1;32m----> 4\u001b[1;33m \u001b[0mjobs\u001b[0m\u001b[1;33m[\u001b[0m\u001b[1;34m'Ratings'\u001b[0m\u001b[1;33m]\u001b[0m\u001b[1;33m=\u001b[0m\u001b[0mratings\u001b[0m\u001b[1;33m\u001b[0m\u001b[1;33m\u001b[0m\u001b[0m\n\u001b[0m\u001b[0;32m      5\u001b[0m \u001b[0mjobs\u001b[0m\u001b[1;33m[\u001b[0m\u001b[1;36m0\u001b[0m\u001b[1;33m:\u001b[0m\u001b[1;36m10\u001b[0m\u001b[1;33m]\u001b[0m\u001b[1;33m\u001b[0m\u001b[1;33m\u001b[0m\u001b[0m\n",
      "\u001b[1;32mC:\\ProgramData\\Anaconda3\\lib\\site-packages\\pandas\\core\\frame.py\u001b[0m in \u001b[0;36m__setitem__\u001b[1;34m(self, key, value)\u001b[0m\n\u001b[0;32m   2936\u001b[0m         \u001b[1;32melse\u001b[0m\u001b[1;33m:\u001b[0m\u001b[1;33m\u001b[0m\u001b[1;33m\u001b[0m\u001b[0m\n\u001b[0;32m   2937\u001b[0m             \u001b[1;31m# set column\u001b[0m\u001b[1;33m\u001b[0m\u001b[1;33m\u001b[0m\u001b[1;33m\u001b[0m\u001b[0m\n\u001b[1;32m-> 2938\u001b[1;33m             \u001b[0mself\u001b[0m\u001b[1;33m.\u001b[0m\u001b[0m_set_item\u001b[0m\u001b[1;33m(\u001b[0m\u001b[0mkey\u001b[0m\u001b[1;33m,\u001b[0m \u001b[0mvalue\u001b[0m\u001b[1;33m)\u001b[0m\u001b[1;33m\u001b[0m\u001b[1;33m\u001b[0m\u001b[0m\n\u001b[0m\u001b[0;32m   2939\u001b[0m \u001b[1;33m\u001b[0m\u001b[0m\n\u001b[0;32m   2940\u001b[0m     \u001b[1;32mdef\u001b[0m \u001b[0m_setitem_slice\u001b[0m\u001b[1;33m(\u001b[0m\u001b[0mself\u001b[0m\u001b[1;33m,\u001b[0m \u001b[0mkey\u001b[0m\u001b[1;33m,\u001b[0m \u001b[0mvalue\u001b[0m\u001b[1;33m)\u001b[0m\u001b[1;33m:\u001b[0m\u001b[1;33m\u001b[0m\u001b[1;33m\u001b[0m\u001b[0m\n",
      "\u001b[1;32mC:\\ProgramData\\Anaconda3\\lib\\site-packages\\pandas\\core\\frame.py\u001b[0m in \u001b[0;36m_set_item\u001b[1;34m(self, key, value)\u001b[0m\n\u001b[0;32m   2998\u001b[0m \u001b[1;33m\u001b[0m\u001b[0m\n\u001b[0;32m   2999\u001b[0m         \u001b[0mself\u001b[0m\u001b[1;33m.\u001b[0m\u001b[0m_ensure_valid_index\u001b[0m\u001b[1;33m(\u001b[0m\u001b[0mvalue\u001b[0m\u001b[1;33m)\u001b[0m\u001b[1;33m\u001b[0m\u001b[1;33m\u001b[0m\u001b[0m\n\u001b[1;32m-> 3000\u001b[1;33m         \u001b[0mvalue\u001b[0m \u001b[1;33m=\u001b[0m \u001b[0mself\u001b[0m\u001b[1;33m.\u001b[0m\u001b[0m_sanitize_column\u001b[0m\u001b[1;33m(\u001b[0m\u001b[0mkey\u001b[0m\u001b[1;33m,\u001b[0m \u001b[0mvalue\u001b[0m\u001b[1;33m)\u001b[0m\u001b[1;33m\u001b[0m\u001b[1;33m\u001b[0m\u001b[0m\n\u001b[0m\u001b[0;32m   3001\u001b[0m         \u001b[0mNDFrame\u001b[0m\u001b[1;33m.\u001b[0m\u001b[0m_set_item\u001b[0m\u001b[1;33m(\u001b[0m\u001b[0mself\u001b[0m\u001b[1;33m,\u001b[0m \u001b[0mkey\u001b[0m\u001b[1;33m,\u001b[0m \u001b[0mvalue\u001b[0m\u001b[1;33m)\u001b[0m\u001b[1;33m\u001b[0m\u001b[1;33m\u001b[0m\u001b[0m\n\u001b[0;32m   3002\u001b[0m \u001b[1;33m\u001b[0m\u001b[0m\n",
      "\u001b[1;32mC:\\ProgramData\\Anaconda3\\lib\\site-packages\\pandas\\core\\frame.py\u001b[0m in \u001b[0;36m_sanitize_column\u001b[1;34m(self, key, value, broadcast)\u001b[0m\n\u001b[0;32m   3634\u001b[0m \u001b[1;33m\u001b[0m\u001b[0m\n\u001b[0;32m   3635\u001b[0m             \u001b[1;31m# turn me into an ndarray\u001b[0m\u001b[1;33m\u001b[0m\u001b[1;33m\u001b[0m\u001b[1;33m\u001b[0m\u001b[0m\n\u001b[1;32m-> 3636\u001b[1;33m             \u001b[0mvalue\u001b[0m \u001b[1;33m=\u001b[0m \u001b[0msanitize_index\u001b[0m\u001b[1;33m(\u001b[0m\u001b[0mvalue\u001b[0m\u001b[1;33m,\u001b[0m \u001b[0mself\u001b[0m\u001b[1;33m.\u001b[0m\u001b[0mindex\u001b[0m\u001b[1;33m,\u001b[0m \u001b[0mcopy\u001b[0m\u001b[1;33m=\u001b[0m\u001b[1;32mFalse\u001b[0m\u001b[1;33m)\u001b[0m\u001b[1;33m\u001b[0m\u001b[1;33m\u001b[0m\u001b[0m\n\u001b[0m\u001b[0;32m   3637\u001b[0m             \u001b[1;32mif\u001b[0m \u001b[1;32mnot\u001b[0m \u001b[0misinstance\u001b[0m\u001b[1;33m(\u001b[0m\u001b[0mvalue\u001b[0m\u001b[1;33m,\u001b[0m \u001b[1;33m(\u001b[0m\u001b[0mnp\u001b[0m\u001b[1;33m.\u001b[0m\u001b[0mndarray\u001b[0m\u001b[1;33m,\u001b[0m \u001b[0mIndex\u001b[0m\u001b[1;33m)\u001b[0m\u001b[1;33m)\u001b[0m\u001b[1;33m:\u001b[0m\u001b[1;33m\u001b[0m\u001b[1;33m\u001b[0m\u001b[0m\n\u001b[0;32m   3638\u001b[0m                 \u001b[1;32mif\u001b[0m \u001b[0misinstance\u001b[0m\u001b[1;33m(\u001b[0m\u001b[0mvalue\u001b[0m\u001b[1;33m,\u001b[0m \u001b[0mlist\u001b[0m\u001b[1;33m)\u001b[0m \u001b[1;32mand\u001b[0m \u001b[0mlen\u001b[0m\u001b[1;33m(\u001b[0m\u001b[0mvalue\u001b[0m\u001b[1;33m)\u001b[0m \u001b[1;33m>\u001b[0m \u001b[1;36m0\u001b[0m\u001b[1;33m:\u001b[0m\u001b[1;33m\u001b[0m\u001b[1;33m\u001b[0m\u001b[0m\n",
      "\u001b[1;32mC:\\ProgramData\\Anaconda3\\lib\\site-packages\\pandas\\core\\internals\\construction.py\u001b[0m in \u001b[0;36msanitize_index\u001b[1;34m(data, index, copy)\u001b[0m\n\u001b[0;32m    609\u001b[0m \u001b[1;33m\u001b[0m\u001b[0m\n\u001b[0;32m    610\u001b[0m     \u001b[1;32mif\u001b[0m \u001b[0mlen\u001b[0m\u001b[1;33m(\u001b[0m\u001b[0mdata\u001b[0m\u001b[1;33m)\u001b[0m \u001b[1;33m!=\u001b[0m \u001b[0mlen\u001b[0m\u001b[1;33m(\u001b[0m\u001b[0mindex\u001b[0m\u001b[1;33m)\u001b[0m\u001b[1;33m:\u001b[0m\u001b[1;33m\u001b[0m\u001b[1;33m\u001b[0m\u001b[0m\n\u001b[1;32m--> 611\u001b[1;33m         \u001b[1;32mraise\u001b[0m \u001b[0mValueError\u001b[0m\u001b[1;33m(\u001b[0m\u001b[1;34m\"Length of values does not match length of index\"\u001b[0m\u001b[1;33m)\u001b[0m\u001b[1;33m\u001b[0m\u001b[1;33m\u001b[0m\u001b[0m\n\u001b[0m\u001b[0;32m    612\u001b[0m \u001b[1;33m\u001b[0m\u001b[0m\n\u001b[0;32m    613\u001b[0m     \u001b[1;32mif\u001b[0m \u001b[0misinstance\u001b[0m\u001b[1;33m(\u001b[0m\u001b[0mdata\u001b[0m\u001b[1;33m,\u001b[0m \u001b[0mABCIndexClass\u001b[0m\u001b[1;33m)\u001b[0m \u001b[1;32mand\u001b[0m \u001b[1;32mnot\u001b[0m \u001b[0mcopy\u001b[0m\u001b[1;33m:\u001b[0m\u001b[1;33m\u001b[0m\u001b[1;33m\u001b[0m\u001b[0m\n",
      "\u001b[1;31mValueError\u001b[0m: Length of values does not match length of index"
     ]
    }
   ],
   "source": [
    "jobs=pd.DataFrame({})\n",
    "jobs['Company']=company_name\n",
    "jobs['Job Posted Days Ago']=days_ago\n",
    "jobs['Ratings']=ratings\n",
    "jobs[0:10]"
   ]
  },
  {
   "cell_type": "code",
   "execution_count": null,
   "metadata": {},
   "outputs": [],
   "source": []
  },
  {
   "cell_type": "markdown",
   "metadata": {},
   "source": [
    "# SOLUTION NUMBER 6"
   ]
  },
  {
   "cell_type": "code",
   "execution_count": 184,
   "metadata": {},
   "outputs": [],
   "source": [
    "driver.get('https://www.flipkart.com/')"
   ]
  },
  {
   "cell_type": "code",
   "execution_count": 185,
   "metadata": {},
   "outputs": [],
   "source": [
    "search_product=driver.find_element_by_xpath('//input[@class=\"_3704LK\"]')\n",
    "search_product.send_keys('Sunglasses')"
   ]
  },
  {
   "cell_type": "code",
   "execution_count": 186,
   "metadata": {},
   "outputs": [],
   "source": [
    "search_btn=driver.find_element_by_xpath('//button[@class=\"L0Z3Pu\"]')\n",
    "search_btn.click()"
   ]
  },
  {
   "cell_type": "code",
   "execution_count": 187,
   "metadata": {},
   "outputs": [],
   "source": [
    "#Create the Empty Lists\n",
    "brand=[]\n",
    "product_description=[]\n",
    "price=[]\n",
    "discount=[]"
   ]
  },
  {
   "cell_type": "code",
   "execution_count": 188,
   "metadata": {},
   "outputs": [
    {
     "data": {
      "text/plain": [
       "[<selenium.webdriver.remote.webelement.WebElement (session=\"fbe7eb18c0ecd7add5b4f54d6b5efcd7\", element=\"ca5a23d1-1a01-46fd-972f-7910c3294fdc\")>,\n",
       " <selenium.webdriver.remote.webelement.WebElement (session=\"fbe7eb18c0ecd7add5b4f54d6b5efcd7\", element=\"47881728-5446-46aa-9c9e-a677fe239595\")>]"
      ]
     },
     "execution_count": 188,
     "metadata": {},
     "output_type": "execute_result"
    }
   ],
   "source": [
    "#Lets extract the elements for Brand Name\n",
    "brand_tag=driver.find_elements_by_xpath('//div[@class=\"_2WkVRV\"]')\n",
    "brand_tag[0:2]"
   ]
  },
  {
   "cell_type": "code",
   "execution_count": 189,
   "metadata": {},
   "outputs": [
    {
     "data": {
      "text/plain": [
       "['Tazzx', 'STYLE GURU', 'FDA COLLECTION', 'FDA COLLECTION', 'JOHAENA']"
      ]
     },
     "execution_count": 189,
     "metadata": {},
     "output_type": "execute_result"
    }
   ],
   "source": [
    "for i in brand_tag:\n",
    "    com=i.text\n",
    "    brand.append(com)\n",
    "brand[0:5]"
   ]
  },
  {
   "cell_type": "code",
   "execution_count": 190,
   "metadata": {},
   "outputs": [
    {
     "data": {
      "text/plain": [
       "[<selenium.webdriver.remote.webelement.WebElement (session=\"fbe7eb18c0ecd7add5b4f54d6b5efcd7\", element=\"64a67547-e88b-4d1a-b6a5-454749ee2cb2\")>,\n",
       " <selenium.webdriver.remote.webelement.WebElement (session=\"fbe7eb18c0ecd7add5b4f54d6b5efcd7\", element=\"7168ce49-8373-4ac3-9717-8fc007c57aeb\")>]"
      ]
     },
     "execution_count": 190,
     "metadata": {},
     "output_type": "execute_result"
    }
   ],
   "source": [
    "#Lets extract the elements for Price\n",
    "price_tag=driver.find_elements_by_xpath('//div[@class=\"_30jeq3\"]')\n",
    "price_tag[0:2]"
   ]
  },
  {
   "cell_type": "code",
   "execution_count": 191,
   "metadata": {},
   "outputs": [
    {
     "data": {
      "text/plain": [
       "['₹269', '₹799', '₹199', '₹188', '₹156']"
      ]
     },
     "execution_count": 191,
     "metadata": {},
     "output_type": "execute_result"
    }
   ],
   "source": [
    "for i in price_tag:\n",
    "    rate=i.text\n",
    "    price.append(rate)\n",
    "price[0:5]"
   ]
  },
  {
   "cell_type": "code",
   "execution_count": null,
   "metadata": {},
   "outputs": [],
   "source": []
  },
  {
   "cell_type": "code",
   "execution_count": 192,
   "metadata": {},
   "outputs": [
    {
     "data": {
      "text/plain": [
       "[<selenium.webdriver.remote.webelement.WebElement (session=\"fbe7eb18c0ecd7add5b4f54d6b5efcd7\", element=\"f2f22e5f-72ff-4a17-b22c-6099d2073870\")>,\n",
       " <selenium.webdriver.remote.webelement.WebElement (session=\"fbe7eb18c0ecd7add5b4f54d6b5efcd7\", element=\"5253d916-6152-42e8-85e8-a4cab0567874\")>]"
      ]
     },
     "execution_count": 192,
     "metadata": {},
     "output_type": "execute_result"
    }
   ],
   "source": [
    "#Lets extract the elements for Discount\n",
    "dis_tag=driver.find_elements_by_xpath('//div[@class=\"_3Ay6Sb\"]')\n",
    "dis_tag[0:2]"
   ]
  },
  {
   "cell_type": "code",
   "execution_count": 193,
   "metadata": {},
   "outputs": [
    {
     "data": {
      "text/plain": [
       "'88% off'"
      ]
     },
     "execution_count": 193,
     "metadata": {},
     "output_type": "execute_result"
    }
   ],
   "source": [
    "dis_tag[39].text"
   ]
  },
  {
   "cell_type": "code",
   "execution_count": 194,
   "metadata": {},
   "outputs": [
    {
     "data": {
      "text/plain": [
       "['86% off', '77% off', '84% off', '87% off', '87% off']"
      ]
     },
     "execution_count": 194,
     "metadata": {},
     "output_type": "execute_result"
    }
   ],
   "source": [
    "for i in dis_tag:\n",
    "    disc=i.text\n",
    "    discount.append(disc)\n",
    "discount[0:5]"
   ]
  },
  {
   "cell_type": "code",
   "execution_count": 195,
   "metadata": {},
   "outputs": [],
   "source": [
    "# To get on to the next page\n",
    "next_btn=driver.find_element_by_xpath('//a[@class=\"_1LKTO3\"]')\n",
    "next_btn.click()"
   ]
  },
  {
   "cell_type": "code",
   "execution_count": 196,
   "metadata": {},
   "outputs": [],
   "source": [
    "brand1=[]\n",
    "product_description1=[]\n",
    "price1=[]\n",
    "discount1=[]"
   ]
  },
  {
   "cell_type": "code",
   "execution_count": 197,
   "metadata": {},
   "outputs": [
    {
     "data": {
      "text/plain": [
       "[<selenium.webdriver.remote.webelement.WebElement (session=\"fbe7eb18c0ecd7add5b4f54d6b5efcd7\", element=\"0299102c-6937-43c5-aa35-c4983edba450\")>,\n",
       " <selenium.webdriver.remote.webelement.WebElement (session=\"fbe7eb18c0ecd7add5b4f54d6b5efcd7\", element=\"731035c9-9896-4064-8bf9-ef7a0fef4d45\")>]"
      ]
     },
     "execution_count": 197,
     "metadata": {},
     "output_type": "execute_result"
    }
   ],
   "source": [
    "#Lets extract the elements for Brand Name\n",
    "brand_tag1=driver.find_elements_by_xpath('//div[@class=\"_2WkVRV\"]')\n",
    "brand_tag1[0:2]"
   ]
  },
  {
   "cell_type": "code",
   "execution_count": 198,
   "metadata": {},
   "outputs": [
    {
     "data": {
      "text/plain": [
       "['Online Mantra', 'Silver Kartz', 'povty', 'Tazzx', 'PIRASO']"
      ]
     },
     "execution_count": 198,
     "metadata": {},
     "output_type": "execute_result"
    }
   ],
   "source": [
    "for i in brand_tag1:\n",
    "    com=i.text\n",
    "    brand1.append(com)\n",
    "brand1[0:5]"
   ]
  },
  {
   "cell_type": "code",
   "execution_count": 199,
   "metadata": {},
   "outputs": [
    {
     "data": {
      "text/plain": [
       "[<selenium.webdriver.remote.webelement.WebElement (session=\"fbe7eb18c0ecd7add5b4f54d6b5efcd7\", element=\"b55e53ef-97cc-4b62-883d-f0577499b9ea\")>,\n",
       " <selenium.webdriver.remote.webelement.WebElement (session=\"fbe7eb18c0ecd7add5b4f54d6b5efcd7\", element=\"16dce9a4-5a68-474a-9c9f-57b5bcf404fc\")>]"
      ]
     },
     "execution_count": 199,
     "metadata": {},
     "output_type": "execute_result"
    }
   ],
   "source": [
    "#Lets extract the elements for Price\n",
    "price_tag1=driver.find_elements_by_xpath('//div[@class=\"_30jeq3\"]')\n",
    "price_tag1[0:2]"
   ]
  },
  {
   "cell_type": "code",
   "execution_count": 200,
   "metadata": {},
   "outputs": [
    {
     "data": {
      "text/plain": [
       "['₹160', '₹251', '₹262', '₹269', '₹210']"
      ]
     },
     "execution_count": 200,
     "metadata": {},
     "output_type": "execute_result"
    }
   ],
   "source": [
    "for i in price_tag1:\n",
    "    rate=i.text\n",
    "    price1.append(rate)\n",
    "price1[0:5]"
   ]
  },
  {
   "cell_type": "code",
   "execution_count": 201,
   "metadata": {},
   "outputs": [
    {
     "data": {
      "text/plain": [
       "[<selenium.webdriver.remote.webelement.WebElement (session=\"fbe7eb18c0ecd7add5b4f54d6b5efcd7\", element=\"d71c0f65-832a-4409-a3db-3b125df7943a\")>,\n",
       " <selenium.webdriver.remote.webelement.WebElement (session=\"fbe7eb18c0ecd7add5b4f54d6b5efcd7\", element=\"1b570256-5d12-4c61-a106-54306d8f7020\")>]"
      ]
     },
     "execution_count": 201,
     "metadata": {},
     "output_type": "execute_result"
    }
   ],
   "source": [
    "#Lets extract the elements for Discount\n",
    "dis_tag1=driver.find_elements_by_xpath('//div[@class=\"_3Ay6Sb\"]')\n",
    "dis_tag1[0:2]"
   ]
  },
  {
   "cell_type": "code",
   "execution_count": 202,
   "metadata": {},
   "outputs": [
    {
     "data": {
      "text/plain": [
       "['68% off', '79% off', '73% off', '86% off']"
      ]
     },
     "execution_count": 202,
     "metadata": {},
     "output_type": "execute_result"
    }
   ],
   "source": [
    "for i in dis_tag1:\n",
    "    dst=i.text\n",
    "    discount1.append(dst)\n",
    "discount1[0:4]"
   ]
  },
  {
   "cell_type": "code",
   "execution_count": 203,
   "metadata": {},
   "outputs": [
    {
     "name": "stdout",
     "output_type": "stream",
     "text": [
      "['Tazzx', 'STYLE GURU', 'FDA COLLECTION', 'FDA COLLECTION', 'JOHAENA', 'Phenomenal', 'Rozzetta Craft', 'Silver Kartz', 'FDA COLLECTION', 'ROZZETTA CRAFT', 'Winsome', 'Silver Kartz', 'shah collections', 'Dannilo', 'Phenomenal', 'Silver Kartz', 'shadz', 'shah collections', 'funglasses', 'Silver Kartz', 'Fastrack', 'Riffko', 'LOPO', 'STYLE GURU', 'Trendy Glasses', 'HAMIW COLLECTION', 'PIRASO', 'Tazzx', 'Phenomenal', 'Singco India', 'like future', 'Silver Kartz', 'Riffko', 'ROZZETTA CRAFT', 'Dannilo', 'ROYAL SON', 'Rich Club', 'shadz', 'funglasses', 'Silver Kartz', 'Online Mantra', 'Silver Kartz', 'povty', 'Tazzx', 'PIRASO', 'PIRASO', 'FDA COLLECTION', 'Aislin', 'ROZZETTA CRAFT', 'INSH', 'Trendy Glasses', 'ROYAL SON', 'kingsunglasses', 'kingscape', 'Fastrack', 'Aislin', 'NuVew', 'Fastrack', 'funglasses', 'Specsmakers', 'Deixels', 'PIRASO', 'Fastrack', 'Specsmakers', 'shah collections', 'peter india', 'HIPPON', 'NKZ', 'kingsunglasses', 'Specsmakers', 'RPR', 'Royal Son', 'Shahs collections', 'Specsmakers', 'Royal Son', 'Fastrack', 'like future', 'Fastrack', 'Phenomenal', 'Gansta'] ['₹269', '₹799', '₹199', '₹188', '₹156', '₹399', '₹398', '₹224', '₹161', '₹449', '₹172', '₹242', '₹331', '₹198', '₹399', '₹242', '₹189', '₹312', '₹170', '₹233', '₹759', '₹175', '₹145', '₹799', '₹249', '₹225', '₹349', '₹168', '₹299', '₹189', '₹181', '₹251', '₹189', '₹426', '₹201', '₹569', '₹179', '₹99', '₹169', '₹188', '₹160', '₹251', '₹262', '₹269', '₹210', '₹217', '₹161', '₹1,030', '₹426', '₹327', '₹234', '₹1,299', '₹122', '₹309', '₹645', '₹451', '₹375', '₹643', '₹125', '₹470', '₹199', '₹331', '₹723', '₹516', '₹340', '₹165', '₹182', '₹248', '₹284', '₹470', '₹165', '₹379', '₹128', '₹696', '₹255', '₹660', '₹229', '₹517', '₹399', '₹205'] ['86% off', '77% off', '84% off', '87% off', '87% off', '80% off', '73% off', '85% off', '83% off', '79% off', '82% off', '79% off', '80% off', '83% off', '80% off', '79% off', '85% off', '75% off', '82% off', '84% off', '15% off', '82% off', '79% off', '77% off', '86% off', '84% off', '86% off', '83% off', '85% off', '72% off', '83% off', '79% off', '84% off', '78% off', '79% off', '71% off', '77% off', '85% off', '83% off', '88% off', '68% off', '79% off', '73% off', '86% off', '86% off', '86% off', '83% off', '74% off', '80% off', '86% off', '81% off', '48% off', '87% off', '80% off', '19% off', '72% off', '64% off', '19% off', '83% off', '52% off', '88% off', '79% off', '19% off', '60% off', '79% off', '87% off', '84% off', '80% off', '81% off', '52% off', '87% off', '74% off', '74% off', '65% off', '80% off', '17% off', '82% off', '35% off', '80% off', '84% off']\n"
     ]
    }
   ],
   "source": [
    "Branding=brand + brand1\n",
    "RATES=price + price1\n",
    "DISCOUNT=discount + discount1\n",
    "print(Branding,RATES,DISCOUNT)"
   ]
  },
  {
   "cell_type": "code",
   "execution_count": 204,
   "metadata": {},
   "outputs": [
    {
     "name": "stdout",
     "output_type": "stream",
     "text": [
      "80 80 80\n"
     ]
    }
   ],
   "source": [
    "print(len(Branding),len(RATES),len(DISCOUNT))"
   ]
  },
  {
   "cell_type": "code",
   "execution_count": 205,
   "metadata": {},
   "outputs": [
    {
     "data": {
      "text/html": [
       "<div>\n",
       "<style scoped>\n",
       "    .dataframe tbody tr th:only-of-type {\n",
       "        vertical-align: middle;\n",
       "    }\n",
       "\n",
       "    .dataframe tbody tr th {\n",
       "        vertical-align: top;\n",
       "    }\n",
       "\n",
       "    .dataframe thead th {\n",
       "        text-align: right;\n",
       "    }\n",
       "</style>\n",
       "<table border=\"1\" class=\"dataframe\">\n",
       "  <thead>\n",
       "    <tr style=\"text-align: right;\">\n",
       "      <th></th>\n",
       "      <th>BRANDS</th>\n",
       "      <th>PRICE</th>\n",
       "      <th>DISCOUNTSSS</th>\n",
       "    </tr>\n",
       "  </thead>\n",
       "  <tbody>\n",
       "    <tr>\n",
       "      <th>0</th>\n",
       "      <td>Tazzx</td>\n",
       "      <td>₹269</td>\n",
       "      <td>86% off</td>\n",
       "    </tr>\n",
       "    <tr>\n",
       "      <th>1</th>\n",
       "      <td>STYLE GURU</td>\n",
       "      <td>₹799</td>\n",
       "      <td>77% off</td>\n",
       "    </tr>\n",
       "    <tr>\n",
       "      <th>2</th>\n",
       "      <td>FDA COLLECTION</td>\n",
       "      <td>₹199</td>\n",
       "      <td>84% off</td>\n",
       "    </tr>\n",
       "    <tr>\n",
       "      <th>3</th>\n",
       "      <td>FDA COLLECTION</td>\n",
       "      <td>₹188</td>\n",
       "      <td>87% off</td>\n",
       "    </tr>\n",
       "    <tr>\n",
       "      <th>4</th>\n",
       "      <td>JOHAENA</td>\n",
       "      <td>₹156</td>\n",
       "      <td>87% off</td>\n",
       "    </tr>\n",
       "    <tr>\n",
       "      <th>...</th>\n",
       "      <td>...</td>\n",
       "      <td>...</td>\n",
       "      <td>...</td>\n",
       "    </tr>\n",
       "    <tr>\n",
       "      <th>75</th>\n",
       "      <td>Fastrack</td>\n",
       "      <td>₹660</td>\n",
       "      <td>17% off</td>\n",
       "    </tr>\n",
       "    <tr>\n",
       "      <th>76</th>\n",
       "      <td>like future</td>\n",
       "      <td>₹229</td>\n",
       "      <td>82% off</td>\n",
       "    </tr>\n",
       "    <tr>\n",
       "      <th>77</th>\n",
       "      <td>Fastrack</td>\n",
       "      <td>₹517</td>\n",
       "      <td>35% off</td>\n",
       "    </tr>\n",
       "    <tr>\n",
       "      <th>78</th>\n",
       "      <td>Phenomenal</td>\n",
       "      <td>₹399</td>\n",
       "      <td>80% off</td>\n",
       "    </tr>\n",
       "    <tr>\n",
       "      <th>79</th>\n",
       "      <td>Gansta</td>\n",
       "      <td>₹205</td>\n",
       "      <td>84% off</td>\n",
       "    </tr>\n",
       "  </tbody>\n",
       "</table>\n",
       "<p>80 rows × 3 columns</p>\n",
       "</div>"
      ],
      "text/plain": [
       "            BRANDS PRICE DISCOUNTSSS\n",
       "0            Tazzx  ₹269     86% off\n",
       "1       STYLE GURU  ₹799     77% off\n",
       "2   FDA COLLECTION  ₹199     84% off\n",
       "3   FDA COLLECTION  ₹188     87% off\n",
       "4          JOHAENA  ₹156     87% off\n",
       "..             ...   ...         ...\n",
       "75        Fastrack  ₹660     17% off\n",
       "76     like future  ₹229     82% off\n",
       "77        Fastrack  ₹517     35% off\n",
       "78      Phenomenal  ₹399     80% off\n",
       "79          Gansta  ₹205     84% off\n",
       "\n",
       "[80 rows x 3 columns]"
      ]
     },
     "execution_count": 205,
     "metadata": {},
     "output_type": "execute_result"
    }
   ],
   "source": [
    "sunglasses=pd.DataFrame({})\n",
    "sunglasses['BRANDS']=Branding\n",
    "sunglasses['PRICE']=RATES\n",
    "sunglasses['DISCOUNTSSS']=DISCOUNT\n",
    "sunglasses"
   ]
  },
  {
   "cell_type": "markdown",
   "metadata": {},
   "source": [
    "# SOLUTION NUM 7"
   ]
  },
  {
   "cell_type": "code",
   "execution_count": 277,
   "metadata": {},
   "outputs": [],
   "source": [
    "#Lets open the website on aur web automated brouser\n",
    "driver.get('https://www.flipkart.com/apple-iphone-11-black-64-gb-includes-earpods-power-adapter/p/itm0f37c2240b217?pid=MOBFKCTSVZAXUHGR&lid=LSTMOBFKCTSVZAXUHGREPBFGI&marketplace')"
   ]
  },
  {
   "cell_type": "code",
   "execution_count": 278,
   "metadata": {},
   "outputs": [],
   "source": [
    "# Lets make the blank lists:\n",
    "review_summary1=[]\n",
    "full_review1=[]\n",
    "rating1=[]"
   ]
  },
  {
   "cell_type": "code",
   "execution_count": 279,
   "metadata": {},
   "outputs": [
    {
     "data": {
      "text/plain": [
       "[<selenium.webdriver.remote.webelement.WebElement (session=\"4f4ddfe04bad9fa3549af74d7fb4c14f\", element=\"1fcde1d7-58f9-4c6f-bc1a-ad5f4041d4d8\")>,\n",
       " <selenium.webdriver.remote.webelement.WebElement (session=\"4f4ddfe04bad9fa3549af74d7fb4c14f\", element=\"86170189-ddc7-4d2d-9313-f0696a3f7b05\")>]"
      ]
     },
     "execution_count": 279,
     "metadata": {},
     "output_type": "execute_result"
    }
   ],
   "source": [
    "#Lets extract the Review sumary\n",
    "sum_tag1=driver.find_elements_by_xpath('//p[@class=\"_2-N8zT\"]')\n",
    "sum_tag1[0:2]"
   ]
  },
  {
   "cell_type": "code",
   "execution_count": 280,
   "metadata": {},
   "outputs": [
    {
     "data": {
      "text/plain": [
       "['Perfect product!', 'Great product', 'Perfect product!']"
      ]
     },
     "execution_count": 280,
     "metadata": {},
     "output_type": "execute_result"
    }
   ],
   "source": [
    "for i in sum_tag1:\n",
    "    summ=i.text\n",
    "    review_summary1.append(summ)\n",
    "review_summary1[0:3]"
   ]
  },
  {
   "cell_type": "code",
   "execution_count": 281,
   "metadata": {},
   "outputs": [],
   "source": [
    "#lets extract the Full Reviews\n",
    "full_tag1=driver.find_elements_by_xpath('//div[@class=\"t-ZTKy\"]')\n"
   ]
  },
  {
   "cell_type": "code",
   "execution_count": 282,
   "metadata": {},
   "outputs": [
    {
     "data": {
      "text/plain": [
       "['Amazing phone with great cameras and better battery which gives you the best performance. I just love the camera .']"
      ]
     },
     "execution_count": 282,
     "metadata": {},
     "output_type": "execute_result"
    }
   ],
   "source": [
    "for i in full_tag1:\n",
    "    full=i.text\n",
    "    full_review1.append(full)\n",
    "full_review1[0:1]"
   ]
  },
  {
   "cell_type": "code",
   "execution_count": 283,
   "metadata": {},
   "outputs": [],
   "source": [
    "#lets extract the Ratings\n",
    "rating_tag1=driver.find_elements_by_xpath('//div[@class=\"_3LWZlK _1BLPMq\"]')"
   ]
  },
  {
   "cell_type": "code",
   "execution_count": 287,
   "metadata": {},
   "outputs": [
    {
     "ename": "StaleElementReferenceException",
     "evalue": "Message: stale element reference: element is not attached to the page document\n  (Session info: chrome=87.0.4280.88)\n",
     "output_type": "error",
     "traceback": [
      "\u001b[1;31m---------------------------------------------------------------------------\u001b[0m",
      "\u001b[1;31mStaleElementReferenceException\u001b[0m            Traceback (most recent call last)",
      "\u001b[1;32m<ipython-input-287-eae704617759>\u001b[0m in \u001b[0;36m<module>\u001b[1;34m\u001b[0m\n\u001b[0;32m      1\u001b[0m \u001b[1;32mfor\u001b[0m \u001b[0mi\u001b[0m \u001b[1;32min\u001b[0m \u001b[0mrating_tag1\u001b[0m\u001b[1;33m:\u001b[0m\u001b[1;33m\u001b[0m\u001b[1;33m\u001b[0m\u001b[0m\n\u001b[1;32m----> 2\u001b[1;33m     \u001b[0mstar\u001b[0m\u001b[1;33m=\u001b[0m\u001b[0mi\u001b[0m\u001b[1;33m.\u001b[0m\u001b[0mtext\u001b[0m\u001b[1;33m\u001b[0m\u001b[1;33m\u001b[0m\u001b[0m\n\u001b[0m\u001b[0;32m      3\u001b[0m     \u001b[0mrating1\u001b[0m\u001b[1;33m.\u001b[0m\u001b[0mappend\u001b[0m\u001b[1;33m(\u001b[0m\u001b[0mstar\u001b[0m\u001b[1;33m)\u001b[0m\u001b[1;33m\u001b[0m\u001b[1;33m\u001b[0m\u001b[0m\n\u001b[0;32m      4\u001b[0m \u001b[0mrating1\u001b[0m\u001b[1;33m[\u001b[0m\u001b[1;36m0\u001b[0m\u001b[1;33m:\u001b[0m\u001b[1;36m2\u001b[0m\u001b[1;33m]\u001b[0m\u001b[1;33m\u001b[0m\u001b[1;33m\u001b[0m\u001b[0m\n",
      "\u001b[1;32mC:\\ProgramData\\Anaconda3\\lib\\site-packages\\selenium\\webdriver\\remote\\webelement.py\u001b[0m in \u001b[0;36mtext\u001b[1;34m(self)\u001b[0m\n\u001b[0;32m     74\u001b[0m     \u001b[1;32mdef\u001b[0m \u001b[0mtext\u001b[0m\u001b[1;33m(\u001b[0m\u001b[0mself\u001b[0m\u001b[1;33m)\u001b[0m\u001b[1;33m:\u001b[0m\u001b[1;33m\u001b[0m\u001b[1;33m\u001b[0m\u001b[0m\n\u001b[0;32m     75\u001b[0m         \u001b[1;34m\"\"\"The text of the element.\"\"\"\u001b[0m\u001b[1;33m\u001b[0m\u001b[1;33m\u001b[0m\u001b[0m\n\u001b[1;32m---> 76\u001b[1;33m         \u001b[1;32mreturn\u001b[0m \u001b[0mself\u001b[0m\u001b[1;33m.\u001b[0m\u001b[0m_execute\u001b[0m\u001b[1;33m(\u001b[0m\u001b[0mCommand\u001b[0m\u001b[1;33m.\u001b[0m\u001b[0mGET_ELEMENT_TEXT\u001b[0m\u001b[1;33m)\u001b[0m\u001b[1;33m[\u001b[0m\u001b[1;34m'value'\u001b[0m\u001b[1;33m]\u001b[0m\u001b[1;33m\u001b[0m\u001b[1;33m\u001b[0m\u001b[0m\n\u001b[0m\u001b[0;32m     77\u001b[0m \u001b[1;33m\u001b[0m\u001b[0m\n\u001b[0;32m     78\u001b[0m     \u001b[1;32mdef\u001b[0m \u001b[0mclick\u001b[0m\u001b[1;33m(\u001b[0m\u001b[0mself\u001b[0m\u001b[1;33m)\u001b[0m\u001b[1;33m:\u001b[0m\u001b[1;33m\u001b[0m\u001b[1;33m\u001b[0m\u001b[0m\n",
      "\u001b[1;32mC:\\ProgramData\\Anaconda3\\lib\\site-packages\\selenium\\webdriver\\remote\\webelement.py\u001b[0m in \u001b[0;36m_execute\u001b[1;34m(self, command, params)\u001b[0m\n\u001b[0;32m    631\u001b[0m             \u001b[0mparams\u001b[0m \u001b[1;33m=\u001b[0m \u001b[1;33m{\u001b[0m\u001b[1;33m}\u001b[0m\u001b[1;33m\u001b[0m\u001b[1;33m\u001b[0m\u001b[0m\n\u001b[0;32m    632\u001b[0m         \u001b[0mparams\u001b[0m\u001b[1;33m[\u001b[0m\u001b[1;34m'id'\u001b[0m\u001b[1;33m]\u001b[0m \u001b[1;33m=\u001b[0m \u001b[0mself\u001b[0m\u001b[1;33m.\u001b[0m\u001b[0m_id\u001b[0m\u001b[1;33m\u001b[0m\u001b[1;33m\u001b[0m\u001b[0m\n\u001b[1;32m--> 633\u001b[1;33m         \u001b[1;32mreturn\u001b[0m \u001b[0mself\u001b[0m\u001b[1;33m.\u001b[0m\u001b[0m_parent\u001b[0m\u001b[1;33m.\u001b[0m\u001b[0mexecute\u001b[0m\u001b[1;33m(\u001b[0m\u001b[0mcommand\u001b[0m\u001b[1;33m,\u001b[0m \u001b[0mparams\u001b[0m\u001b[1;33m)\u001b[0m\u001b[1;33m\u001b[0m\u001b[1;33m\u001b[0m\u001b[0m\n\u001b[0m\u001b[0;32m    634\u001b[0m \u001b[1;33m\u001b[0m\u001b[0m\n\u001b[0;32m    635\u001b[0m     \u001b[1;32mdef\u001b[0m \u001b[0mfind_element\u001b[0m\u001b[1;33m(\u001b[0m\u001b[0mself\u001b[0m\u001b[1;33m,\u001b[0m \u001b[0mby\u001b[0m\u001b[1;33m=\u001b[0m\u001b[0mBy\u001b[0m\u001b[1;33m.\u001b[0m\u001b[0mID\u001b[0m\u001b[1;33m,\u001b[0m \u001b[0mvalue\u001b[0m\u001b[1;33m=\u001b[0m\u001b[1;32mNone\u001b[0m\u001b[1;33m)\u001b[0m\u001b[1;33m:\u001b[0m\u001b[1;33m\u001b[0m\u001b[1;33m\u001b[0m\u001b[0m\n",
      "\u001b[1;32mC:\\ProgramData\\Anaconda3\\lib\\site-packages\\selenium\\webdriver\\remote\\webdriver.py\u001b[0m in \u001b[0;36mexecute\u001b[1;34m(self, driver_command, params)\u001b[0m\n\u001b[0;32m    319\u001b[0m         \u001b[0mresponse\u001b[0m \u001b[1;33m=\u001b[0m \u001b[0mself\u001b[0m\u001b[1;33m.\u001b[0m\u001b[0mcommand_executor\u001b[0m\u001b[1;33m.\u001b[0m\u001b[0mexecute\u001b[0m\u001b[1;33m(\u001b[0m\u001b[0mdriver_command\u001b[0m\u001b[1;33m,\u001b[0m \u001b[0mparams\u001b[0m\u001b[1;33m)\u001b[0m\u001b[1;33m\u001b[0m\u001b[1;33m\u001b[0m\u001b[0m\n\u001b[0;32m    320\u001b[0m         \u001b[1;32mif\u001b[0m \u001b[0mresponse\u001b[0m\u001b[1;33m:\u001b[0m\u001b[1;33m\u001b[0m\u001b[1;33m\u001b[0m\u001b[0m\n\u001b[1;32m--> 321\u001b[1;33m             \u001b[0mself\u001b[0m\u001b[1;33m.\u001b[0m\u001b[0merror_handler\u001b[0m\u001b[1;33m.\u001b[0m\u001b[0mcheck_response\u001b[0m\u001b[1;33m(\u001b[0m\u001b[0mresponse\u001b[0m\u001b[1;33m)\u001b[0m\u001b[1;33m\u001b[0m\u001b[1;33m\u001b[0m\u001b[0m\n\u001b[0m\u001b[0;32m    322\u001b[0m             response['value'] = self._unwrap_value(\n\u001b[0;32m    323\u001b[0m                 response.get('value', None))\n",
      "\u001b[1;32mC:\\ProgramData\\Anaconda3\\lib\\site-packages\\selenium\\webdriver\\remote\\errorhandler.py\u001b[0m in \u001b[0;36mcheck_response\u001b[1;34m(self, response)\u001b[0m\n\u001b[0;32m    240\u001b[0m                 \u001b[0malert_text\u001b[0m \u001b[1;33m=\u001b[0m \u001b[0mvalue\u001b[0m\u001b[1;33m[\u001b[0m\u001b[1;34m'alert'\u001b[0m\u001b[1;33m]\u001b[0m\u001b[1;33m.\u001b[0m\u001b[0mget\u001b[0m\u001b[1;33m(\u001b[0m\u001b[1;34m'text'\u001b[0m\u001b[1;33m)\u001b[0m\u001b[1;33m\u001b[0m\u001b[1;33m\u001b[0m\u001b[0m\n\u001b[0;32m    241\u001b[0m             \u001b[1;32mraise\u001b[0m \u001b[0mexception_class\u001b[0m\u001b[1;33m(\u001b[0m\u001b[0mmessage\u001b[0m\u001b[1;33m,\u001b[0m \u001b[0mscreen\u001b[0m\u001b[1;33m,\u001b[0m \u001b[0mstacktrace\u001b[0m\u001b[1;33m,\u001b[0m \u001b[0malert_text\u001b[0m\u001b[1;33m)\u001b[0m\u001b[1;33m\u001b[0m\u001b[1;33m\u001b[0m\u001b[0m\n\u001b[1;32m--> 242\u001b[1;33m         \u001b[1;32mraise\u001b[0m \u001b[0mexception_class\u001b[0m\u001b[1;33m(\u001b[0m\u001b[0mmessage\u001b[0m\u001b[1;33m,\u001b[0m \u001b[0mscreen\u001b[0m\u001b[1;33m,\u001b[0m \u001b[0mstacktrace\u001b[0m\u001b[1;33m)\u001b[0m\u001b[1;33m\u001b[0m\u001b[1;33m\u001b[0m\u001b[0m\n\u001b[0m\u001b[0;32m    243\u001b[0m \u001b[1;33m\u001b[0m\u001b[0m\n\u001b[0;32m    244\u001b[0m     \u001b[1;32mdef\u001b[0m \u001b[0m_value_or_default\u001b[0m\u001b[1;33m(\u001b[0m\u001b[0mself\u001b[0m\u001b[1;33m,\u001b[0m \u001b[0mobj\u001b[0m\u001b[1;33m,\u001b[0m \u001b[0mkey\u001b[0m\u001b[1;33m,\u001b[0m \u001b[0mdefault\u001b[0m\u001b[1;33m)\u001b[0m\u001b[1;33m:\u001b[0m\u001b[1;33m\u001b[0m\u001b[1;33m\u001b[0m\u001b[0m\n",
      "\u001b[1;31mStaleElementReferenceException\u001b[0m: Message: stale element reference: element is not attached to the page document\n  (Session info: chrome=87.0.4280.88)\n"
     ]
    }
   ],
   "source": [
    "for i in rating_tag1:\n",
    "    star=i.text\n",
    "    rating1.append(star)\n",
    "rating1[0:2]"
   ]
  },
  {
   "cell_type": "code",
   "execution_count": 288,
   "metadata": {},
   "outputs": [],
   "source": [
    "# To click on to the next page\n",
    "next_btn=driver.find_element_by_xpath('//*[text()=\"Next\"]')\n",
    "next_btn.click()"
   ]
  },
  {
   "cell_type": "code",
   "execution_count": 289,
   "metadata": {},
   "outputs": [],
   "source": [
    "review_summary2=[]\n",
    "full_review2=[]\n",
    "rating2=[]"
   ]
  },
  {
   "cell_type": "code",
   "execution_count": 290,
   "metadata": {},
   "outputs": [],
   "source": [
    "sum_tag2=driver.find_elements_by_xpath('//p[@class=\"_2-N8zT\"]')"
   ]
  },
  {
   "cell_type": "code",
   "execution_count": 291,
   "metadata": {},
   "outputs": [
    {
     "data": {
      "text/plain": [
       "['Brilliant', 'Awesome', 'Excellent']"
      ]
     },
     "execution_count": 291,
     "metadata": {},
     "output_type": "execute_result"
    }
   ],
   "source": [
    "for i in sum_tag2:\n",
    "    summ=i.text\n",
    "    review_summary2.append(summ)\n",
    "review_summary2[0:3]"
   ]
  },
  {
   "cell_type": "code",
   "execution_count": 292,
   "metadata": {},
   "outputs": [],
   "source": [
    "#lets extract the Full Reviews\n",
    "full_tag2=driver.find_elements_by_xpath('//div[@class=\"t-ZTKy\"]')"
   ]
  },
  {
   "cell_type": "code",
   "execution_count": 293,
   "metadata": {},
   "outputs": [
    {
     "data": {
      "text/plain": [
       "['The Best Phone for the Money\\n\\nThe iPhone 11 offers superb cameras, a more durable design and excellent battery life for an affordable price.\\n\\nCompelling ultra-wide camera\\nNew Night mode is excellent\\nLong battery life']"
      ]
     },
     "execution_count": 293,
     "metadata": {},
     "output_type": "execute_result"
    }
   ],
   "source": [
    "for i in full_tag2:\n",
    "    full=i.text\n",
    "    full_review2.append(full)\n",
    "full_review2[0:1]"
   ]
  },
  {
   "cell_type": "code",
   "execution_count": 294,
   "metadata": {},
   "outputs": [],
   "source": [
    "#lets extract the Ratings\n",
    "rating_tag2=driver.find_elements_by_xpath('//div[@class=\"_3LWZlK _1BLPMq\"]')"
   ]
  },
  {
   "cell_type": "code",
   "execution_count": 295,
   "metadata": {},
   "outputs": [
    {
     "data": {
      "text/plain": [
       "['5', '5']"
      ]
     },
     "execution_count": 295,
     "metadata": {},
     "output_type": "execute_result"
    }
   ],
   "source": [
    "for i in rating_tag2:\n",
    "    star=i.text\n",
    "    rating2.append(star)\n",
    "rating2[0:2]"
   ]
  },
  {
   "cell_type": "code",
   "execution_count": 296,
   "metadata": {},
   "outputs": [],
   "source": [
    "# To click on to the next page\n",
    "next_btn=driver.find_element_by_xpath('//*[text()=\"Next\"]')\n",
    "next_btn.click()"
   ]
  },
  {
   "cell_type": "code",
   "execution_count": 297,
   "metadata": {},
   "outputs": [],
   "source": [
    "review_summary3=[]\n",
    "full_review3=[]\n",
    "rating3=[]"
   ]
  },
  {
   "cell_type": "code",
   "execution_count": 298,
   "metadata": {},
   "outputs": [],
   "source": [
    "# Lets extract the review summary\n",
    "sum_tag3=driver.find_elements_by_xpath('//p[@class=\"_2-N8zT\"]')"
   ]
  },
  {
   "cell_type": "code",
   "execution_count": 299,
   "metadata": {},
   "outputs": [
    {
     "data": {
      "text/plain": [
       "['Mind-blowing purchase', 'Mind-blowing purchase', 'Highly recommended']"
      ]
     },
     "execution_count": 299,
     "metadata": {},
     "output_type": "execute_result"
    }
   ],
   "source": [
    "for i in sum_tag3:\n",
    "    summ=i.text\n",
    "    review_summary3.append(summ)\n",
    "review_summary3[0:3]"
   ]
  },
  {
   "cell_type": "code",
   "execution_count": 300,
   "metadata": {},
   "outputs": [],
   "source": [
    "#lets extract the Full Reviews\n",
    "full_tag3=driver.find_elements_by_xpath('//div[@class=\"t-ZTKy\"]')"
   ]
  },
  {
   "cell_type": "code",
   "execution_count": 301,
   "metadata": {},
   "outputs": [
    {
     "data": {
      "text/plain": [
       "['awesome Phone Smooth Touch Too good Sexyy looks one word Awesome']"
      ]
     },
     "execution_count": 301,
     "metadata": {},
     "output_type": "execute_result"
    }
   ],
   "source": [
    "for i in full_tag3:\n",
    "    full=i.text\n",
    "    full_review3.append(full)\n",
    "full_review3[0:1]"
   ]
  },
  {
   "cell_type": "code",
   "execution_count": 302,
   "metadata": {},
   "outputs": [],
   "source": [
    "#lets extract the Ratings\n",
    "rating_tag3=driver.find_elements_by_xpath('//div[@class=\"_3LWZlK _1BLPMq\"]')"
   ]
  },
  {
   "cell_type": "code",
   "execution_count": 303,
   "metadata": {},
   "outputs": [
    {
     "data": {
      "text/plain": [
       "['5', '5']"
      ]
     },
     "execution_count": 303,
     "metadata": {},
     "output_type": "execute_result"
    }
   ],
   "source": [
    "for i in rating_tag3:\n",
    "    star=i.text\n",
    "    rating3.append(star)\n",
    "rating3[0:2]"
   ]
  },
  {
   "cell_type": "code",
   "execution_count": 304,
   "metadata": {},
   "outputs": [],
   "source": [
    "# To click on to the next page\n",
    "next_btn=driver.find_element_by_xpath('//*[text()=\"Next\"]')\n",
    "next_btn.click()"
   ]
  },
  {
   "cell_type": "code",
   "execution_count": 305,
   "metadata": {},
   "outputs": [],
   "source": [
    "# To create the blank lists\n",
    "review_summary4=[]\n",
    "full_review4=[]\n",
    "rating4=[]"
   ]
  },
  {
   "cell_type": "code",
   "execution_count": 306,
   "metadata": {},
   "outputs": [],
   "source": [
    "# Lets extract the review summary\n",
    "sum_tag4=driver.find_elements_by_xpath('//p[@class=\"_2-N8zT\"]')"
   ]
  },
  {
   "cell_type": "code",
   "execution_count": 307,
   "metadata": {},
   "outputs": [
    {
     "data": {
      "text/plain": [
       "['Perfect product!', 'Decent product', 'Wonderful']"
      ]
     },
     "execution_count": 307,
     "metadata": {},
     "output_type": "execute_result"
    }
   ],
   "source": [
    "for i in sum_tag4:\n",
    "    summ=i.text\n",
    "    review_summary4.append(summ)\n",
    "review_summary4[0:3]"
   ]
  },
  {
   "cell_type": "code",
   "execution_count": 308,
   "metadata": {},
   "outputs": [],
   "source": [
    "#lets extract the Full Reviews\n",
    "full_tag4=driver.find_elements_by_xpath('//div[@class=\"t-ZTKy\"]')"
   ]
  },
  {
   "cell_type": "code",
   "execution_count": 309,
   "metadata": {},
   "outputs": [
    {
     "data": {
      "text/plain": [
       "['After 1 month use I found camera quality best compared to my previous Samsung note 10+.Display not good as note 10 also charging too slow.Apple should add fast charger like 11 plus and pro.Best phone for daily use']"
      ]
     },
     "execution_count": 309,
     "metadata": {},
     "output_type": "execute_result"
    }
   ],
   "source": [
    "for i in full_tag4:\n",
    "    full=i.text\n",
    "    full_review4.append(full)\n",
    "full_review4[0:1]"
   ]
  },
  {
   "cell_type": "code",
   "execution_count": 310,
   "metadata": {},
   "outputs": [],
   "source": [
    "#lets extract the Ratings\n",
    "rating_tag4=driver.find_elements_by_xpath('//div[@class=\"_3LWZlK _1BLPMq\"]')"
   ]
  },
  {
   "cell_type": "code",
   "execution_count": 311,
   "metadata": {},
   "outputs": [
    {
     "data": {
      "text/plain": [
       "['5', '3']"
      ]
     },
     "execution_count": 311,
     "metadata": {},
     "output_type": "execute_result"
    }
   ],
   "source": [
    "for i in rating_tag4:\n",
    "    star=i.text\n",
    "    rating4.append(star)\n",
    "rating4[0:2]"
   ]
  },
  {
   "cell_type": "code",
   "execution_count": 312,
   "metadata": {},
   "outputs": [],
   "source": [
    "# To click on to the next page\n",
    "next_btn=driver.find_element_by_xpath('//*[text()=\"Next\"]')\n",
    "next_btn.click()"
   ]
  },
  {
   "cell_type": "code",
   "execution_count": 313,
   "metadata": {},
   "outputs": [],
   "source": [
    "# To create the blank lists\n",
    "review_summary5=[]\n",
    "full_review5=[]\n",
    "rating5=[]"
   ]
  },
  {
   "cell_type": "code",
   "execution_count": 314,
   "metadata": {},
   "outputs": [],
   "source": [
    "# Lets extract the review summary\n",
    "sum_tag5=driver.find_elements_by_xpath('//p[@class=\"_2-N8zT\"]')"
   ]
  },
  {
   "cell_type": "code",
   "execution_count": 315,
   "metadata": {},
   "outputs": [
    {
     "data": {
      "text/plain": [
       "['Fabulous!', 'Perfect product!', 'Brilliant']"
      ]
     },
     "execution_count": 315,
     "metadata": {},
     "output_type": "execute_result"
    }
   ],
   "source": [
    "for i in sum_tag5:\n",
    "    summ=i.text\n",
    "    review_summary5.append(summ)\n",
    "review_summary5[0:3]"
   ]
  },
  {
   "cell_type": "code",
   "execution_count": 316,
   "metadata": {},
   "outputs": [],
   "source": [
    "#lets extract the Full Reviews\n",
    "full_tag5=driver.find_elements_by_xpath('//div[@class=\"t-ZTKy\"]')"
   ]
  },
  {
   "cell_type": "code",
   "execution_count": 317,
   "metadata": {},
   "outputs": [
    {
     "data": {
      "text/plain": [
       "['I really liked the budget iPhone. First I thought display would be issue as it is a LCD with less pixels, then after using my perception changed and I never felt like I am using an outdated display. Though I also use S 10+ with Amoled display.\\n\\nSo this is perfect iPhone and a real value for money.']"
      ]
     },
     "execution_count": 317,
     "metadata": {},
     "output_type": "execute_result"
    }
   ],
   "source": [
    "for i in full_tag5:\n",
    "    full=i.text\n",
    "    full_review5.append(full)\n",
    "full_review5[0:1]"
   ]
  },
  {
   "cell_type": "code",
   "execution_count": 318,
   "metadata": {},
   "outputs": [],
   "source": [
    "#lets extract the Ratings\n",
    "rating_tag5=driver.find_elements_by_xpath('//div[@class=\"_3LWZlK _1BLPMq\"]')"
   ]
  },
  {
   "cell_type": "code",
   "execution_count": 319,
   "metadata": {},
   "outputs": [
    {
     "data": {
      "text/plain": [
       "['5', '5']"
      ]
     },
     "execution_count": 319,
     "metadata": {},
     "output_type": "execute_result"
    }
   ],
   "source": [
    "for i in rating_tag5:\n",
    "    star=i.text\n",
    "    rating5.append(star)\n",
    "rating5[0:2]"
   ]
  },
  {
   "cell_type": "code",
   "execution_count": 320,
   "metadata": {},
   "outputs": [],
   "source": [
    "# Lets Add all the data so that we can out that in a DataFrame\n",
    "review_summary=review_summary1 + review_summary2 + review_summary3 + review_summary4 + review_summary5\n",
    "full_review=full_review1 + full_review2 + full_review3 + full_review4 + full_review5\n",
    "rating=rating1 + rating2 + rating3 + rating4 + rating5"
   ]
  },
  {
   "cell_type": "code",
   "execution_count": 321,
   "metadata": {},
   "outputs": [
    {
     "name": "stdout",
     "output_type": "stream",
     "text": [
      "50 50 50\n"
     ]
    }
   ],
   "source": [
    "print(len(review_summary),len(full_review),len(rating))"
   ]
  },
  {
   "cell_type": "code",
   "execution_count": 322,
   "metadata": {},
   "outputs": [
    {
     "data": {
      "text/html": [
       "<div>\n",
       "<style scoped>\n",
       "    .dataframe tbody tr th:only-of-type {\n",
       "        vertical-align: middle;\n",
       "    }\n",
       "\n",
       "    .dataframe tbody tr th {\n",
       "        vertical-align: top;\n",
       "    }\n",
       "\n",
       "    .dataframe thead th {\n",
       "        text-align: right;\n",
       "    }\n",
       "</style>\n",
       "<table border=\"1\" class=\"dataframe\">\n",
       "  <thead>\n",
       "    <tr style=\"text-align: right;\">\n",
       "      <th></th>\n",
       "      <th>Reviews-Summary</th>\n",
       "      <th>Full-Reviews</th>\n",
       "      <th>Customer Ratings</th>\n",
       "    </tr>\n",
       "  </thead>\n",
       "  <tbody>\n",
       "    <tr>\n",
       "      <th>0</th>\n",
       "      <td>Perfect product!</td>\n",
       "      <td>Amazing phone with great cameras and better ba...</td>\n",
       "      <td>5</td>\n",
       "    </tr>\n",
       "    <tr>\n",
       "      <th>1</th>\n",
       "      <td>Great product</td>\n",
       "      <td>Amazing Powerful and Durable Gadget.\\n\\nI’m am...</td>\n",
       "      <td>5</td>\n",
       "    </tr>\n",
       "    <tr>\n",
       "      <th>2</th>\n",
       "      <td>Perfect product!</td>\n",
       "      <td>It’s a must buy who is looking for an upgrade ...</td>\n",
       "      <td>5</td>\n",
       "    </tr>\n",
       "    <tr>\n",
       "      <th>3</th>\n",
       "      <td></td>\n",
       "      <td></td>\n",
       "      <td></td>\n",
       "    </tr>\n",
       "    <tr>\n",
       "      <th>4</th>\n",
       "      <td></td>\n",
       "      <td></td>\n",
       "      <td></td>\n",
       "    </tr>\n",
       "    <tr>\n",
       "      <th>5</th>\n",
       "      <td></td>\n",
       "      <td></td>\n",
       "      <td></td>\n",
       "    </tr>\n",
       "    <tr>\n",
       "      <th>6</th>\n",
       "      <td></td>\n",
       "      <td></td>\n",
       "      <td></td>\n",
       "    </tr>\n",
       "    <tr>\n",
       "      <th>7</th>\n",
       "      <td></td>\n",
       "      <td></td>\n",
       "      <td></td>\n",
       "    </tr>\n",
       "    <tr>\n",
       "      <th>8</th>\n",
       "      <td></td>\n",
       "      <td></td>\n",
       "      <td></td>\n",
       "    </tr>\n",
       "    <tr>\n",
       "      <th>9</th>\n",
       "      <td></td>\n",
       "      <td></td>\n",
       "      <td></td>\n",
       "    </tr>\n",
       "    <tr>\n",
       "      <th>10</th>\n",
       "      <td>Brilliant</td>\n",
       "      <td>The Best Phone for the Money\\n\\nThe iPhone 11 ...</td>\n",
       "      <td>5</td>\n",
       "    </tr>\n",
       "    <tr>\n",
       "      <th>11</th>\n",
       "      <td>Awesome</td>\n",
       "      <td>Very excited to have this phone. This phone ha...</td>\n",
       "      <td>5</td>\n",
       "    </tr>\n",
       "    <tr>\n",
       "      <th>12</th>\n",
       "      <td>Excellent</td>\n",
       "      <td>Amazing camera and feel super machine I am not...</td>\n",
       "      <td>5</td>\n",
       "    </tr>\n",
       "    <tr>\n",
       "      <th>13</th>\n",
       "      <td>Fabulous!</td>\n",
       "      <td>awesome phone to have. it has got many smart f...</td>\n",
       "      <td>5</td>\n",
       "    </tr>\n",
       "    <tr>\n",
       "      <th>14</th>\n",
       "      <td>Simply awesome</td>\n",
       "      <td>It's very high performances devise i am like t...</td>\n",
       "      <td>5</td>\n",
       "    </tr>\n",
       "    <tr>\n",
       "      <th>15</th>\n",
       "      <td>Fabulous!</td>\n",
       "      <td>This is my first iOS phone. I am very happy wi...</td>\n",
       "      <td>5</td>\n",
       "    </tr>\n",
       "    <tr>\n",
       "      <th>16</th>\n",
       "      <td>Classy product</td>\n",
       "      <td>Superb Product !!!\\nA big and worthy upgrade f...</td>\n",
       "      <td>5</td>\n",
       "    </tr>\n",
       "    <tr>\n",
       "      <th>17</th>\n",
       "      <td>Terrific</td>\n",
       "      <td>Really worth of money. i just love it. It is t...</td>\n",
       "      <td>5</td>\n",
       "    </tr>\n",
       "    <tr>\n",
       "      <th>18</th>\n",
       "      <td>Perfect product!</td>\n",
       "      <td>Awesome purchase. Amazing phone with good batt...</td>\n",
       "      <td>5</td>\n",
       "    </tr>\n",
       "    <tr>\n",
       "      <th>19</th>\n",
       "      <td>Good choice</td>\n",
       "      <td>So far it’s been an AMAZING experience coming ...</td>\n",
       "      <td>4</td>\n",
       "    </tr>\n",
       "    <tr>\n",
       "      <th>20</th>\n",
       "      <td>Mind-blowing purchase</td>\n",
       "      <td>awesome Phone Smooth Touch Too good Sexyy look...</td>\n",
       "      <td>5</td>\n",
       "    </tr>\n",
       "    <tr>\n",
       "      <th>21</th>\n",
       "      <td>Mind-blowing purchase</td>\n",
       "      <td>Best Quality Product OF iPhone Series , Sound ...</td>\n",
       "      <td>5</td>\n",
       "    </tr>\n",
       "    <tr>\n",
       "      <th>22</th>\n",
       "      <td>Highly recommended</td>\n",
       "      <td>What a camera .....just awesome ..you can feel...</td>\n",
       "      <td>5</td>\n",
       "    </tr>\n",
       "    <tr>\n",
       "      <th>23</th>\n",
       "      <td>Highly recommended</td>\n",
       "      <td>It's my first time to use iOS phone and I am l...</td>\n",
       "      <td>5</td>\n",
       "    </tr>\n",
       "    <tr>\n",
       "      <th>24</th>\n",
       "      <td>Brilliant</td>\n",
       "      <td>I have migrated from OP 7pro... and trust me, ...</td>\n",
       "      <td>5</td>\n",
       "    </tr>\n",
       "    <tr>\n",
       "      <th>25</th>\n",
       "      <td>Just wow!</td>\n",
       "      <td>Beautiful phone with beautiful design. I have ...</td>\n",
       "      <td>5</td>\n",
       "    </tr>\n",
       "    <tr>\n",
       "      <th>26</th>\n",
       "      <td>Fabulous!</td>\n",
       "      <td>Just an awesome phone...upgraded from 6s to 11...</td>\n",
       "      <td>5</td>\n",
       "    </tr>\n",
       "    <tr>\n",
       "      <th>27</th>\n",
       "      <td>Fabulous!</td>\n",
       "      <td>I purchased the iPhone 11 a month back. I must...</td>\n",
       "      <td>5</td>\n",
       "    </tr>\n",
       "    <tr>\n",
       "      <th>28</th>\n",
       "      <td>Excellent</td>\n",
       "      <td>Value for money product. This iphone 11 is rea...</td>\n",
       "      <td>5</td>\n",
       "    </tr>\n",
       "    <tr>\n",
       "      <th>29</th>\n",
       "      <td>Perfect product!</td>\n",
       "      <td>Battery backup is extraordinary, camera is dec...</td>\n",
       "      <td>5</td>\n",
       "    </tr>\n",
       "    <tr>\n",
       "      <th>30</th>\n",
       "      <td>Perfect product!</td>\n",
       "      <td>After 1 month use I found camera quality best ...</td>\n",
       "      <td>5</td>\n",
       "    </tr>\n",
       "    <tr>\n",
       "      <th>31</th>\n",
       "      <td>Decent product</td>\n",
       "      <td>Everything u ll like it when u use this iPhone...</td>\n",
       "      <td>3</td>\n",
       "    </tr>\n",
       "    <tr>\n",
       "      <th>32</th>\n",
       "      <td>Wonderful</td>\n",
       "      <td>I just directly switch from iphone 6s to iphon...</td>\n",
       "      <td>5</td>\n",
       "    </tr>\n",
       "    <tr>\n",
       "      <th>33</th>\n",
       "      <td>Terrific purchase</td>\n",
       "      <td>Well , as we all know if its not an Iphone , i...</td>\n",
       "      <td>5</td>\n",
       "    </tr>\n",
       "    <tr>\n",
       "      <th>34</th>\n",
       "      <td>Just wow!</td>\n",
       "      <td>Great iphone.\\nI am writing this review after ...</td>\n",
       "      <td>5</td>\n",
       "    </tr>\n",
       "    <tr>\n",
       "      <th>35</th>\n",
       "      <td>Terrific purchase</td>\n",
       "      <td>I use a Note10+ and have been using both iOS a...</td>\n",
       "      <td>5</td>\n",
       "    </tr>\n",
       "    <tr>\n",
       "      <th>36</th>\n",
       "      <td>Awesome</td>\n",
       "      <td>The phone is completely good\\nAs far as camera...</td>\n",
       "      <td>5</td>\n",
       "    </tr>\n",
       "    <tr>\n",
       "      <th>37</th>\n",
       "      <td>Value-for-money</td>\n",
       "      <td>As usual a great product from Apple. but the l...</td>\n",
       "      <td>4</td>\n",
       "    </tr>\n",
       "    <tr>\n",
       "      <th>38</th>\n",
       "      <td>Wonderful</td>\n",
       "      <td>Superfast delivery by Flipkart. Thanks.\\n\\n1. ...</td>\n",
       "      <td>5</td>\n",
       "    </tr>\n",
       "    <tr>\n",
       "      <th>39</th>\n",
       "      <td>Very Good</td>\n",
       "      <td>impressive super phone and best in class camer...</td>\n",
       "      <td>4</td>\n",
       "    </tr>\n",
       "    <tr>\n",
       "      <th>40</th>\n",
       "      <td>Fabulous!</td>\n",
       "      <td>I really liked the budget iPhone. First I thou...</td>\n",
       "      <td>5</td>\n",
       "    </tr>\n",
       "    <tr>\n",
       "      <th>41</th>\n",
       "      <td>Perfect product!</td>\n",
       "      <td>Worth the money’ starting first from its perfo...</td>\n",
       "      <td>5</td>\n",
       "    </tr>\n",
       "    <tr>\n",
       "      <th>42</th>\n",
       "      <td>Brilliant</td>\n",
       "      <td>Excellent camera and display touching very nic...</td>\n",
       "      <td>5</td>\n",
       "    </tr>\n",
       "    <tr>\n",
       "      <th>43</th>\n",
       "      <td>Super!</td>\n",
       "      <td>I’d like to start by saying that the overall e...</td>\n",
       "      <td>5</td>\n",
       "    </tr>\n",
       "    <tr>\n",
       "      <th>44</th>\n",
       "      <td>Awesome</td>\n",
       "      <td>Can’t beat the software and hardware integrati...</td>\n",
       "      <td>5</td>\n",
       "    </tr>\n",
       "    <tr>\n",
       "      <th>45</th>\n",
       "      <td>Worth every penny</td>\n",
       "      <td>Just go for it without a second thought, if yo...</td>\n",
       "      <td>5</td>\n",
       "    </tr>\n",
       "    <tr>\n",
       "      <th>46</th>\n",
       "      <td>Must buy!</td>\n",
       "      <td>I will just say its an awesome phone. Starting...</td>\n",
       "      <td>5</td>\n",
       "    </tr>\n",
       "    <tr>\n",
       "      <th>47</th>\n",
       "      <td>Mind-blowing purchase</td>\n",
       "      <td>i was confused between 11 and 11 pro. i was go...</td>\n",
       "      <td>5</td>\n",
       "    </tr>\n",
       "    <tr>\n",
       "      <th>48</th>\n",
       "      <td>Terrific</td>\n",
       "      <td>Very good smartphone and value for smoother an...</td>\n",
       "      <td>5</td>\n",
       "    </tr>\n",
       "    <tr>\n",
       "      <th>49</th>\n",
       "      <td>Good quality product</td>\n",
       "      <td>Awesome camera, smooth and fast UI, display is...</td>\n",
       "      <td>4</td>\n",
       "    </tr>\n",
       "  </tbody>\n",
       "</table>\n",
       "</div>"
      ],
      "text/plain": [
       "          Reviews-Summary                                       Full-Reviews  \\\n",
       "0        Perfect product!  Amazing phone with great cameras and better ba...   \n",
       "1           Great product  Amazing Powerful and Durable Gadget.\\n\\nI’m am...   \n",
       "2        Perfect product!  It’s a must buy who is looking for an upgrade ...   \n",
       "3                                                                              \n",
       "4                                                                              \n",
       "5                                                                              \n",
       "6                                                                              \n",
       "7                                                                              \n",
       "8                                                                              \n",
       "9                                                                              \n",
       "10              Brilliant  The Best Phone for the Money\\n\\nThe iPhone 11 ...   \n",
       "11                Awesome  Very excited to have this phone. This phone ha...   \n",
       "12              Excellent  Amazing camera and feel super machine I am not...   \n",
       "13              Fabulous!  awesome phone to have. it has got many smart f...   \n",
       "14         Simply awesome  It's very high performances devise i am like t...   \n",
       "15              Fabulous!  This is my first iOS phone. I am very happy wi...   \n",
       "16         Classy product  Superb Product !!!\\nA big and worthy upgrade f...   \n",
       "17               Terrific  Really worth of money. i just love it. It is t...   \n",
       "18       Perfect product!  Awesome purchase. Amazing phone with good batt...   \n",
       "19            Good choice  So far it’s been an AMAZING experience coming ...   \n",
       "20  Mind-blowing purchase  awesome Phone Smooth Touch Too good Sexyy look...   \n",
       "21  Mind-blowing purchase  Best Quality Product OF iPhone Series , Sound ...   \n",
       "22     Highly recommended  What a camera .....just awesome ..you can feel...   \n",
       "23     Highly recommended  It's my first time to use iOS phone and I am l...   \n",
       "24              Brilliant  I have migrated from OP 7pro... and trust me, ...   \n",
       "25              Just wow!  Beautiful phone with beautiful design. I have ...   \n",
       "26              Fabulous!  Just an awesome phone...upgraded from 6s to 11...   \n",
       "27              Fabulous!  I purchased the iPhone 11 a month back. I must...   \n",
       "28              Excellent  Value for money product. This iphone 11 is rea...   \n",
       "29       Perfect product!  Battery backup is extraordinary, camera is dec...   \n",
       "30       Perfect product!  After 1 month use I found camera quality best ...   \n",
       "31         Decent product  Everything u ll like it when u use this iPhone...   \n",
       "32              Wonderful  I just directly switch from iphone 6s to iphon...   \n",
       "33      Terrific purchase  Well , as we all know if its not an Iphone , i...   \n",
       "34              Just wow!  Great iphone.\\nI am writing this review after ...   \n",
       "35      Terrific purchase  I use a Note10+ and have been using both iOS a...   \n",
       "36                Awesome  The phone is completely good\\nAs far as camera...   \n",
       "37        Value-for-money  As usual a great product from Apple. but the l...   \n",
       "38              Wonderful  Superfast delivery by Flipkart. Thanks.\\n\\n1. ...   \n",
       "39              Very Good  impressive super phone and best in class camer...   \n",
       "40              Fabulous!  I really liked the budget iPhone. First I thou...   \n",
       "41       Perfect product!  Worth the money’ starting first from its perfo...   \n",
       "42              Brilliant  Excellent camera and display touching very nic...   \n",
       "43                 Super!  I’d like to start by saying that the overall e...   \n",
       "44                Awesome  Can’t beat the software and hardware integrati...   \n",
       "45      Worth every penny  Just go for it without a second thought, if yo...   \n",
       "46              Must buy!  I will just say its an awesome phone. Starting...   \n",
       "47  Mind-blowing purchase  i was confused between 11 and 11 pro. i was go...   \n",
       "48               Terrific  Very good smartphone and value for smoother an...   \n",
       "49   Good quality product  Awesome camera, smooth and fast UI, display is...   \n",
       "\n",
       "   Customer Ratings  \n",
       "0                 5  \n",
       "1                 5  \n",
       "2                 5  \n",
       "3                    \n",
       "4                    \n",
       "5                    \n",
       "6                    \n",
       "7                    \n",
       "8                    \n",
       "9                    \n",
       "10                5  \n",
       "11                5  \n",
       "12                5  \n",
       "13                5  \n",
       "14                5  \n",
       "15                5  \n",
       "16                5  \n",
       "17                5  \n",
       "18                5  \n",
       "19                4  \n",
       "20                5  \n",
       "21                5  \n",
       "22                5  \n",
       "23                5  \n",
       "24                5  \n",
       "25                5  \n",
       "26                5  \n",
       "27                5  \n",
       "28                5  \n",
       "29                5  \n",
       "30                5  \n",
       "31                3  \n",
       "32                5  \n",
       "33                5  \n",
       "34                5  \n",
       "35                5  \n",
       "36                5  \n",
       "37                4  \n",
       "38                5  \n",
       "39                4  \n",
       "40                5  \n",
       "41                5  \n",
       "42                5  \n",
       "43                5  \n",
       "44                5  \n",
       "45                5  \n",
       "46                5  \n",
       "47                5  \n",
       "48                5  \n",
       "49                4  "
      ]
     },
     "execution_count": 322,
     "metadata": {},
     "output_type": "execute_result"
    }
   ],
   "source": [
    "Reviews=pd.DataFrame({})\n",
    "Reviews['Reviews-Summary']=review_summary\n",
    "Reviews['Full-Reviews']=full_review\n",
    "Reviews['Customer Ratings']=rating\n",
    "Reviews"
   ]
  },
  {
   "cell_type": "markdown",
   "metadata": {},
   "source": [
    "# SOLUTION NUMBER 8"
   ]
  },
  {
   "cell_type": "code",
   "execution_count": 368,
   "metadata": {},
   "outputs": [],
   "source": [
    "# Lets open a new website i:e flipkart.com\n",
    "driver.get('https://www.flipkart.com/')"
   ]
  },
  {
   "cell_type": "code",
   "execution_count": 369,
   "metadata": {},
   "outputs": [],
   "source": [
    "search_product=driver.find_element_by_xpath('//input[@class=\"_3704LK\"]')\n",
    "search_product.send_keys('sneakers')"
   ]
  },
  {
   "cell_type": "code",
   "execution_count": 370,
   "metadata": {},
   "outputs": [],
   "source": [
    "search_btn=driver.find_element_by_xpath('//button[@class=\"L0Z3Pu\"]')\n",
    "search_btn.click()"
   ]
  },
  {
   "cell_type": "code",
   "execution_count": 371,
   "metadata": {},
   "outputs": [],
   "source": [
    "# We have to create the empty lists\n",
    "brand1=[]\n",
    "description1=[]\n",
    "price1=[]\n",
    "discount1=[]"
   ]
  },
  {
   "cell_type": "code",
   "execution_count": 372,
   "metadata": {},
   "outputs": [],
   "source": [
    "# TO extract all the elements for Brands\n",
    "brand_tag1=driver.find_elements_by_xpath('//div[@class=\"_2WkVRV\"]')"
   ]
  },
  {
   "cell_type": "code",
   "execution_count": 373,
   "metadata": {},
   "outputs": [
    {
     "data": {
      "text/plain": [
       "['Rockfield', 'Rockfield', 'Chevit']"
      ]
     },
     "execution_count": 373,
     "metadata": {},
     "output_type": "execute_result"
    }
   ],
   "source": [
    "for i in brand_tag1:\n",
    "    rate=i.text\n",
    "    brand1.append(rate)\n",
    "brand1[0:3]"
   ]
  },
  {
   "cell_type": "code",
   "execution_count": 374,
   "metadata": {},
   "outputs": [],
   "source": [
    "#To extract the elements for Product Description\n",
    "desc_tag1=driver.find_elements_by_xpath('//a[@class=\"IRpwTa\"]')"
   ]
  },
  {
   "cell_type": "code",
   "execution_count": 375,
   "metadata": {},
   "outputs": [
    {
     "data": {
      "text/plain": [
       "['Sneakers For Men',\n",
       " 'Sneakers For Men',\n",
       " 'Combo Pack of 4 Casual Sneakers With Sneakers For Men']"
      ]
     },
     "execution_count": 375,
     "metadata": {},
     "output_type": "execute_result"
    }
   ],
   "source": [
    "for i in desc_tag1:\n",
    "    descrip=i.text\n",
    "    description1.append(descrip)\n",
    "description1[0:3]"
   ]
  },
  {
   "cell_type": "code",
   "execution_count": 376,
   "metadata": {},
   "outputs": [],
   "source": [
    "# To extract the elemnts for Price\n",
    "rate_tag1=driver.find_elements_by_xpath('//div[@class=\"_30jeq3\"]')"
   ]
  },
  {
   "cell_type": "code",
   "execution_count": 377,
   "metadata": {},
   "outputs": [
    {
     "data": {
      "text/plain": [
       "['₹379', '₹417', '₹579', '₹236', '₹240']"
      ]
     },
     "execution_count": 377,
     "metadata": {},
     "output_type": "execute_result"
    }
   ],
   "source": [
    "for i in rate_tag1:\n",
    "    rate=i.text\n",
    "    price1.append(rate)\n",
    "price1[0:5]"
   ]
  },
  {
   "cell_type": "code",
   "execution_count": 378,
   "metadata": {},
   "outputs": [],
   "source": [
    "#To Extract the elements for Discounts\n",
    "disc_tag1=driver.find_elements_by_xpath('//div[@class=\"_3Ay6Sb\"]')"
   ]
  },
  {
   "cell_type": "code",
   "execution_count": 379,
   "metadata": {},
   "outputs": [
    {
     "data": {
      "text/plain": [
       "['62% off', '58% off', '70% off', '52% off']"
      ]
     },
     "execution_count": 379,
     "metadata": {},
     "output_type": "execute_result"
    }
   ],
   "source": [
    "for i in disc_tag1:\n",
    "    dics=i.text\n",
    "    discount1.append(dics)\n",
    "discount1[0:4]"
   ]
  },
  {
   "cell_type": "code",
   "execution_count": 380,
   "metadata": {},
   "outputs": [],
   "source": [
    "#To click on the next button\n",
    "next_btn=driver.find_element_by_xpath('//a[@class=\"ge-49M\"]')\n",
    "next_btn.click()"
   ]
  },
  {
   "cell_type": "code",
   "execution_count": 381,
   "metadata": {},
   "outputs": [],
   "source": [
    "# We have to create the empty lists\n",
    "brand2=[]\n",
    "description2=[]\n",
    "price2=[]\n",
    "discount2=[]"
   ]
  },
  {
   "cell_type": "code",
   "execution_count": 382,
   "metadata": {},
   "outputs": [],
   "source": [
    "# TO extract all the elements for Brands\n",
    "brand_tag2=driver.find_elements_by_xpath('//div[@class=\"_2WkVRV\"]')"
   ]
  },
  {
   "cell_type": "code",
   "execution_count": 383,
   "metadata": {},
   "outputs": [
    {
     "data": {
      "text/plain": [
       "['World Wear Footwear', 'Chevit', 'Oricum']"
      ]
     },
     "execution_count": 383,
     "metadata": {},
     "output_type": "execute_result"
    }
   ],
   "source": [
    "for i in brand_tag2:\n",
    "    rate=i.text\n",
    "    brand2.append(rate)\n",
    "brand2[0:3]"
   ]
  },
  {
   "cell_type": "code",
   "execution_count": 384,
   "metadata": {},
   "outputs": [],
   "source": [
    "#To extract the elements for Product Description\n",
    "desc_tag2=driver.find_elements_by_xpath('//a[@class=\"IRpwTa\"]')"
   ]
  },
  {
   "cell_type": "code",
   "execution_count": 385,
   "metadata": {},
   "outputs": [
    {
     "data": {
      "text/plain": [
       "['Sneakers For Men',\n",
       " '169 Smart Sky Blue Lace-Ups Casuals for Men Sneakers Fo...',\n",
       " 'ORIFWSH(A)-303 Sneakers For Men']"
      ]
     },
     "execution_count": 385,
     "metadata": {},
     "output_type": "execute_result"
    }
   ],
   "source": [
    "for i in desc_tag2:\n",
    "    descrip=i.text\n",
    "    description2.append(descrip)\n",
    "description2[0:3]"
   ]
  },
  {
   "cell_type": "code",
   "execution_count": 386,
   "metadata": {},
   "outputs": [],
   "source": [
    "# To extract the elemnts for Price\n",
    "rate_tag1=driver.find_elements_by_xpath('//div[@class=\"_30jeq3\"]')"
   ]
  },
  {
   "cell_type": "code",
   "execution_count": 387,
   "metadata": {},
   "outputs": [
    {
     "data": {
      "text/plain": [
       "['₹240', '₹236', '₹284', '₹474', '₹498']"
      ]
     },
     "execution_count": 387,
     "metadata": {},
     "output_type": "execute_result"
    }
   ],
   "source": [
    "for i in rate_tag1:\n",
    "    rate=i.text\n",
    "    price2.append(rate)\n",
    "price2[0:5]"
   ]
  },
  {
   "cell_type": "code",
   "execution_count": 388,
   "metadata": {},
   "outputs": [],
   "source": [
    "#To Extract the elements for Discounts\n",
    "disc_tag1=driver.find_elements_by_xpath('//div[@class=\"_3Ay6Sb\"]')"
   ]
  },
  {
   "cell_type": "code",
   "execution_count": 389,
   "metadata": {},
   "outputs": [
    {
     "data": {
      "text/plain": [
       "['51% off', '52% off', '43% off', '52% off']"
      ]
     },
     "execution_count": 389,
     "metadata": {},
     "output_type": "execute_result"
    }
   ],
   "source": [
    "for i in disc_tag1:\n",
    "    dics=i.text\n",
    "    discount2.append(dics)\n",
    "discount2[0:4]"
   ]
  },
  {
   "cell_type": "code",
   "execution_count": 390,
   "metadata": {},
   "outputs": [],
   "source": [
    "#To click on the next button to get on page num 3\n",
    "next_btn=driver.find_element_by_xpath('//*[text()=\"Next\"]')\n",
    "next_btn.click()"
   ]
  },
  {
   "cell_type": "code",
   "execution_count": 391,
   "metadata": {},
   "outputs": [],
   "source": [
    "# We have to create the empty lists\n",
    "brand3=[]\n",
    "description3=[]\n",
    "price3=[]\n",
    "discount3=[]"
   ]
  },
  {
   "cell_type": "code",
   "execution_count": 392,
   "metadata": {},
   "outputs": [],
   "source": [
    "# TO extract all the elements for Brands\n",
    "brand_tag2=driver.find_elements_by_xpath('//div[@class=\"_2WkVRV\"]')"
   ]
  },
  {
   "cell_type": "code",
   "execution_count": 393,
   "metadata": {},
   "outputs": [
    {
     "data": {
      "text/plain": [
       "['Tryviz', 'Rockfield', 'Chevit']"
      ]
     },
     "execution_count": 393,
     "metadata": {},
     "output_type": "execute_result"
    }
   ],
   "source": [
    "for i in brand_tag2:\n",
    "    rate=i.text\n",
    "    brand3.append(rate)\n",
    "brand3[0:3]"
   ]
  },
  {
   "cell_type": "code",
   "execution_count": 394,
   "metadata": {},
   "outputs": [],
   "source": [
    "#To extract the elements for Product Description\n",
    "desc_tag2=driver.find_elements_by_xpath('//a[@class=\"IRpwTa\"]')"
   ]
  },
  {
   "cell_type": "code",
   "execution_count": 395,
   "metadata": {},
   "outputs": [
    {
     "data": {
      "text/plain": [
       "['Sneakers For Men',\n",
       " 'Smart Casuals Canvas Shoes Combo pack of 2 Sneakers For...',\n",
       " 'Mesh Casual Sneakers Shoes for Men And Boys Sneakers Fo...']"
      ]
     },
     "execution_count": 395,
     "metadata": {},
     "output_type": "execute_result"
    }
   ],
   "source": [
    "for i in desc_tag2:\n",
    "    descrip=i.text\n",
    "    description3.append(descrip)\n",
    "description3[0:3]"
   ]
  },
  {
   "cell_type": "code",
   "execution_count": 396,
   "metadata": {},
   "outputs": [],
   "source": [
    "# To extract the elemnts for Price\n",
    "rate_tag1=driver.find_elements_by_xpath('//div[@class=\"_30jeq3\"]')"
   ]
  },
  {
   "cell_type": "code",
   "execution_count": 397,
   "metadata": {},
   "outputs": [
    {
     "data": {
      "text/plain": [
       "['₹251', '₹426', '₹379', '₹474', '₹367']"
      ]
     },
     "execution_count": 397,
     "metadata": {},
     "output_type": "execute_result"
    }
   ],
   "source": [
    "for i in rate_tag1:\n",
    "    rate=i.text\n",
    "    price3.append(rate)\n",
    "price3[0:5]"
   ]
  },
  {
   "cell_type": "code",
   "execution_count": 398,
   "metadata": {},
   "outputs": [],
   "source": [
    "#To Extract the elements for Discounts\n",
    "disc_tag1=driver.find_elements_by_xpath('//div[@class=\"_3Ay6Sb\"]')"
   ]
  },
  {
   "cell_type": "code",
   "execution_count": 399,
   "metadata": {},
   "outputs": [
    {
     "data": {
      "text/plain": [
       "['68% off', '57% off', '62% off', '26% off']"
      ]
     },
     "execution_count": 399,
     "metadata": {},
     "output_type": "execute_result"
    }
   ],
   "source": [
    "for i in disc_tag1:\n",
    "    dics=i.text\n",
    "    discount3.append(dics)\n",
    "discount3[0:4]"
   ]
  },
  {
   "cell_type": "code",
   "execution_count": 400,
   "metadata": {},
   "outputs": [],
   "source": [
    "Brands=brand1 + brand2 + brand3\n",
    "Product_Description= description1 + description2 + description3\n",
    "Price= price1 + price2 + price3\n",
    "Discounts= discount1 + discount2 + discount3"
   ]
  },
  {
   "cell_type": "code",
   "execution_count": 401,
   "metadata": {},
   "outputs": [
    {
     "name": "stdout",
     "output_type": "stream",
     "text": [
      "120 100 120 119\n"
     ]
    }
   ],
   "source": [
    "print(len(Brands),len(Product_Description),len(Price), len(Discounts))"
   ]
  },
  {
   "cell_type": "code",
   "execution_count": 402,
   "metadata": {},
   "outputs": [
    {
     "ename": "ValueError",
     "evalue": "Length of values does not match length of index",
     "output_type": "error",
     "traceback": [
      "\u001b[1;31m---------------------------------------------------------------------------\u001b[0m",
      "\u001b[1;31mValueError\u001b[0m                                Traceback (most recent call last)",
      "\u001b[1;32m<ipython-input-402-160a9cfe6838>\u001b[0m in \u001b[0;36m<module>\u001b[1;34m\u001b[0m\n\u001b[0;32m      1\u001b[0m \u001b[0mSneakers\u001b[0m\u001b[1;33m=\u001b[0m\u001b[0mpd\u001b[0m\u001b[1;33m.\u001b[0m\u001b[0mDataFrame\u001b[0m\u001b[1;33m(\u001b[0m\u001b[1;33m{\u001b[0m\u001b[1;33m}\u001b[0m\u001b[1;33m)\u001b[0m\u001b[1;33m\u001b[0m\u001b[1;33m\u001b[0m\u001b[0m\n\u001b[0;32m      2\u001b[0m \u001b[0mSneakers\u001b[0m\u001b[1;33m[\u001b[0m\u001b[1;34m'Brand Name'\u001b[0m\u001b[1;33m]\u001b[0m\u001b[1;33m=\u001b[0m\u001b[0mBrands\u001b[0m\u001b[1;33m\u001b[0m\u001b[1;33m\u001b[0m\u001b[0m\n\u001b[1;32m----> 3\u001b[1;33m \u001b[0mSneakers\u001b[0m\u001b[1;33m[\u001b[0m\u001b[1;34m'Description'\u001b[0m\u001b[1;33m]\u001b[0m\u001b[1;33m=\u001b[0m\u001b[0mProduct_Description\u001b[0m\u001b[1;33m\u001b[0m\u001b[1;33m\u001b[0m\u001b[0m\n\u001b[0m\u001b[0;32m      4\u001b[0m \u001b[0mSneakers\u001b[0m\u001b[1;33m[\u001b[0m\u001b[1;34m'RATES'\u001b[0m\u001b[1;33m]\u001b[0m\u001b[1;33m=\u001b[0m\u001b[0mPrice\u001b[0m\u001b[1;33m\u001b[0m\u001b[1;33m\u001b[0m\u001b[0m\n\u001b[0;32m      5\u001b[0m \u001b[0mSneakers\u001b[0m\u001b[1;33m[\u001b[0m\u001b[1;34m'DISCOUNTS'\u001b[0m\u001b[1;33m]\u001b[0m\u001b[1;33m=\u001b[0m\u001b[0mDiscounts\u001b[0m\u001b[1;33m\u001b[0m\u001b[1;33m\u001b[0m\u001b[0m\n",
      "\u001b[1;32mC:\\ProgramData\\Anaconda3\\lib\\site-packages\\pandas\\core\\frame.py\u001b[0m in \u001b[0;36m__setitem__\u001b[1;34m(self, key, value)\u001b[0m\n\u001b[0;32m   2936\u001b[0m         \u001b[1;32melse\u001b[0m\u001b[1;33m:\u001b[0m\u001b[1;33m\u001b[0m\u001b[1;33m\u001b[0m\u001b[0m\n\u001b[0;32m   2937\u001b[0m             \u001b[1;31m# set column\u001b[0m\u001b[1;33m\u001b[0m\u001b[1;33m\u001b[0m\u001b[1;33m\u001b[0m\u001b[0m\n\u001b[1;32m-> 2938\u001b[1;33m             \u001b[0mself\u001b[0m\u001b[1;33m.\u001b[0m\u001b[0m_set_item\u001b[0m\u001b[1;33m(\u001b[0m\u001b[0mkey\u001b[0m\u001b[1;33m,\u001b[0m \u001b[0mvalue\u001b[0m\u001b[1;33m)\u001b[0m\u001b[1;33m\u001b[0m\u001b[1;33m\u001b[0m\u001b[0m\n\u001b[0m\u001b[0;32m   2939\u001b[0m \u001b[1;33m\u001b[0m\u001b[0m\n\u001b[0;32m   2940\u001b[0m     \u001b[1;32mdef\u001b[0m \u001b[0m_setitem_slice\u001b[0m\u001b[1;33m(\u001b[0m\u001b[0mself\u001b[0m\u001b[1;33m,\u001b[0m \u001b[0mkey\u001b[0m\u001b[1;33m,\u001b[0m \u001b[0mvalue\u001b[0m\u001b[1;33m)\u001b[0m\u001b[1;33m:\u001b[0m\u001b[1;33m\u001b[0m\u001b[1;33m\u001b[0m\u001b[0m\n",
      "\u001b[1;32mC:\\ProgramData\\Anaconda3\\lib\\site-packages\\pandas\\core\\frame.py\u001b[0m in \u001b[0;36m_set_item\u001b[1;34m(self, key, value)\u001b[0m\n\u001b[0;32m   2998\u001b[0m \u001b[1;33m\u001b[0m\u001b[0m\n\u001b[0;32m   2999\u001b[0m         \u001b[0mself\u001b[0m\u001b[1;33m.\u001b[0m\u001b[0m_ensure_valid_index\u001b[0m\u001b[1;33m(\u001b[0m\u001b[0mvalue\u001b[0m\u001b[1;33m)\u001b[0m\u001b[1;33m\u001b[0m\u001b[1;33m\u001b[0m\u001b[0m\n\u001b[1;32m-> 3000\u001b[1;33m         \u001b[0mvalue\u001b[0m \u001b[1;33m=\u001b[0m \u001b[0mself\u001b[0m\u001b[1;33m.\u001b[0m\u001b[0m_sanitize_column\u001b[0m\u001b[1;33m(\u001b[0m\u001b[0mkey\u001b[0m\u001b[1;33m,\u001b[0m \u001b[0mvalue\u001b[0m\u001b[1;33m)\u001b[0m\u001b[1;33m\u001b[0m\u001b[1;33m\u001b[0m\u001b[0m\n\u001b[0m\u001b[0;32m   3001\u001b[0m         \u001b[0mNDFrame\u001b[0m\u001b[1;33m.\u001b[0m\u001b[0m_set_item\u001b[0m\u001b[1;33m(\u001b[0m\u001b[0mself\u001b[0m\u001b[1;33m,\u001b[0m \u001b[0mkey\u001b[0m\u001b[1;33m,\u001b[0m \u001b[0mvalue\u001b[0m\u001b[1;33m)\u001b[0m\u001b[1;33m\u001b[0m\u001b[1;33m\u001b[0m\u001b[0m\n\u001b[0;32m   3002\u001b[0m \u001b[1;33m\u001b[0m\u001b[0m\n",
      "\u001b[1;32mC:\\ProgramData\\Anaconda3\\lib\\site-packages\\pandas\\core\\frame.py\u001b[0m in \u001b[0;36m_sanitize_column\u001b[1;34m(self, key, value, broadcast)\u001b[0m\n\u001b[0;32m   3634\u001b[0m \u001b[1;33m\u001b[0m\u001b[0m\n\u001b[0;32m   3635\u001b[0m             \u001b[1;31m# turn me into an ndarray\u001b[0m\u001b[1;33m\u001b[0m\u001b[1;33m\u001b[0m\u001b[1;33m\u001b[0m\u001b[0m\n\u001b[1;32m-> 3636\u001b[1;33m             \u001b[0mvalue\u001b[0m \u001b[1;33m=\u001b[0m \u001b[0msanitize_index\u001b[0m\u001b[1;33m(\u001b[0m\u001b[0mvalue\u001b[0m\u001b[1;33m,\u001b[0m \u001b[0mself\u001b[0m\u001b[1;33m.\u001b[0m\u001b[0mindex\u001b[0m\u001b[1;33m,\u001b[0m \u001b[0mcopy\u001b[0m\u001b[1;33m=\u001b[0m\u001b[1;32mFalse\u001b[0m\u001b[1;33m)\u001b[0m\u001b[1;33m\u001b[0m\u001b[1;33m\u001b[0m\u001b[0m\n\u001b[0m\u001b[0;32m   3637\u001b[0m             \u001b[1;32mif\u001b[0m \u001b[1;32mnot\u001b[0m \u001b[0misinstance\u001b[0m\u001b[1;33m(\u001b[0m\u001b[0mvalue\u001b[0m\u001b[1;33m,\u001b[0m \u001b[1;33m(\u001b[0m\u001b[0mnp\u001b[0m\u001b[1;33m.\u001b[0m\u001b[0mndarray\u001b[0m\u001b[1;33m,\u001b[0m \u001b[0mIndex\u001b[0m\u001b[1;33m)\u001b[0m\u001b[1;33m)\u001b[0m\u001b[1;33m:\u001b[0m\u001b[1;33m\u001b[0m\u001b[1;33m\u001b[0m\u001b[0m\n\u001b[0;32m   3638\u001b[0m                 \u001b[1;32mif\u001b[0m \u001b[0misinstance\u001b[0m\u001b[1;33m(\u001b[0m\u001b[0mvalue\u001b[0m\u001b[1;33m,\u001b[0m \u001b[0mlist\u001b[0m\u001b[1;33m)\u001b[0m \u001b[1;32mand\u001b[0m \u001b[0mlen\u001b[0m\u001b[1;33m(\u001b[0m\u001b[0mvalue\u001b[0m\u001b[1;33m)\u001b[0m \u001b[1;33m>\u001b[0m \u001b[1;36m0\u001b[0m\u001b[1;33m:\u001b[0m\u001b[1;33m\u001b[0m\u001b[1;33m\u001b[0m\u001b[0m\n",
      "\u001b[1;32mC:\\ProgramData\\Anaconda3\\lib\\site-packages\\pandas\\core\\internals\\construction.py\u001b[0m in \u001b[0;36msanitize_index\u001b[1;34m(data, index, copy)\u001b[0m\n\u001b[0;32m    609\u001b[0m \u001b[1;33m\u001b[0m\u001b[0m\n\u001b[0;32m    610\u001b[0m     \u001b[1;32mif\u001b[0m \u001b[0mlen\u001b[0m\u001b[1;33m(\u001b[0m\u001b[0mdata\u001b[0m\u001b[1;33m)\u001b[0m \u001b[1;33m!=\u001b[0m \u001b[0mlen\u001b[0m\u001b[1;33m(\u001b[0m\u001b[0mindex\u001b[0m\u001b[1;33m)\u001b[0m\u001b[1;33m:\u001b[0m\u001b[1;33m\u001b[0m\u001b[1;33m\u001b[0m\u001b[0m\n\u001b[1;32m--> 611\u001b[1;33m         \u001b[1;32mraise\u001b[0m \u001b[0mValueError\u001b[0m\u001b[1;33m(\u001b[0m\u001b[1;34m\"Length of values does not match length of index\"\u001b[0m\u001b[1;33m)\u001b[0m\u001b[1;33m\u001b[0m\u001b[1;33m\u001b[0m\u001b[0m\n\u001b[0m\u001b[0;32m    612\u001b[0m \u001b[1;33m\u001b[0m\u001b[0m\n\u001b[0;32m    613\u001b[0m     \u001b[1;32mif\u001b[0m \u001b[0misinstance\u001b[0m\u001b[1;33m(\u001b[0m\u001b[0mdata\u001b[0m\u001b[1;33m,\u001b[0m \u001b[0mABCIndexClass\u001b[0m\u001b[1;33m)\u001b[0m \u001b[1;32mand\u001b[0m \u001b[1;32mnot\u001b[0m \u001b[0mcopy\u001b[0m\u001b[1;33m:\u001b[0m\u001b[1;33m\u001b[0m\u001b[1;33m\u001b[0m\u001b[0m\n",
      "\u001b[1;31mValueError\u001b[0m: Length of values does not match length of index"
     ]
    }
   ],
   "source": [
    "Sneakers=pd.DataFrame({})\n",
    "Sneakers['Brand Name']=Brands\n",
    "Sneakers['Description']=Product_Description\n",
    "Sneakers['RATES']=Price\n",
    "Sneakers['DISCOUNTS']=Discounts\n",
    "Sneakers[0:100]"
   ]
  },
  {
   "cell_type": "markdown",
   "metadata": {},
   "source": [
    "# SOLUTION NUMBER 9"
   ]
  },
  {
   "cell_type": "code",
   "execution_count": 415,
   "metadata": {},
   "outputs": [],
   "source": [
    "driver.get('https://www.myntra.com/shoes')"
   ]
  },
  {
   "cell_type": "code",
   "execution_count": 416,
   "metadata": {},
   "outputs": [],
   "source": [
    "# To put the Price filter\n",
    "price_btn=driver.find_element_by_xpath('//ul[@class=\"price-list\"]/li[2]/label/div')\n",
    "price_btn.click()"
   ]
  },
  {
   "cell_type": "code",
   "execution_count": 417,
   "metadata": {},
   "outputs": [],
   "source": [
    "# To put the color filer\n",
    "color_btn=driver.find_element_by_xpath('//li[@class=\"colour-listItem\"]/label/div')\n",
    "color_btn.click()"
   ]
  },
  {
   "cell_type": "code",
   "execution_count": 418,
   "metadata": {},
   "outputs": [],
   "source": [
    "# To create the blank lists\n",
    "brand1=[]\n",
    "pro_description=[]\n",
    "price1=[]"
   ]
  },
  {
   "cell_type": "code",
   "execution_count": 419,
   "metadata": {},
   "outputs": [],
   "source": [
    "# To extract the elements for the brands\n",
    "brand_tag=driver.find_elements_by_xpath('//h3[@class=\"product-brand\"]')"
   ]
  },
  {
   "cell_type": "code",
   "execution_count": 420,
   "metadata": {},
   "outputs": [
    {
     "data": {
      "text/plain": [
       "['ADIDAS Originals', 'ADIDAS Originals', 'ADIDAS Originals', 'Nike', 'Nike']"
      ]
     },
     "execution_count": 420,
     "metadata": {},
     "output_type": "execute_result"
    }
   ],
   "source": [
    "for i in brand_tag:\n",
    "    company=i.text\n",
    "    brand1.append(company)\n",
    "brand1[0:5]"
   ]
  },
  {
   "cell_type": "code",
   "execution_count": 421,
   "metadata": {},
   "outputs": [],
   "source": [
    "# To extract the elements for the Product Description\n",
    "desc_tag=driver.find_elements_by_xpath('//h4[@class=\"product-product\"]')"
   ]
  },
  {
   "cell_type": "code",
   "execution_count": 422,
   "metadata": {},
   "outputs": [
    {
     "data": {
      "text/plain": [
       "['Men Nite Jogger Fluid Sneakers',\n",
       " 'Women Superstar Metal Toe',\n",
       " 'Men LXCON 94 Sneakers',\n",
       " 'Men FREE RN 5.0 Running Shoes']"
      ]
     },
     "execution_count": 422,
     "metadata": {},
     "output_type": "execute_result"
    }
   ],
   "source": [
    "for i in desc_tag:\n",
    "    desc=i.text\n",
    "    pro_description.append(desc)\n",
    "pro_description[0:4]"
   ]
  },
  {
   "cell_type": "code",
   "execution_count": 424,
   "metadata": {},
   "outputs": [],
   "source": [
    "# To extract the elements for the Price\n",
    "rate_tag=driver.find_elements_by_xpath('//div[@class=\"product-price\"]')"
   ]
  },
  {
   "cell_type": "code",
   "execution_count": 425,
   "metadata": {},
   "outputs": [
    {
     "data": {
      "text/plain": [
       "['Rs. 12999', 'Rs. 8999', 'Rs. 11999', 'Rs. 7995', 'Rs. 11995']"
      ]
     },
     "execution_count": 425,
     "metadata": {},
     "output_type": "execute_result"
    }
   ],
   "source": [
    "for i in rate_tag:\n",
    "    rate=i.text\n",
    "    price1.append(rate)\n",
    "price1[0:5]"
   ]
  },
  {
   "cell_type": "code",
   "execution_count": 426,
   "metadata": {},
   "outputs": [],
   "source": [
    "# To click on the next button\n",
    "next_btn=driver.find_element_by_xpath('//*[text()=\"Next\"]')\n",
    "next_btn.click()"
   ]
  },
  {
   "cell_type": "code",
   "execution_count": 427,
   "metadata": {},
   "outputs": [],
   "source": [
    "# To create the blank lists\n",
    "brand2=[]\n",
    "pro_description2=[]\n",
    "price2=[]"
   ]
  },
  {
   "cell_type": "code",
   "execution_count": 428,
   "metadata": {},
   "outputs": [],
   "source": [
    "# To extract the elements for the brands for page 2\n",
    "brand_tag=driver.find_elements_by_xpath('//h3[@class=\"product-brand\"]')"
   ]
  },
  {
   "cell_type": "code",
   "execution_count": 429,
   "metadata": {},
   "outputs": [
    {
     "data": {
      "text/plain": [
       "['ADIDAS Originals', 'Puma', 'Cole Haan', 'ADIDAS Originals', 'Puma']"
      ]
     },
     "execution_count": 429,
     "metadata": {},
     "output_type": "execute_result"
    }
   ],
   "source": [
    "for i in brand_tag:\n",
    "    company=i.text\n",
    "    brand2.append(company)\n",
    "brand2[0:5]"
   ]
  },
  {
   "cell_type": "code",
   "execution_count": 430,
   "metadata": {},
   "outputs": [],
   "source": [
    "# To extract the elements for the Product Description for page 2\n",
    "desc_tag=driver.find_elements_by_xpath('//h4[@class=\"product-product\"]')"
   ]
  },
  {
   "cell_type": "code",
   "execution_count": 431,
   "metadata": {},
   "outputs": [
    {
     "data": {
      "text/plain": [
       "['Men LXCON 94 Sneakers',\n",
       " 'Men SPEED 500 2 Running Shoes',\n",
       " 'Men Solid Leather Brogues',\n",
       " 'Women Superstar Metal Toe']"
      ]
     },
     "execution_count": 431,
     "metadata": {},
     "output_type": "execute_result"
    }
   ],
   "source": [
    "for i in desc_tag:\n",
    "    desc=i.text\n",
    "    pro_description2.append(desc)\n",
    "pro_description2[0:4]"
   ]
  },
  {
   "cell_type": "code",
   "execution_count": 432,
   "metadata": {},
   "outputs": [],
   "source": [
    "# To extract the elements for the Price for page 2\n",
    "rate_tag=driver.find_elements_by_xpath('//div[@class=\"product-price\"]')"
   ]
  },
  {
   "cell_type": "code",
   "execution_count": 433,
   "metadata": {},
   "outputs": [
    {
     "data": {
      "text/plain": [
       "['Rs. 11999',\n",
       " 'Rs. 9499Rs. 9999(5% OFF)',\n",
       " 'Rs. 9499Rs. 18999(50% OFF)',\n",
       " 'Rs. 8999',\n",
       " 'Rs. 9999']"
      ]
     },
     "execution_count": 433,
     "metadata": {},
     "output_type": "execute_result"
    }
   ],
   "source": [
    "for i in rate_tag:\n",
    "    rate=i.text\n",
    "    price2.append(rate)\n",
    "price2[0:5]"
   ]
  },
  {
   "cell_type": "code",
   "execution_count": 434,
   "metadata": {},
   "outputs": [],
   "source": [
    "BRAND=brand1+brand2\n",
    "DESCRIPTION=pro_description + pro_description2\n",
    "PRICE= price1 + price2"
   ]
  },
  {
   "cell_type": "code",
   "execution_count": 435,
   "metadata": {},
   "outputs": [
    {
     "name": "stdout",
     "output_type": "stream",
     "text": [
      "100 100 100\n"
     ]
    }
   ],
   "source": [
    "print(len(BRAND),len(DESCRIPTION),len(PRICE))"
   ]
  },
  {
   "cell_type": "code",
   "execution_count": 436,
   "metadata": {},
   "outputs": [
    {
     "data": {
      "text/html": [
       "<div>\n",
       "<style scoped>\n",
       "    .dataframe tbody tr th:only-of-type {\n",
       "        vertical-align: middle;\n",
       "    }\n",
       "\n",
       "    .dataframe tbody tr th {\n",
       "        vertical-align: top;\n",
       "    }\n",
       "\n",
       "    .dataframe thead th {\n",
       "        text-align: right;\n",
       "    }\n",
       "</style>\n",
       "<table border=\"1\" class=\"dataframe\">\n",
       "  <thead>\n",
       "    <tr style=\"text-align: right;\">\n",
       "      <th></th>\n",
       "      <th>BRAND NAME</th>\n",
       "      <th>PRODUCT DESCRIPTION</th>\n",
       "      <th>RATES</th>\n",
       "    </tr>\n",
       "  </thead>\n",
       "  <tbody>\n",
       "    <tr>\n",
       "      <th>0</th>\n",
       "      <td>ADIDAS Originals</td>\n",
       "      <td>Men Nite Jogger Fluid Sneakers</td>\n",
       "      <td>Rs. 12999</td>\n",
       "    </tr>\n",
       "    <tr>\n",
       "      <th>1</th>\n",
       "      <td>ADIDAS Originals</td>\n",
       "      <td>Women Superstar Metal Toe</td>\n",
       "      <td>Rs. 8999</td>\n",
       "    </tr>\n",
       "    <tr>\n",
       "      <th>2</th>\n",
       "      <td>ADIDAS Originals</td>\n",
       "      <td>Men LXCON 94 Sneakers</td>\n",
       "      <td>Rs. 11999</td>\n",
       "    </tr>\n",
       "    <tr>\n",
       "      <th>3</th>\n",
       "      <td>Nike</td>\n",
       "      <td>Men FREE RN 5.0 Running Shoes</td>\n",
       "      <td>Rs. 7995</td>\n",
       "    </tr>\n",
       "    <tr>\n",
       "      <th>4</th>\n",
       "      <td>Nike</td>\n",
       "      <td>Men AIR ZOOM Running Shoes</td>\n",
       "      <td>Rs. 11995</td>\n",
       "    </tr>\n",
       "    <tr>\n",
       "      <th>...</th>\n",
       "      <td>...</td>\n",
       "      <td>...</td>\n",
       "      <td>...</td>\n",
       "    </tr>\n",
       "    <tr>\n",
       "      <th>95</th>\n",
       "      <td>Cole Haan</td>\n",
       "      <td>Women Leather Loafers</td>\n",
       "      <td>Rs. 8499Rs. 16999(50% OFF)</td>\n",
       "    </tr>\n",
       "    <tr>\n",
       "      <th>96</th>\n",
       "      <td>UNDER ARMOUR</td>\n",
       "      <td>Women HOVR Rise Training Shoes</td>\n",
       "      <td>Rs. 8499Rs. 9999(15% OFF)</td>\n",
       "    </tr>\n",
       "    <tr>\n",
       "      <th>97</th>\n",
       "      <td>Cole Haan</td>\n",
       "      <td>Women Ballerinas</td>\n",
       "      <td>Rs. 8999Rs. 17999(50% OFF)</td>\n",
       "    </tr>\n",
       "    <tr>\n",
       "      <th>98</th>\n",
       "      <td>Geox</td>\n",
       "      <td>Women Slip-On Sneakers</td>\n",
       "      <td>Rs. 8499</td>\n",
       "    </tr>\n",
       "    <tr>\n",
       "      <th>99</th>\n",
       "      <td>Puma</td>\n",
       "      <td>Women Defy Mid Metal Shoes</td>\n",
       "      <td>Rs. 7999</td>\n",
       "    </tr>\n",
       "  </tbody>\n",
       "</table>\n",
       "<p>100 rows × 3 columns</p>\n",
       "</div>"
      ],
      "text/plain": [
       "          BRAND NAME             PRODUCT DESCRIPTION  \\\n",
       "0   ADIDAS Originals  Men Nite Jogger Fluid Sneakers   \n",
       "1   ADIDAS Originals       Women Superstar Metal Toe   \n",
       "2   ADIDAS Originals           Men LXCON 94 Sneakers   \n",
       "3               Nike   Men FREE RN 5.0 Running Shoes   \n",
       "4               Nike      Men AIR ZOOM Running Shoes   \n",
       "..               ...                             ...   \n",
       "95         Cole Haan           Women Leather Loafers   \n",
       "96      UNDER ARMOUR  Women HOVR Rise Training Shoes   \n",
       "97         Cole Haan                Women Ballerinas   \n",
       "98              Geox          Women Slip-On Sneakers   \n",
       "99              Puma      Women Defy Mid Metal Shoes   \n",
       "\n",
       "                         RATES  \n",
       "0                    Rs. 12999  \n",
       "1                     Rs. 8999  \n",
       "2                    Rs. 11999  \n",
       "3                     Rs. 7995  \n",
       "4                    Rs. 11995  \n",
       "..                         ...  \n",
       "95  Rs. 8499Rs. 16999(50% OFF)  \n",
       "96   Rs. 8499Rs. 9999(15% OFF)  \n",
       "97  Rs. 8999Rs. 17999(50% OFF)  \n",
       "98                    Rs. 8499  \n",
       "99                    Rs. 7999  \n",
       "\n",
       "[100 rows x 3 columns]"
      ]
     },
     "execution_count": 436,
     "metadata": {},
     "output_type": "execute_result"
    }
   ],
   "source": [
    "Shoes=pd.DataFrame({})\n",
    "Shoes['BRAND NAME']=BRAND\n",
    "Shoes['PRODUCT DESCRIPTION']=DESCRIPTION\n",
    "Shoes['RATES']=PRICE\n",
    "Shoes"
   ]
  },
  {
   "cell_type": "markdown",
   "metadata": {},
   "source": [
    "# SOLUTION NUMBER 10"
   ]
  },
  {
   "cell_type": "code",
   "execution_count": 470,
   "metadata": {},
   "outputs": [],
   "source": [
    "#lets open the automated website\n",
    "driver.get('https://www.amazon.in/')"
   ]
  },
  {
   "cell_type": "code",
   "execution_count": 471,
   "metadata": {},
   "outputs": [],
   "source": [
    "#To put the desiareable product in the search box\n",
    "search_btn=driver.find_element_by_id('twotabsearchtextbox')\n",
    "search_btn.send_keys('Laptop')"
   ]
  },
  {
   "cell_type": "code",
   "execution_count": 472,
   "metadata": {},
   "outputs": [],
   "source": [
    "# To click the search button\n",
    "search_button=driver.find_element_by_id('nav-search-submit-text')\n",
    "search_button.click()"
   ]
  },
  {
   "cell_type": "code",
   "execution_count": 473,
   "metadata": {},
   "outputs": [],
   "source": [
    "# To put the filter for Intel core i7\n",
    "i7_btn=driver.find_element_by_xpath(\"//li[@aria-label='Intel Core i7']/span/a\").click()\n"
   ]
  },
  {
   "cell_type": "code",
   "execution_count": 474,
   "metadata": {},
   "outputs": [],
   "source": [
    "#To put the filter for Intel core i9\n",
    "i9_btn=driver.find_element_by_xpath(\"//li[@aria-label='Intel Core i9']/span/a\")\n",
    "i9_btn.click()"
   ]
  },
  {
   "cell_type": "code",
   "execution_count": 475,
   "metadata": {},
   "outputs": [],
   "source": [
    "#To put the Blank Lists\n",
    "title=[]\n",
    "rating=[]\n",
    "price=[]"
   ]
  },
  {
   "cell_type": "code",
   "execution_count": 476,
   "metadata": {},
   "outputs": [],
   "source": [
    "#To extract the elements for title\n",
    "title_tag=driver.find_elements_by_xpath('//h2[@class=\"a-size-mini a-spacing-none a-color-base s-line-clamp-2\"]')"
   ]
  },
  {
   "cell_type": "code",
   "execution_count": 477,
   "metadata": {},
   "outputs": [
    {
     "data": {
      "text/plain": [
       "['Lenovo IdeaPad Flex 5 AMD Ryzen 5 4500U 14-inch FHD IPS 2-in-1 Convertible Laptop (8GB/512GB SSD/Windows 10/Office’19/Integrated AMD Radeon Graphics/Fingerprint Reader/Graphite Grey/1.5Kg), 81X200FCIN',\n",
       " 'Lenovo IdeaPad S340 10th Gen Intel Core i5 14 inch Full HD IPS Thin and Light Laptop (8GB/1TB HDD + 256GB SSD/Windows 10/MS Office 2019/Platinum Grey/1.6Kg), 81VV00KKIN',\n",
       " 'DELL Inspiron 3583 15.6inch HD Laptop (Pentium Gold 5405U/4GB/1TB HDD/Win10 + MS Office/Intel UHD Graphics/ Silver) SLV-C563119WIN9']"
      ]
     },
     "execution_count": 477,
     "metadata": {},
     "output_type": "execute_result"
    }
   ],
   "source": [
    "for i in title_tag:\n",
    "    tit=i.text\n",
    "    title.append(tit)\n",
    "title[0:3]"
   ]
  },
  {
   "cell_type": "code",
   "execution_count": 478,
   "metadata": {},
   "outputs": [],
   "source": [
    "#To Extract the Rating elements\n",
    "from selenium.common.exceptions import NoSuchElementException\n",
    "try:\n",
    "    rating_tag=driver.find_elements_by_xpath('//a[@class=\"a-popover-trigger a-declarative\"]')\n",
    "    for i in rating_tag:\n",
    "        star=i.text\n",
    "        rating.append(star)\n",
    "        \n",
    "except NoSuchElementException:         #handling no such element exception\n",
    "    ratings.append('No details available')"
   ]
  },
  {
   "cell_type": "code",
   "execution_count": 479,
   "metadata": {},
   "outputs": [
    {
     "data": {
      "text/plain": [
       "['', '', '']"
      ]
     },
     "execution_count": 479,
     "metadata": {},
     "output_type": "execute_result"
    }
   ],
   "source": [
    "\n",
    "rating[0:3]"
   ]
  },
  {
   "cell_type": "code",
   "execution_count": 480,
   "metadata": {},
   "outputs": [],
   "source": [
    "# To extract the Price element\n",
    "price_tag=driver.find_elements_by_xpath('//span[@class=\"a-price\"]')"
   ]
  },
  {
   "cell_type": "code",
   "execution_count": 481,
   "metadata": {},
   "outputs": [
    {
     "data": {
      "text/plain": [
       "['₹59,199', '₹56,002', '₹27,990']"
      ]
     },
     "execution_count": 481,
     "metadata": {},
     "output_type": "execute_result"
    }
   ],
   "source": [
    "for i in price_tag:\n",
    "    rate=i.text\n",
    "    price.append(rate)\n",
    "price[0:3]"
   ]
  },
  {
   "cell_type": "code",
   "execution_count": 482,
   "metadata": {},
   "outputs": [
    {
     "name": "stdout",
     "output_type": "stream",
     "text": [
      "26 23 26\n"
     ]
    }
   ],
   "source": [
    "print(len(title),len(rating),len(price))"
   ]
  },
  {
   "cell_type": "code",
   "execution_count": 463,
   "metadata": {},
   "outputs": [
    {
     "data": {
      "text/html": [
       "<div>\n",
       "<style scoped>\n",
       "    .dataframe tbody tr th:only-of-type {\n",
       "        vertical-align: middle;\n",
       "    }\n",
       "\n",
       "    .dataframe tbody tr th {\n",
       "        vertical-align: top;\n",
       "    }\n",
       "\n",
       "    .dataframe thead th {\n",
       "        text-align: right;\n",
       "    }\n",
       "</style>\n",
       "<table border=\"1\" class=\"dataframe\">\n",
       "  <thead>\n",
       "    <tr style=\"text-align: right;\">\n",
       "      <th></th>\n",
       "      <th>DESCRIPTION</th>\n",
       "      <th>COST OF LAPTOP</th>\n",
       "    </tr>\n",
       "  </thead>\n",
       "  <tbody>\n",
       "    <tr>\n",
       "      <th>0</th>\n",
       "      <td>Lenovo Yoga S740 Intel Core i7 10th Gen 14 inc...</td>\n",
       "      <td>₹1,22,000</td>\n",
       "    </tr>\n",
       "    <tr>\n",
       "      <th>1</th>\n",
       "      <td>HP Pavilion x360 Core i7 8th Gen 14-inch Touch...</td>\n",
       "      <td>₹85,990</td>\n",
       "    </tr>\n",
       "    <tr>\n",
       "      <th>2</th>\n",
       "      <td>Asus VivoBook Gaming (2020) Core i7 10th Gen -...</td>\n",
       "      <td>₹81,990</td>\n",
       "    </tr>\n",
       "    <tr>\n",
       "      <th>3</th>\n",
       "      <td>Asus ROG Strix G15 Core i7 10th Gen - (8 GB/51...</td>\n",
       "      <td>₹84,990</td>\n",
       "    </tr>\n",
       "    <tr>\n",
       "      <th>4</th>\n",
       "      <td>HP Pavilion x360 Core i7 8th Gen 14-inch Touch...</td>\n",
       "      <td>₹85,990</td>\n",
       "    </tr>\n",
       "    <tr>\n",
       "      <th>5</th>\n",
       "      <td>Lenovo ThinkPad E14 Intel Core i7 10th Gen14-i...</td>\n",
       "      <td>₹84,990</td>\n",
       "    </tr>\n",
       "    <tr>\n",
       "      <th>6</th>\n",
       "      <td>(Renewed) Lenovo ThinkPad High Performance 12....</td>\n",
       "      <td>₹34,999</td>\n",
       "    </tr>\n",
       "    <tr>\n",
       "      <th>7</th>\n",
       "      <td>ASUS ZenBook 14 (2020) Intel Core i7-1165G7 11...</td>\n",
       "      <td>₹95,890</td>\n",
       "    </tr>\n",
       "    <tr>\n",
       "      <th>8</th>\n",
       "      <td>HP Pavilion x360 Touchscreen 2-in-1 FHD 14-inc...</td>\n",
       "      <td>₹74,890</td>\n",
       "    </tr>\n",
       "    <tr>\n",
       "      <th>9</th>\n",
       "      <td>ASUS TUF Gaming F15 Laptop 15.6\" FHD Intel Cor...</td>\n",
       "      <td>₹73,990</td>\n",
       "    </tr>\n",
       "  </tbody>\n",
       "</table>\n",
       "</div>"
      ],
      "text/plain": [
       "                                         DESCRIPTION COST OF LAPTOP\n",
       "0  Lenovo Yoga S740 Intel Core i7 10th Gen 14 inc...      ₹1,22,000\n",
       "1  HP Pavilion x360 Core i7 8th Gen 14-inch Touch...        ₹85,990\n",
       "2  Asus VivoBook Gaming (2020) Core i7 10th Gen -...        ₹81,990\n",
       "3  Asus ROG Strix G15 Core i7 10th Gen - (8 GB/51...        ₹84,990\n",
       "4  HP Pavilion x360 Core i7 8th Gen 14-inch Touch...        ₹85,990\n",
       "5  Lenovo ThinkPad E14 Intel Core i7 10th Gen14-i...        ₹84,990\n",
       "6  (Renewed) Lenovo ThinkPad High Performance 12....        ₹34,999\n",
       "7  ASUS ZenBook 14 (2020) Intel Core i7-1165G7 11...        ₹95,890\n",
       "8  HP Pavilion x360 Touchscreen 2-in-1 FHD 14-inc...        ₹74,890\n",
       "9  ASUS TUF Gaming F15 Laptop 15.6\" FHD Intel Cor...        ₹73,990"
      ]
     },
     "execution_count": 463,
     "metadata": {},
     "output_type": "execute_result"
    }
   ],
   "source": [
    "laptop=pd.DataFrame({})\n",
    "laptop['DESCRIPTION']=title\n",
    "laptop['COST OF LAPTOP']=price\n",
    "laptop[0:10]"
   ]
  },
  {
   "cell_type": "code",
   "execution_count": null,
   "metadata": {},
   "outputs": [],
   "source": []
  }
 ],
 "metadata": {
  "kernelspec": {
   "display_name": "Python 3",
   "language": "python",
   "name": "python3"
  },
  "language_info": {
   "codemirror_mode": {
    "name": "ipython",
    "version": 3
   },
   "file_extension": ".py",
   "mimetype": "text/x-python",
   "name": "python",
   "nbconvert_exporter": "python",
   "pygments_lexer": "ipython3",
   "version": "3.7.6"
  }
 },
 "nbformat": 4,
 "nbformat_minor": 4
}
