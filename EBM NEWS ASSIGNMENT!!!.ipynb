{
 "cells": [
  {
   "cell_type": "code",
   "execution_count": 1,
   "metadata": {},
   "outputs": [
    {
     "name": "stdout",
     "output_type": "stream",
     "text": [
      "Requirement already satisfied: selenium in c:\\programdata\\anaconda3\\lib\\site-packages (3.141.0)\n",
      "Requirement already satisfied: urllib3 in c:\\programdata\\anaconda3\\lib\\site-packages (from selenium) (1.25.8)\n"
     ]
    }
   ],
   "source": [
    "!pip install selenium"
   ]
  },
  {
   "cell_type": "code",
   "execution_count": 2,
   "metadata": {},
   "outputs": [],
   "source": [
    "import pandas as pd\n",
    "import selenium\n",
    "from selenium import webdriver"
   ]
  },
  {
   "cell_type": "code",
   "execution_count": 3,
   "metadata": {},
   "outputs": [],
   "source": [
    "driver=webdriver.Chrome(r'C:\\Users\\chromedriver')"
   ]
  },
  {
   "cell_type": "code",
   "execution_count": 4,
   "metadata": {},
   "outputs": [],
   "source": [
    "driver.get(\"https://www.ebmnews.com/2020/page/560/\")"
   ]
  },
  {
   "cell_type": "code",
   "execution_count": 5,
   "metadata": {},
   "outputs": [],
   "source": [
    "# Lets Create the Blank List to work on\n",
    "date1=[]\n",
    "author1=[]\n",
    "vertical1=[]\n",
    "headline1=[]\n",
    "description1=[]"
   ]
  },
  {
   "cell_type": "code",
   "execution_count": 6,
   "metadata": {},
   "outputs": [],
   "source": [
    "start=560\n",
    "end=574\n",
    "for page in range(start,end):\n",
    "    dates1=driver.find_elements_by_xpath('//time[@class=\"post-published updated\"]')\n",
    "    for i in dates1:\n",
    "        date1.append(i.text)\n",
    "    authors1=driver.find_elements_by_xpath('//i[@class=\"post-author author\"]')\n",
    "    for i in authors1:\n",
    "        author1.append(i.text)\n",
    "    verticals1=driver.find_elements_by_xpath('//div[@class=\"term-badges \"]')\n",
    "    for i in verticals1:\n",
    "        vertical1.append(i.text)\n",
    "    headlines1=driver.find_elements_by_xpath('//h2[@class=\"title\"]')\n",
    "    for i in headlines1:\n",
    "        headline1.append(i.text)\n",
    "    desc1=driver.find_elements_by_xpath('//div[@class=\"post-summary\"]')\n",
    "    for i in desc1:\n",
    "        description1.append(i.text)\n",
    "    old_post_btn=driver.find_element_by_xpath('//*[text()=\" Older Posts\"]')\n",
    "    old_post_btn.click()"
   ]
  },
  {
   "cell_type": "code",
   "execution_count": 7,
   "metadata": {},
   "outputs": [],
   "source": [
    "date2=[]\n",
    "author2=[]\n",
    "vertical2=[]\n",
    "headline2=[]\n",
    "description2=[]"
   ]
  },
  {
   "cell_type": "code",
   "execution_count": 8,
   "metadata": {},
   "outputs": [],
   "source": [
    "start=575\n",
    "end=590\n",
    "for page in range(start,end):\n",
    "    dates2=driver.find_elements_by_xpath('//time[@class=\"post-published updated\"]')\n",
    "    for i in dates2:\n",
    "        date2.append(i.text)\n",
    "    authors2=driver.find_elements_by_xpath('//i[@class=\"post-author author\"]')\n",
    "    for i in authors2:\n",
    "        author2.append(i.text)\n",
    "    verticals2=driver.find_elements_by_xpath('//div[@class=\"term-badges \"]')\n",
    "    for i in verticals2:\n",
    "        vertical2.append(i.text)\n",
    "    headlines2=driver.find_elements_by_xpath('//h2[@class=\"title\"]')\n",
    "    for i in headlines2:\n",
    "        headline2.append(i.text)\n",
    "    desc2=driver.find_elements_by_xpath('//div[@class=\"post-summary\"]')\n",
    "    for i in desc2:\n",
    "        description2.append(i.text)\n",
    "    old_post_btn=driver.find_element_by_xpath('//*[text()=\" Older Posts\"]')\n",
    "    old_post_btn.click()"
   ]
  },
  {
   "cell_type": "code",
   "execution_count": 9,
   "metadata": {},
   "outputs": [],
   "source": [
    "date3=[]\n",
    "author3=[]\n",
    "vertical3=[]\n",
    "headline3=[]\n",
    "description3=[]"
   ]
  },
  {
   "cell_type": "code",
   "execution_count": 10,
   "metadata": {},
   "outputs": [],
   "source": [
    "start=591\n",
    "end=605\n",
    "for page in range(start,end):\n",
    "    dates3=driver.find_elements_by_xpath('//time[@class=\"post-published updated\"]')\n",
    "    for i in dates3:\n",
    "        date3.append(i.text)\n",
    "    authors3=driver.find_elements_by_xpath('//i[@class=\"post-author author\"]')\n",
    "    for i in authors3:\n",
    "        author3.append(i.text)\n",
    "    verticals3=driver.find_elements_by_xpath('//div[@class=\"term-badges \"]')\n",
    "    for i in verticals3:\n",
    "        vertical3.append(i.text)\n",
    "    headlines3=driver.find_elements_by_xpath('//h2[@class=\"title\"]')\n",
    "    for i in headlines3:\n",
    "        headline3.append(i.text)\n",
    "    desc3=driver.find_elements_by_xpath('//div[@class=\"post-summary\"]')\n",
    "    for i in desc3:\n",
    "        description3.append(i.text)\n",
    "    old_post_btn=driver.find_element_by_xpath('//*[text()=\" Older Posts\"]')\n",
    "    old_post_btn.click()"
   ]
  },
  {
   "cell_type": "code",
   "execution_count": 11,
   "metadata": {},
   "outputs": [],
   "source": [
    "date4=[]\n",
    "author4=[]\n",
    "vertical4=[]\n",
    "headline4=[]\n",
    "description4=[]"
   ]
  },
  {
   "cell_type": "code",
   "execution_count": 12,
   "metadata": {},
   "outputs": [],
   "source": [
    "start=606\n",
    "end=620\n",
    "for page in range(start,end):\n",
    "    dates4=driver.find_elements_by_xpath('//time[@class=\"post-published updated\"]')\n",
    "    for i in dates4:\n",
    "        date4.append(i.text)\n",
    "    authors4=driver.find_elements_by_xpath('//i[@class=\"post-author author\"]')\n",
    "    for i in authors4:\n",
    "        author4.append(i.text)\n",
    "    verticals4=driver.find_elements_by_xpath('//div[@class=\"term-badges \"]')\n",
    "    for i in verticals4:\n",
    "        vertical4.append(i.text)\n",
    "    headlines4=driver.find_elements_by_xpath('//h2[@class=\"title\"]')\n",
    "    for i in headlines4:\n",
    "        headline4.append(i.text)\n",
    "    desc4=driver.find_elements_by_xpath('//div[@class=\"post-summary\"]')\n",
    "    for i in desc4:\n",
    "        description4.append(i.text)\n",
    "    old_post_btn=driver.find_element_by_xpath('//*[text()=\" Older Posts\"]')\n",
    "    old_post_btn.click()"
   ]
  },
  {
   "cell_type": "code",
   "execution_count": 13,
   "metadata": {},
   "outputs": [],
   "source": [
    "date5=[]\n",
    "author5=[]\n",
    "vertical5=[]\n",
    "headline5=[]\n",
    "description5=[]"
   ]
  },
  {
   "cell_type": "code",
   "execution_count": 14,
   "metadata": {},
   "outputs": [],
   "source": [
    "start=621\n",
    "end=630\n",
    "for page in range(start,end):\n",
    "    dates5=driver.find_elements_by_xpath('//time[@class=\"post-published updated\"]')\n",
    "    for i in dates5:\n",
    "        date5.append(i.text)\n",
    "    authors5=driver.find_elements_by_xpath('//i[@class=\"post-author author\"]')\n",
    "    for i in authors5:\n",
    "        author5.append(i.text)\n",
    "    verticals5=driver.find_elements_by_xpath('//div[@class=\"term-badges \"]')\n",
    "    for i in verticals5:\n",
    "        vertical5.append(i.text)\n",
    "    headlines5=driver.find_elements_by_xpath('//h2[@class=\"title\"]')\n",
    "    for i in headlines5:\n",
    "        headline5.append(i.text)\n",
    "    desc5=driver.find_elements_by_xpath('//div[@class=\"post-summary\"]')\n",
    "    for i in desc5:\n",
    "        description5.append(i.text)\n",
    "    old_post_btn=driver.find_element_by_xpath('//*[text()=\" Older Posts\"]')\n",
    "    old_post_btn.click()"
   ]
  },
  {
   "cell_type": "code",
   "execution_count": 15,
   "metadata": {},
   "outputs": [],
   "source": [
    "date6=[]\n",
    "author6=[]\n",
    "vertical6=[]\n",
    "headline6=[]\n",
    "description6=[]"
   ]
  },
  {
   "cell_type": "code",
   "execution_count": 16,
   "metadata": {},
   "outputs": [],
   "source": [
    "start=631\n",
    "end=645\n",
    "for page in range(start,end):\n",
    "    dates6=driver.find_elements_by_xpath('//time[@class=\"post-published updated\"]')\n",
    "    for i in dates6:\n",
    "        date6.append(i.text)\n",
    "    authors6=driver.find_elements_by_xpath('//i[@class=\"post-author author\"]')\n",
    "    for i in authors6:\n",
    "        author6.append(i.text)\n",
    "    verticals6=driver.find_elements_by_xpath('//div[@class=\"term-badges \"]')\n",
    "    for i in verticals6:\n",
    "        vertical6.append(i.text)\n",
    "    headlines6=driver.find_elements_by_xpath('//h2[@class=\"title\"]')\n",
    "    for i in headlines6:\n",
    "        headline6.append(i.text)\n",
    "    desc6=driver.find_elements_by_xpath('//div[@class=\"post-summary\"]')\n",
    "    for i in desc6:\n",
    "        description6.append(i.text)\n",
    "    old_post_btn=driver.find_element_by_xpath('//*[text()=\" Older Posts\"]')\n",
    "    old_post_btn.click()"
   ]
  },
  {
   "cell_type": "code",
   "execution_count": 17,
   "metadata": {},
   "outputs": [],
   "source": [
    "date7=[]\n",
    "author7=[]\n",
    "vertical7=[]\n",
    "headline7=[]\n",
    "description7=[]"
   ]
  },
  {
   "cell_type": "code",
   "execution_count": 18,
   "metadata": {},
   "outputs": [],
   "source": [
    "start=646\n",
    "end=662\n",
    "for page in range(start,end):\n",
    "    dates7=driver.find_elements_by_xpath('//time[@class=\"post-published updated\"]')\n",
    "    for i in dates7:\n",
    "        date7.append(i.text)\n",
    "    authors7=driver.find_elements_by_xpath('//i[@class=\"post-author author\"]')\n",
    "    for i in authors7:\n",
    "        author7.append(i.text)\n",
    "    verticals7=driver.find_elements_by_xpath('//div[@class=\"term-badges \"]')\n",
    "    for i in verticals7:\n",
    "        vertical7.append(i.text)\n",
    "    headlines7=driver.find_elements_by_xpath('//h2[@class=\"title\"]')\n",
    "    for i in headlines7:\n",
    "        headline7.append(i.text)\n",
    "    desc7=driver.find_elements_by_xpath('//div[@class=\"post-summary\"]')\n",
    "    for i in desc7:\n",
    "        description7.append(i.text)\n",
    "    old_post_btn=driver.find_element_by_xpath('//*[text()=\" Older Posts\"]')\n",
    "    old_post_btn.click()"
   ]
  },
  {
   "cell_type": "code",
   "execution_count": 21,
   "metadata": {},
   "outputs": [],
   "source": [
    "Date=date1 + date2 + date3 + date4 + date5 + date6 + date7\n",
    "Author= author1 + author2 + author3 + author4 +author5 + author6 + author7\n",
    "Vertical= vertical1 + vertical2 + vertical3 + vertical4 + vertical5 + vertical6 + vertical7\n",
    "Headline= headline1 + headline2 + headline3 + headline4 + headline5+ headline6 + headline7\n",
    "Description= description1 + description2 + description3 + description4 + description5 + description6 + description7"
   ]
  },
  {
   "cell_type": "code",
   "execution_count": 23,
   "metadata": {},
   "outputs": [
    {
     "name": "stdout",
     "output_type": "stream",
     "text": [
      "960 960 960 960 0\n"
     ]
    }
   ],
   "source": [
    "print(len(Date),len(Author),len(Headline),len(Description), len(Vertical))"
   ]
  },
  {
   "cell_type": "code",
   "execution_count": 24,
   "metadata": {},
   "outputs": [
    {
     "data": {
      "text/html": [
       "<div>\n",
       "<style scoped>\n",
       "    .dataframe tbody tr th:only-of-type {\n",
       "        vertical-align: middle;\n",
       "    }\n",
       "\n",
       "    .dataframe tbody tr th {\n",
       "        vertical-align: top;\n",
       "    }\n",
       "\n",
       "    .dataframe thead th {\n",
       "        text-align: right;\n",
       "    }\n",
       "</style>\n",
       "<table border=\"1\" class=\"dataframe\">\n",
       "  <thead>\n",
       "    <tr style=\"text-align: right;\">\n",
       "      <th></th>\n",
       "      <th>DATE</th>\n",
       "      <th>AUTHOR</th>\n",
       "      <th>HEADLINE</th>\n",
       "      <th>DESCRIPTION</th>\n",
       "    </tr>\n",
       "  </thead>\n",
       "  <tbody>\n",
       "    <tr>\n",
       "      <th>0</th>\n",
       "      <td>Jul 1, 2020</td>\n",
       "      <td>Reporter</td>\n",
       "      <td>Kamran Akmal defends younger brother Umar, say...</td>\n",
       "      <td>Karachi, July 1: Discarded Pakistan wicketkeep...</td>\n",
       "    </tr>\n",
       "    <tr>\n",
       "      <th>1</th>\n",
       "      <td>Jul 1, 2020</td>\n",
       "      <td>Reporter</td>\n",
       "      <td>Rohit Sharma has the ablity and temperament to...</td>\n",
       "      <td>Kolkata, July 1: Mike Hussey believes the host...</td>\n",
       "    </tr>\n",
       "    <tr>\n",
       "      <th>2</th>\n",
       "      <td>Jul 1, 2020</td>\n",
       "      <td>Reporter</td>\n",
       "      <td>India, Sri Lanka in talks to reschedule Colomb...</td>\n",
       "      <td>COLOMBO: India and Sri Lanka are engaged in co...</td>\n",
       "    </tr>\n",
       "    <tr>\n",
       "      <th>3</th>\n",
       "      <td>Jul 1, 2020</td>\n",
       "      <td>Reporter</td>\n",
       "      <td>Three injured in explosion at medical clinic i...</td>\n",
       "      <td>TEHRAN: Iranian state television is reporting ...</td>\n",
       "    </tr>\n",
       "    <tr>\n",
       "      <th>4</th>\n",
       "      <td>Jul 1, 2020</td>\n",
       "      <td>Reporter</td>\n",
       "      <td>Judiciary has to be on guard to see police not...</td>\n",
       "      <td>NEW DELHI: Amid outrage over police atrocities...</td>\n",
       "    </tr>\n",
       "    <tr>\n",
       "      <th>...</th>\n",
       "      <td>...</td>\n",
       "      <td>...</td>\n",
       "      <td>...</td>\n",
       "      <td>...</td>\n",
       "    </tr>\n",
       "    <tr>\n",
       "      <th>955</th>\n",
       "      <td>May 31, 2020</td>\n",
       "      <td>Reporter</td>\n",
       "      <td>‘Very outdated group of countries’: Trump post...</td>\n",
       "      <td>WASHINGTON: US President Donald Trump on Satur...</td>\n",
       "    </tr>\n",
       "    <tr>\n",
       "      <th>956</th>\n",
       "      <td>May 31, 2020</td>\n",
       "      <td>Reporter</td>\n",
       "      <td>Coronavirus global case count surpasses 6 mill...</td>\n",
       "      <td>MARYLAND: The number of confirmed cases of cor...</td>\n",
       "    </tr>\n",
       "    <tr>\n",
       "      <th>957</th>\n",
       "      <td>May 31, 2020</td>\n",
       "      <td>Reporter</td>\n",
       "      <td>Oxford University vaccine on COVID-19 is a hum...</td>\n",
       "      <td>LONDON: An Indian-origin scientist, who is par...</td>\n",
       "    </tr>\n",
       "    <tr>\n",
       "      <th>958</th>\n",
       "      <td>May 31, 2020</td>\n",
       "      <td>Reporter</td>\n",
       "      <td>Railing of Taj Mahal’s main mausoleum damaged ...</td>\n",
       "      <td>AGRA: The iconic Taj Mahal was damaged due to ...</td>\n",
       "    </tr>\n",
       "    <tr>\n",
       "      <th>959</th>\n",
       "      <td>May 31, 2020</td>\n",
       "      <td>Reporter</td>\n",
       "      <td>International flight operations to remain susp...</td>\n",
       "      <td>NEW DELHI: Indian aviation regulator DGCA on S...</td>\n",
       "    </tr>\n",
       "  </tbody>\n",
       "</table>\n",
       "<p>960 rows × 4 columns</p>\n",
       "</div>"
      ],
      "text/plain": [
       "             DATE    AUTHOR  \\\n",
       "0     Jul 1, 2020  Reporter   \n",
       "1     Jul 1, 2020  Reporter   \n",
       "2     Jul 1, 2020  Reporter   \n",
       "3     Jul 1, 2020  Reporter   \n",
       "4     Jul 1, 2020  Reporter   \n",
       "..            ...       ...   \n",
       "955  May 31, 2020  Reporter   \n",
       "956  May 31, 2020  Reporter   \n",
       "957  May 31, 2020  Reporter   \n",
       "958  May 31, 2020  Reporter   \n",
       "959  May 31, 2020  Reporter   \n",
       "\n",
       "                                              HEADLINE  \\\n",
       "0    Kamran Akmal defends younger brother Umar, say...   \n",
       "1    Rohit Sharma has the ablity and temperament to...   \n",
       "2    India, Sri Lanka in talks to reschedule Colomb...   \n",
       "3    Three injured in explosion at medical clinic i...   \n",
       "4    Judiciary has to be on guard to see police not...   \n",
       "..                                                 ...   \n",
       "955  ‘Very outdated group of countries’: Trump post...   \n",
       "956  Coronavirus global case count surpasses 6 mill...   \n",
       "957  Oxford University vaccine on COVID-19 is a hum...   \n",
       "958  Railing of Taj Mahal’s main mausoleum damaged ...   \n",
       "959  International flight operations to remain susp...   \n",
       "\n",
       "                                           DESCRIPTION  \n",
       "0    Karachi, July 1: Discarded Pakistan wicketkeep...  \n",
       "1    Kolkata, July 1: Mike Hussey believes the host...  \n",
       "2    COLOMBO: India and Sri Lanka are engaged in co...  \n",
       "3    TEHRAN: Iranian state television is reporting ...  \n",
       "4    NEW DELHI: Amid outrage over police atrocities...  \n",
       "..                                                 ...  \n",
       "955  WASHINGTON: US President Donald Trump on Satur...  \n",
       "956  MARYLAND: The number of confirmed cases of cor...  \n",
       "957  LONDON: An Indian-origin scientist, who is par...  \n",
       "958  AGRA: The iconic Taj Mahal was damaged due to ...  \n",
       "959  NEW DELHI: Indian aviation regulator DGCA on S...  \n",
       "\n",
       "[960 rows x 4 columns]"
      ]
     },
     "execution_count": 24,
     "metadata": {},
     "output_type": "execute_result"
    }
   ],
   "source": [
    "news=pd.DataFrame({})\n",
    "news['DATE']=Date\n",
    "news['AUTHOR']=Author\n",
    "news['HEADLINE']=Headline\n",
    "news['DESCRIPTION']=Description\n",
    "news"
   ]
  },
  {
   "cell_type": "code",
   "execution_count": 25,
   "metadata": {},
   "outputs": [],
   "source": [
    "news.to_csv(\"ebm_news.csv\") # To save the file in CSV format"
   ]
  },
  {
   "cell_type": "code",
   "execution_count": 26,
   "metadata": {},
   "outputs": [],
   "source": [
    "news.to_json(\"ebm_news.json\") #To save the scrapped data in json format"
   ]
  },
  {
   "cell_type": "code",
   "execution_count": null,
   "metadata": {},
   "outputs": [],
   "source": []
  }
 ],
 "metadata": {
  "kernelspec": {
   "display_name": "Python 3",
   "language": "python",
   "name": "python3"
  },
  "language_info": {
   "codemirror_mode": {
    "name": "ipython",
    "version": 3
   },
   "file_extension": ".py",
   "mimetype": "text/x-python",
   "name": "python",
   "nbconvert_exporter": "python",
   "pygments_lexer": "ipython3",
   "version": "3.7.6"
  }
 },
 "nbformat": 4,
 "nbformat_minor": 4
}
